{
 "cells": [
  {
   "cell_type": "code",
   "execution_count": 1,
   "metadata": {
    "collapsed": true
   },
   "outputs": [],
   "source": [
    "%matplotlib inline\n",
    "import numpy as np\n",
    "import numpy.random as rnd\n",
    "import matplotlib as mpl\n",
    "import matplotlib.pyplot as plt\n",
    "import matplotlib.gridspec as gridspec\n",
    "import seaborn\n",
    "import sympy as sm"
   ]
  },
  {
   "cell_type": "code",
   "execution_count": 9,
   "metadata": {
    "collapsed": false
   },
   "outputs": [],
   "source": [
    "x,y,t = sm.symbols('x,y,t')"
   ]
  },
  {
   "cell_type": "code",
   "execution_count": 11,
   "metadata": {
    "collapsed": false
   },
   "outputs": [
    {
     "data": {
      "text/plain": [
       "t**t(t)"
      ]
     },
     "execution_count": 11,
     "metadata": {},
     "output_type": "execute_result"
    }
   ],
   "source": [
    "f = sm.Function('t**t')\n",
    "f(t)"
   ]
  },
  {
   "cell_type": "code",
   "execution_count": 108,
   "metadata": {
    "collapsed": false
   },
   "outputs": [],
   "source": [
    "def ff(t):\n",
    "    return np.array([np.real(np.exp((t+0j)*np.log(t+0j))),np.imag(np.exp((t+0j)*np.log(t+0j)))])"
   ]
  },
  {
   "cell_type": "code",
   "execution_count": 109,
   "metadata": {
    "collapsed": false
   },
   "outputs": [],
   "source": [
    "t=np.arange(-3.,2.,0.01)\n",
    "res=ff(t)"
   ]
  },
  {
   "cell_type": "code",
   "execution_count": 112,
   "metadata": {
    "collapsed": false
   },
   "outputs": [
    {
     "ename": "TypeError",
     "evalue": "Input must be a 2D array.",
     "output_type": "error",
     "traceback": [
      "\u001b[1;31m---------------------------------------------------------------------------\u001b[0m",
      "\u001b[1;31mTypeError\u001b[0m                                 Traceback (most recent call last)",
      "\u001b[1;32m<ipython-input-112-46edb79a0f5d>\u001b[0m in \u001b[0;36m<module>\u001b[1;34m()\u001b[0m\n\u001b[1;32m----> 1\u001b[1;33m \u001b[0mplt\u001b[0m\u001b[1;33m.\u001b[0m\u001b[0mcontourf\u001b[0m\u001b[1;33m(\u001b[0m\u001b[0mt\u001b[0m\u001b[1;33m,\u001b[0m\u001b[0mres\u001b[0m\u001b[1;33m)\u001b[0m\u001b[1;33m\u001b[0m\u001b[0m\n\u001b[0m",
      "\u001b[1;32m/usr/local/lib/python2.7/dist-packages/matplotlib/pyplot.pyc\u001b[0m in \u001b[0;36mcontourf\u001b[1;34m(*args, **kwargs)\u001b[0m\n\u001b[0;32m   2781\u001b[0m         \u001b[0max\u001b[0m\u001b[1;33m.\u001b[0m\u001b[0mhold\u001b[0m\u001b[1;33m(\u001b[0m\u001b[0mhold\u001b[0m\u001b[1;33m)\u001b[0m\u001b[1;33m\u001b[0m\u001b[0m\n\u001b[0;32m   2782\u001b[0m     \u001b[1;32mtry\u001b[0m\u001b[1;33m:\u001b[0m\u001b[1;33m\u001b[0m\u001b[0m\n\u001b[1;32m-> 2783\u001b[1;33m         \u001b[0mret\u001b[0m \u001b[1;33m=\u001b[0m \u001b[0max\u001b[0m\u001b[1;33m.\u001b[0m\u001b[0mcontourf\u001b[0m\u001b[1;33m(\u001b[0m\u001b[1;33m*\u001b[0m\u001b[0margs\u001b[0m\u001b[1;33m,\u001b[0m \u001b[1;33m**\u001b[0m\u001b[0mkwargs\u001b[0m\u001b[1;33m)\u001b[0m\u001b[1;33m\u001b[0m\u001b[0m\n\u001b[0m\u001b[0;32m   2784\u001b[0m     \u001b[1;32mfinally\u001b[0m\u001b[1;33m:\u001b[0m\u001b[1;33m\u001b[0m\u001b[0m\n\u001b[0;32m   2785\u001b[0m         \u001b[0max\u001b[0m\u001b[1;33m.\u001b[0m\u001b[0mhold\u001b[0m\u001b[1;33m(\u001b[0m\u001b[0mwashold\u001b[0m\u001b[1;33m)\u001b[0m\u001b[1;33m\u001b[0m\u001b[0m\n",
      "\u001b[1;32m/usr/local/lib/python2.7/dist-packages/matplotlib/__init__.pyc\u001b[0m in \u001b[0;36minner\u001b[1;34m(ax, *args, **kwargs)\u001b[0m\n\u001b[0;32m   1810\u001b[0m                     warnings.warn(msg % (label_namer, func.__name__),\n\u001b[0;32m   1811\u001b[0m                                   RuntimeWarning, stacklevel=2)\n\u001b[1;32m-> 1812\u001b[1;33m             \u001b[1;32mreturn\u001b[0m \u001b[0mfunc\u001b[0m\u001b[1;33m(\u001b[0m\u001b[0max\u001b[0m\u001b[1;33m,\u001b[0m \u001b[1;33m*\u001b[0m\u001b[0margs\u001b[0m\u001b[1;33m,\u001b[0m \u001b[1;33m**\u001b[0m\u001b[0mkwargs\u001b[0m\u001b[1;33m)\u001b[0m\u001b[1;33m\u001b[0m\u001b[0m\n\u001b[0m\u001b[0;32m   1813\u001b[0m         \u001b[0mpre_doc\u001b[0m \u001b[1;33m=\u001b[0m \u001b[0minner\u001b[0m\u001b[1;33m.\u001b[0m\u001b[0m__doc__\u001b[0m\u001b[1;33m\u001b[0m\u001b[0m\n\u001b[0;32m   1814\u001b[0m         \u001b[1;32mif\u001b[0m \u001b[0mpre_doc\u001b[0m \u001b[1;32mis\u001b[0m \u001b[0mNone\u001b[0m\u001b[1;33m:\u001b[0m\u001b[1;33m\u001b[0m\u001b[0m\n",
      "\u001b[1;32m/usr/local/lib/python2.7/dist-packages/matplotlib/axes/_axes.pyc\u001b[0m in \u001b[0;36mcontourf\u001b[1;34m(self, *args, **kwargs)\u001b[0m\n\u001b[0;32m   5650\u001b[0m             \u001b[0mself\u001b[0m\u001b[1;33m.\u001b[0m\u001b[0mcla\u001b[0m\u001b[1;33m(\u001b[0m\u001b[1;33m)\u001b[0m\u001b[1;33m\u001b[0m\u001b[0m\n\u001b[0;32m   5651\u001b[0m         \u001b[0mkwargs\u001b[0m\u001b[1;33m[\u001b[0m\u001b[1;34m'filled'\u001b[0m\u001b[1;33m]\u001b[0m \u001b[1;33m=\u001b[0m \u001b[0mTrue\u001b[0m\u001b[1;33m\u001b[0m\u001b[0m\n\u001b[1;32m-> 5652\u001b[1;33m         \u001b[1;32mreturn\u001b[0m \u001b[0mmcontour\u001b[0m\u001b[1;33m.\u001b[0m\u001b[0mQuadContourSet\u001b[0m\u001b[1;33m(\u001b[0m\u001b[0mself\u001b[0m\u001b[1;33m,\u001b[0m \u001b[1;33m*\u001b[0m\u001b[0margs\u001b[0m\u001b[1;33m,\u001b[0m \u001b[1;33m**\u001b[0m\u001b[0mkwargs\u001b[0m\u001b[1;33m)\u001b[0m\u001b[1;33m\u001b[0m\u001b[0m\n\u001b[0m\u001b[0;32m   5653\u001b[0m     \u001b[0mcontourf\u001b[0m\u001b[1;33m.\u001b[0m\u001b[0m__doc__\u001b[0m \u001b[1;33m=\u001b[0m \u001b[0mmcontour\u001b[0m\u001b[1;33m.\u001b[0m\u001b[0mQuadContourSet\u001b[0m\u001b[1;33m.\u001b[0m\u001b[0mcontour_doc\u001b[0m\u001b[1;33m\u001b[0m\u001b[0m\n\u001b[0;32m   5654\u001b[0m \u001b[1;33m\u001b[0m\u001b[0m\n",
      "\u001b[1;32m/usr/local/lib/python2.7/dist-packages/matplotlib/contour.pyc\u001b[0m in \u001b[0;36m__init__\u001b[1;34m(self, ax, *args, **kwargs)\u001b[0m\n\u001b[0;32m   1422\u001b[0m         \u001b[0mare\u001b[0m \u001b[0mdescribed\u001b[0m \u001b[1;32min\u001b[0m \u001b[0mQuadContourSet\u001b[0m\u001b[1;33m.\u001b[0m\u001b[0mcontour_doc\u001b[0m\u001b[1;33m.\u001b[0m\u001b[1;33m\u001b[0m\u001b[0m\n\u001b[0;32m   1423\u001b[0m         \"\"\"\n\u001b[1;32m-> 1424\u001b[1;33m         \u001b[0mContourSet\u001b[0m\u001b[1;33m.\u001b[0m\u001b[0m__init__\u001b[0m\u001b[1;33m(\u001b[0m\u001b[0mself\u001b[0m\u001b[1;33m,\u001b[0m \u001b[0max\u001b[0m\u001b[1;33m,\u001b[0m \u001b[1;33m*\u001b[0m\u001b[0margs\u001b[0m\u001b[1;33m,\u001b[0m \u001b[1;33m**\u001b[0m\u001b[0mkwargs\u001b[0m\u001b[1;33m)\u001b[0m\u001b[1;33m\u001b[0m\u001b[0m\n\u001b[0m\u001b[0;32m   1425\u001b[0m \u001b[1;33m\u001b[0m\u001b[0m\n\u001b[0;32m   1426\u001b[0m     \u001b[1;32mdef\u001b[0m \u001b[0m_process_args\u001b[0m\u001b[1;33m(\u001b[0m\u001b[0mself\u001b[0m\u001b[1;33m,\u001b[0m \u001b[1;33m*\u001b[0m\u001b[0margs\u001b[0m\u001b[1;33m,\u001b[0m \u001b[1;33m**\u001b[0m\u001b[0mkwargs\u001b[0m\u001b[1;33m)\u001b[0m\u001b[1;33m:\u001b[0m\u001b[1;33m\u001b[0m\u001b[0m\n",
      "\u001b[1;32m/usr/local/lib/python2.7/dist-packages/matplotlib/contour.pyc\u001b[0m in \u001b[0;36m__init__\u001b[1;34m(self, ax, *args, **kwargs)\u001b[0m\n\u001b[0;32m    861\u001b[0m         \u001b[0mself\u001b[0m\u001b[1;33m.\u001b[0m\u001b[0m_transform\u001b[0m \u001b[1;33m=\u001b[0m \u001b[0mkwargs\u001b[0m\u001b[1;33m.\u001b[0m\u001b[0mget\u001b[0m\u001b[1;33m(\u001b[0m\u001b[1;34m'transform'\u001b[0m\u001b[1;33m,\u001b[0m \u001b[0mNone\u001b[0m\u001b[1;33m)\u001b[0m\u001b[1;33m\u001b[0m\u001b[0m\n\u001b[0;32m    862\u001b[0m \u001b[1;33m\u001b[0m\u001b[0m\n\u001b[1;32m--> 863\u001b[1;33m         \u001b[0mself\u001b[0m\u001b[1;33m.\u001b[0m\u001b[0m_process_args\u001b[0m\u001b[1;33m(\u001b[0m\u001b[1;33m*\u001b[0m\u001b[0margs\u001b[0m\u001b[1;33m,\u001b[0m \u001b[1;33m**\u001b[0m\u001b[0mkwargs\u001b[0m\u001b[1;33m)\u001b[0m\u001b[1;33m\u001b[0m\u001b[0m\n\u001b[0m\u001b[0;32m    864\u001b[0m         \u001b[0mself\u001b[0m\u001b[1;33m.\u001b[0m\u001b[0m_process_levels\u001b[0m\u001b[1;33m(\u001b[0m\u001b[1;33m)\u001b[0m\u001b[1;33m\u001b[0m\u001b[0m\n\u001b[0;32m    865\u001b[0m \u001b[1;33m\u001b[0m\u001b[0m\n",
      "\u001b[1;32m/usr/local/lib/python2.7/dist-packages/matplotlib/contour.pyc\u001b[0m in \u001b[0;36m_process_args\u001b[1;34m(self, *args, **kwargs)\u001b[0m\n\u001b[0;32m   1443\u001b[0m                 \u001b[0mself\u001b[0m\u001b[1;33m.\u001b[0m\u001b[0m_corner_mask\u001b[0m \u001b[1;33m=\u001b[0m \u001b[0mmpl\u001b[0m\u001b[1;33m.\u001b[0m\u001b[0mrcParams\u001b[0m\u001b[1;33m[\u001b[0m\u001b[1;34m'contour.corner_mask'\u001b[0m\u001b[1;33m]\u001b[0m\u001b[1;33m\u001b[0m\u001b[0m\n\u001b[0;32m   1444\u001b[0m \u001b[1;33m\u001b[0m\u001b[0m\n\u001b[1;32m-> 1445\u001b[1;33m             \u001b[0mx\u001b[0m\u001b[1;33m,\u001b[0m \u001b[0my\u001b[0m\u001b[1;33m,\u001b[0m \u001b[0mz\u001b[0m \u001b[1;33m=\u001b[0m \u001b[0mself\u001b[0m\u001b[1;33m.\u001b[0m\u001b[0m_contour_args\u001b[0m\u001b[1;33m(\u001b[0m\u001b[0margs\u001b[0m\u001b[1;33m,\u001b[0m \u001b[0mkwargs\u001b[0m\u001b[1;33m)\u001b[0m\u001b[1;33m\u001b[0m\u001b[0m\n\u001b[0m\u001b[0;32m   1446\u001b[0m \u001b[1;33m\u001b[0m\u001b[0m\n\u001b[0;32m   1447\u001b[0m             \u001b[0m_mask\u001b[0m \u001b[1;33m=\u001b[0m \u001b[0mma\u001b[0m\u001b[1;33m.\u001b[0m\u001b[0mgetmask\u001b[0m\u001b[1;33m(\u001b[0m\u001b[0mz\u001b[0m\u001b[1;33m)\u001b[0m\u001b[1;33m\u001b[0m\u001b[0m\n",
      "\u001b[1;32m/usr/local/lib/python2.7/dist-packages/matplotlib/contour.pyc\u001b[0m in \u001b[0;36m_contour_args\u001b[1;34m(self, args, kwargs)\u001b[0m\n\u001b[0;32m   1523\u001b[0m         \u001b[1;32mif\u001b[0m \u001b[0mNargs\u001b[0m \u001b[1;33m<=\u001b[0m \u001b[1;36m2\u001b[0m\u001b[1;33m:\u001b[0m\u001b[1;33m\u001b[0m\u001b[0m\n\u001b[0;32m   1524\u001b[0m             \u001b[0mz\u001b[0m \u001b[1;33m=\u001b[0m \u001b[0mma\u001b[0m\u001b[1;33m.\u001b[0m\u001b[0masarray\u001b[0m\u001b[1;33m(\u001b[0m\u001b[0margs\u001b[0m\u001b[1;33m[\u001b[0m\u001b[1;36m0\u001b[0m\u001b[1;33m]\u001b[0m\u001b[1;33m,\u001b[0m \u001b[0mdtype\u001b[0m\u001b[1;33m=\u001b[0m\u001b[0mnp\u001b[0m\u001b[1;33m.\u001b[0m\u001b[0mfloat64\u001b[0m\u001b[1;33m)\u001b[0m\u001b[1;33m\u001b[0m\u001b[0m\n\u001b[1;32m-> 1525\u001b[1;33m             \u001b[0mx\u001b[0m\u001b[1;33m,\u001b[0m \u001b[0my\u001b[0m \u001b[1;33m=\u001b[0m \u001b[0mself\u001b[0m\u001b[1;33m.\u001b[0m\u001b[0m_initialize_x_y\u001b[0m\u001b[1;33m(\u001b[0m\u001b[0mz\u001b[0m\u001b[1;33m)\u001b[0m\u001b[1;33m\u001b[0m\u001b[0m\n\u001b[0m\u001b[0;32m   1526\u001b[0m             \u001b[0margs\u001b[0m \u001b[1;33m=\u001b[0m \u001b[0margs\u001b[0m\u001b[1;33m[\u001b[0m\u001b[1;36m1\u001b[0m\u001b[1;33m:\u001b[0m\u001b[1;33m]\u001b[0m\u001b[1;33m\u001b[0m\u001b[0m\n\u001b[0;32m   1527\u001b[0m         \u001b[1;32melif\u001b[0m \u001b[0mNargs\u001b[0m \u001b[1;33m<=\u001b[0m \u001b[1;36m4\u001b[0m\u001b[1;33m:\u001b[0m\u001b[1;33m\u001b[0m\u001b[0m\n",
      "\u001b[1;32m/usr/local/lib/python2.7/dist-packages/matplotlib/contour.pyc\u001b[0m in \u001b[0;36m_initialize_x_y\u001b[1;34m(self, z)\u001b[0m\n\u001b[0;32m   1608\u001b[0m         \"\"\"\n\u001b[0;32m   1609\u001b[0m         \u001b[1;32mif\u001b[0m \u001b[0mz\u001b[0m\u001b[1;33m.\u001b[0m\u001b[0mndim\u001b[0m \u001b[1;33m!=\u001b[0m \u001b[1;36m2\u001b[0m\u001b[1;33m:\u001b[0m\u001b[1;33m\u001b[0m\u001b[0m\n\u001b[1;32m-> 1610\u001b[1;33m             \u001b[1;32mraise\u001b[0m \u001b[0mTypeError\u001b[0m\u001b[1;33m(\u001b[0m\u001b[1;34m\"Input must be a 2D array.\"\u001b[0m\u001b[1;33m)\u001b[0m\u001b[1;33m\u001b[0m\u001b[0m\n\u001b[0m\u001b[0;32m   1611\u001b[0m         \u001b[1;32melse\u001b[0m\u001b[1;33m:\u001b[0m\u001b[1;33m\u001b[0m\u001b[0m\n\u001b[0;32m   1612\u001b[0m             \u001b[0mNy\u001b[0m\u001b[1;33m,\u001b[0m \u001b[0mNx\u001b[0m \u001b[1;33m=\u001b[0m \u001b[0mz\u001b[0m\u001b[1;33m.\u001b[0m\u001b[0mshape\u001b[0m\u001b[1;33m\u001b[0m\u001b[0m\n",
      "\u001b[1;31mTypeError\u001b[0m: Input must be a 2D array."
     ]
    },
    {
     "data": {
      "image/png": "[encoded data removed]",
      "text/plain": [
       "<matplotlib.figure.Figure at 0x7fe8aee527d0>"
      ]
     },
     "metadata": {},
     "output_type": "display_data"
    }
   ],
   "source": [
    "plt.contourf(t,res)"
   ]
  },
  {
   "cell_type": "code",
   "execution_count": 71,
   "metadata": {
    "collapsed": false
   },
   "outputs": [
    {
     "data": {
      "text/plain": [
       "array([ -3.70370370e-02,  -3.78032202e-02,  -3.85458570e-02,\n",
       "        -3.92628338e-02,  -3.99519904e-02,  -4.06111212e-02,\n",
       "        -4.12379774e-02,  -4.18302683e-02,  -4.23856637e-02,\n",
       "        -4.29017962e-02,  -4.33762628e-02,  -4.38066282e-02,\n",
       "        -4.41904266e-02,  -4.45251651e-02,  -4.48083263e-02,\n",
       "        -4.50373712e-02,  -4.52097428e-02,  -4.53228693e-02,\n",
       "        -4.53741673e-02,  -4.53610461e-02,  -4.52809111e-02,\n",
       "        -4.51311679e-02,  -4.49092265e-02,  -4.46125055e-02,\n",
       "        -4.42384367e-02,  -4.37844697e-02,  -4.32480765e-02,\n",
       "        -4.26267565e-02,  -4.19180417e-02,  -4.11195015e-02,\n",
       "        -4.02287485e-02,  -3.92434436e-02,  -3.81613016e-02,\n",
       "        -3.69800974e-02,  -3.56976710e-02,  -3.43119341e-02,\n",
       "        -3.28208760e-02,  -3.12225696e-02,  -2.95151776e-02,\n",
       "        -2.76969593e-02,  -2.57662763e-02,  -2.37215995e-02,\n",
       "        -2.15615155e-02,  -1.92847332e-02,  -1.68900903e-02,\n",
       "        -1.43765600e-02,  -1.17432580e-02,  -8.98944896e-03,\n",
       "        -6.11455300e-03,  -3.11815278e-03,  -3.38435741e-15,\n",
       "         3.23997797e-03,   6.60167147e-03,   1.00847820e-02,\n",
       "         1.36888158e-02,   1.74130776e-02,   2.12566639e-02,\n",
       "         2.52184574e-02,   2.92971207e-02,   3.34910903e-02,\n",
       "         3.77985712e-02,   4.22175312e-02,   4.67456956e-02,\n",
       "         5.13805419e-02,   5.61192952e-02,   6.09589234e-02,\n",
       "         6.58961329e-02,   7.09273644e-02,   7.60487890e-02,\n",
       "         8.12563049e-02,   8.65455341e-02,   9.19118198e-02,\n",
       "         9.73502236e-02,   1.02855524e-01,   1.08422213e-01,\n",
       "         1.14044498e-01,   1.19716298e-01,   1.25431244e-01,\n",
       "         1.31182681e-01,   1.36963667e-01,   1.42766971e-01,\n",
       "         1.48585082e-01,   1.54410204e-01,   1.60234263e-01,\n",
       "         1.66048906e-01,   1.71845512e-01,   1.77615189e-01,\n",
       "         1.83348781e-01,   1.89036877e-01,   1.94669813e-01,\n",
       "         2.00237681e-01,   2.05730336e-01,   2.11137404e-01,\n",
       "         2.16448292e-01,   2.21652193e-01,   2.26738105e-01,\n",
       "         2.31694830e-01,   2.36510997e-01,   2.41175066e-01,\n",
       "         2.45675344e-01,   2.50000000e-01,   2.54137075e-01,\n",
       "         2.58074501e-01,   2.61800114e-01,   2.65301671e-01,\n",
       "         2.68566868e-01,   2.71583356e-01,   2.74338760e-01,\n",
       "         2.76820695e-01,   2.79016792e-01,   2.80914711e-01,\n",
       "         2.82502166e-01,   2.83766943e-01,   2.84696926e-01,\n",
       "         2.85280115e-01,   2.85504650e-01,   2.85358838e-01,\n",
       "         2.84831170e-01,   2.83910351e-01,   2.82585322e-01,\n",
       "         2.80845284e-01,   2.78679725e-01,   2.76078447e-01,\n",
       "         2.73031587e-01,   2.69529647e-01,   2.65563520e-01,\n",
       "         2.61124515e-01,   2.56204384e-01,   2.50795347e-01,\n",
       "         2.44890124e-01,   2.38481953e-01,   2.31564623e-01,\n",
       "         2.24132499e-01,   2.16180547e-01,   2.07704358e-01,\n",
       "         1.98700178e-01,   1.89164930e-01,   1.79096239e-01,\n",
       "         1.68492456e-01,   1.57352684e-01,   1.45676800e-01,\n",
       "         1.33465473e-01,   1.20720195e-01,   1.07443292e-01,\n",
       "         9.36379523e-02,   7.93082395e-02,   6.44591144e-02,\n",
       "         4.90964511e-02,   3.32270529e-02,   1.68586673e-02,\n",
       "         5.45313378e-14,  -1.73392733e-02,  -3.51484953e-02,\n",
       "        -5.34160178e-02,  -7.21291933e-02,  -9.12743688e-02,\n",
       "        -1.10836880e-01,  -1.30801049e-01,  -1.51150183e-01,\n",
       "        -1.71866570e-01,  -1.92931488e-01,  -2.14325203e-01,\n",
       "        -2.36026978e-01,  -2.58015076e-01,  -2.80266777e-01,\n",
       "        -3.02758383e-01,  -3.25465235e-01,  -3.48361728e-01,\n",
       "        -3.71421328e-01,  -3.94616595e-01,  -4.17919203e-01,\n",
       "        -4.41299965e-01,  -4.64728860e-01,  -4.88175061e-01,\n",
       "        -5.11606969e-01,  -5.34992244e-01,  -5.58297841e-01,\n",
       "        -5.81490050e-01,  -6.04534533e-01,  -6.27396370e-01,\n",
       "        -6.50040101e-01,  -6.72429776e-01,  -6.94529001e-01,\n",
       "        -7.16300988e-01,  -7.37708614e-01,  -7.58714471e-01,\n",
       "        -7.79280925e-01,  -7.99370176e-01,  -8.18944317e-01,\n",
       "        -8.37965397e-01,  -8.56395491e-01,  -8.74196756e-01,\n",
       "        -8.91331508e-01,  -9.07762285e-01,  -9.23451923e-01,\n",
       "        -9.38363622e-01,  -9.52461023e-01,  -9.65708279e-01,\n",
       "        -9.78070133e-01,  -9.89511991e-01,  -1.00000000e+00,\n",
       "        -1.00950112e+00,  -1.01798322e+00,  -1.02541511e+00,\n",
       "        -1.03176669e+00,  -1.03700894e+00,  -1.04111409e+00,\n",
       "        -1.04405562e+00,  -1.04580837e+00,  -1.04634862e+00,\n",
       "        -1.04565415e+00,  -1.04370433e+00,  -1.04048017e+00,\n",
       "        -1.03596440e+00,  -1.03014156e+00,  -1.02299803e+00,\n",
       "        -1.01452212e+00,  -1.00470414e+00,  -9.93536427e-01,\n",
       "        -9.81013436e-01,  -9.67131781e-01,  -9.51890291e-01,\n",
       "        -9.35290057e-01,  -9.17334477e-01,  -8.98029303e-01,\n",
       "        -8.77382675e-01,  -8.55405161e-01,  -8.32109781e-01,\n",
       "        -8.07512041e-01,  -7.81629950e-01,  -7.54484040e-01,\n",
       "        -7.26097380e-01,  -6.96495583e-01,  -6.65706811e-01,\n",
       "        -6.33761770e-01,  -6.00693708e-01,  -5.66538400e-01,\n",
       "        -5.31334131e-01,  -4.95121673e-01,  -4.57944257e-01,\n",
       "        -4.19847541e-01,  -3.80879564e-01,  -3.41090708e-01,\n",
       "        -3.00533642e-01,  -2.59263265e-01,  -2.17336647e-01,\n",
       "        -1.74812955e-01,  -1.31753384e-01,  -8.82210734e-02,\n",
       "        -4.42810226e-02,  -2.36683347e-13,   4.45535539e-02,\n",
       "         8.93096284e-02,   1.34196749e-01,   1.79142092e-01,\n",
       "         2.24071597e-01,   2.68910094e-01,   3.13581423e-01,\n",
       "         3.58008570e-01,   4.02113800e-01,   4.45818789e-01,\n",
       "         4.89044771e-01,   5.31712681e-01,   5.73743294e-01,\n",
       "         6.15057381e-01,   6.55575854e-01,   6.95219914e-01,\n",
       "         7.33911204e-01,   7.71571957e-01,   8.08125140e-01,\n",
       "         8.43494604e-01,   8.77605225e-01,   9.10383034e-01,\n",
       "         9.41755356e-01,   9.71650925e-01,   1.00000000e+00,\n",
       "         1.02673446e+00,   1.05178790e+00,   1.07509568e+00,\n",
       "         1.09659497e+00,   1.11622474e+00,   1.13392580e+00,\n",
       "         1.14964063e+00,   1.16331330e+00,   1.17488924e+00,\n",
       "         1.18431491e+00,   1.19153733e+00,   1.19650343e+00,\n",
       "         1.19915910e+00,   1.19944792e+00,   1.19730922e+00,\n",
       "         1.19267536e+00,   1.18546767e+00,   1.17559008e+00,\n",
       "         1.16291891e+00,   1.14728529e+00,   1.12844263e+00,\n",
       "         1.10599881e+00,   1.07924880e+00,   1.04661185e+00,\n",
       "         1.00000000e+00,   9.54992586e-01,   9.24742036e-01,\n",
       "         9.00147413e-01,   8.79189312e-01,   8.60891659e-01,\n",
       "         8.44673900e-01,   8.30150555e-01,   8.17047300e-01,\n",
       "         8.05159323e-01,   7.94328235e-01,   7.84428195e-01,\n",
       "         7.75357067e-01,   7.67030504e-01,   7.59377850e-01,\n",
       "         7.52339196e-01,   7.45863229e-01,   7.39905604e-01,\n",
       "         7.34427704e-01,   7.29395676e-01,   7.24779664e-01,\n",
       "         7.20553201e-01,   7.16692715e-01,   7.13177121e-01,\n",
       "         7.09987492e-01,   7.07106781e-01,   7.04519585e-01,\n",
       "         7.02211951e-01,   7.00171209e-01,   6.98385830e-01,\n",
       "         6.96845302e-01,   6.95540023e-01,   6.94461211e-01,\n",
       "         6.93600824e-01,   6.92951488e-01,   6.92506438e-01,\n",
       "         6.92259462e-01,   6.92204850e-01,   6.92337358e-01,\n",
       "         6.92652166e-01,   6.93144843e-01,   6.93811320e-01,\n",
       "         6.94647860e-01,   6.95651035e-01,   6.96817706e-01,\n",
       "         6.98144999e-01,   6.99630288e-01,   7.01271183e-01,\n",
       "         7.03065511e-01,   7.05011302e-01,   7.07106781e-01,\n",
       "         7.09350354e-01,   7.11740598e-01,   7.14276252e-01,\n",
       "         7.16956209e-01,   7.19779510e-01,   7.22745332e-01,\n",
       "         7.25852986e-01,   7.29101911e-01,   7.32491664e-01,\n",
       "         7.36021923e-01,   7.39692473e-01,   7.43503209e-01,\n",
       "         7.47454130e-01,   7.51545335e-01,   7.55777018e-01,\n",
       "         7.60149471e-01,   7.64663073e-01,   7.69318295e-01,\n",
       "         7.74115695e-01,   7.79055913e-01,   7.84139674e-01,\n",
       "         7.89367783e-01,   7.94741127e-01,   8.00260669e-01,\n",
       "         8.05927449e-01,   8.11742585e-01,   8.17707269e-01,\n",
       "         8.23822767e-01,   8.30090421e-01,   8.36511642e-01,\n",
       "         8.43087917e-01,   8.49820805e-01,   8.56711934e-01,\n",
       "         8.63763007e-01,   8.70975797e-01,   8.78352149e-01,\n",
       "         8.85893979e-01,   8.93603274e-01,   9.01482096e-01,\n",
       "         9.09532576e-01,   9.17756918e-01,   9.26157400e-01,\n",
       "         9.34736372e-01,   9.43496259e-01,   9.52439558e-01,\n",
       "         9.61568845e-01,   9.70886768e-01,   9.80396053e-01,\n",
       "         9.90099503e-01,   1.00000000e+00,   1.01010050e+00,\n",
       "         1.02040405e+00,   1.03091377e+00,   1.04163286e+00,\n",
       "         1.05256461e+00,   1.06371239e+00,   1.07507965e+00,\n",
       "         1.08666995e+00,   1.09848690e+00,   1.11053424e+00,\n",
       "         1.12281578e+00,   1.13533542e+00,   1.14809716e+00,\n",
       "         1.16110509e+00,   1.17436342e+00,   1.18787644e+00,\n",
       "         1.20164853e+00,   1.21568419e+00,   1.22998803e+00,\n",
       "         1.24456475e+00,   1.25941917e+00,   1.27455621e+00,\n",
       "         1.28998092e+00,   1.30569845e+00,   1.32171408e+00,\n",
       "         1.33803319e+00,   1.35466130e+00,   1.37160406e+00,\n",
       "         1.38886722e+00,   1.40645667e+00,   1.42437846e+00,\n",
       "         1.44263874e+00,   1.46124380e+00,   1.48020010e+00,\n",
       "         1.49951422e+00,   1.51919288e+00,   1.53924296e+00,\n",
       "         1.55967151e+00,   1.58048571e+00,   1.60169290e+00,\n",
       "         1.62330060e+00,   1.64531648e+00,   1.66774840e+00,\n",
       "         1.69060438e+00,   1.71389260e+00,   1.73762145e+00,\n",
       "         1.76179950e+00,   1.78643549e+00,   1.81153838e+00,\n",
       "         1.83711731e+00,   1.86318162e+00,   1.88974086e+00,\n",
       "         1.91680480e+00,   1.94438342e+00,   1.97248692e+00,\n",
       "         2.00112572e+00,   2.03031047e+00,   2.06005207e+00,\n",
       "         2.09036164e+00,   2.12125057e+00,   2.15273048e+00,\n",
       "         2.18481326e+00,   2.21751106e+00,   2.25083630e+00,\n",
       "         2.28480167e+00,   2.31942015e+00,   2.35470500e+00,\n",
       "         2.39066979e+00,   2.42732836e+00,   2.46469490e+00,\n",
       "         2.50278388e+00,   2.54161011e+00,   2.58118872e+00,\n",
       "         2.62153519e+00,   2.66266534e+00,   2.70459534e+00,\n",
       "         2.74734172e+00,   2.79092139e+00,   2.83535163e+00,\n",
       "         2.88065010e+00,   2.92683487e+00,   2.97392441e+00,\n",
       "         3.02193761e+00,   3.07089378e+00,   3.12081265e+00,\n",
       "         3.17171442e+00,   3.22361972e+00,   3.27654968e+00,\n",
       "         3.33052586e+00,   3.38557034e+00,   3.44170570e+00,\n",
       "         3.49895502e+00,   3.55734189e+00,   3.61689046e+00,\n",
       "         3.67762542e+00,   3.73957200e+00,   3.80275605e+00,\n",
       "         3.86720395e+00,   3.93294273e+00])"
      ]
     },
     "execution_count": 71,
     "metadata": {},
     "output_type": "execute_result"
    }
   ],
   "source": [
    "np.real(ff(t))"
   ]
  }
 ],
 "metadata": {
  "kernelspec": {
   "display_name": "Python 2",
   "language": "python",
   "name": "python2"
  },
  "language_info": {
   "codemirror_mode": {
    "name": "ipython",
    "version": 2
   },
   "file_extension": ".py",
   "mimetype": "text/x-python",
   "name": "python",
   "nbconvert_exporter": "python",
   "pygments_lexer": "ipython2",
   "version": "2.7.11+"
  }
 },
 "nbformat": 4,
 "nbformat_minor": 0
}
