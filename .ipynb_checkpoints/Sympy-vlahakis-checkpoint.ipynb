{
 "cells": [
  {
   "cell_type": "code",
   "execution_count": 1,
   "metadata": {
    "collapsed": false
   },
   "outputs": [
    {
     "name": "stderr",
     "output_type": "stream",
     "text": [
      "/usr/local/lib/python2.7/dist-packages/matplotlib/__init__.py:872: UserWarning: axes.color_cycle is deprecated and replaced with axes.prop_cycle; please use the latter.\n",
      "  warnings.warn(self.msg_depr % (key, alt_key))\n"
     ]
    }
   ],
   "source": [
    "%matplotlib inline\n",
    "import numpy as np\n",
    "import numpy.random as rnd\n",
    "import matplotlib.pyplot as plt\n",
    "import seaborn"
   ]
  },
  {
   "cell_type": "code",
   "execution_count": 2,
   "metadata": {
    "collapsed": true
   },
   "outputs": [],
   "source": [
    "import sympy as sm\n",
    "import sympy.physics.vector as vc\n",
    "sm.init_printing()"
   ]
  },
  {
   "cell_type": "code",
   "execution_count": 3,
   "metadata": {
    "collapsed": true
   },
   "outputs": [],
   "source": [
    "R=vc.ReferenceFrame('R')"
   ]
  },
  {
   "cell_type": "code",
   "execution_count": 4,
   "metadata": {
    "collapsed": true
   },
   "outputs": [],
   "source": [
    "q,w,r,c,R,h,t = sm.symbols('q,w,r,c,R,h,t')"
   ]
  },
  {
   "cell_type": "code",
   "execution_count": 5,
   "metadata": {
    "collapsed": false
   },
   "outputs": [
    {
     "data": {
      "image/png": "[encoded data removed]",
      "text/latex": [
       "$$\\left ( \\left[\\begin{matrix}\\sin{\\left (h \\right )}\\\\0\\\\\\cos{\\left (h \\right )}\\end{matrix}\\right], \\quad \\left[\\begin{matrix}w^{2} \\cos{\\left (t w \\right )}\\\\w^{2} \\sin{\\left (t w \\right )}\\\\0\\end{matrix}\\right]\\right )$$"
      ],
      "text/plain": [
       "⎛          ⎡ 2         ⎤⎞\n",
       "⎜⎡sin(h)⎤, ⎢w ⋅cos(t⋅w)⎥⎟\n",
       "⎜⎢      ⎥  ⎢           ⎥⎟\n",
       "⎜⎢  0   ⎥  ⎢ 2         ⎥⎟\n",
       "⎜⎢      ⎥  ⎢w ⋅sin(t⋅w)⎥⎟\n",
       "⎜⎣cos(h)⎦  ⎢           ⎥⎟\n",
       "⎝          ⎣     0     ⎦⎠"
      ]
     },
     "execution_count": 5,
     "metadata": {},
     "output_type": "execute_result"
    }
   ],
   "source": [
    "n=sm.Matrix([[sm.sin(h)],[0],[sm.cos(h)]])\n",
    "a=sm.Matrix([[w**2 *sm.cos(w*t)],[w**2 *sm.sin(w*t)],[0]])\n",
    "n,a"
   ]
  },
  {
   "cell_type": "code",
   "execution_count": 44,
   "metadata": {
    "collapsed": false
   },
   "outputs": [],
   "source": [
    "E=(q/(c**2 *R))*n.cross(n.cross(a))\n",
    "E.simplify()\n",
    "E=E.subs(q*w**2/(c**2 *R),A)"
   ]
  },
  {
   "cell_type": "code",
   "execution_count": 45,
   "metadata": {
    "collapsed": false
   },
   "outputs": [
    {
     "data": {
      "image/png": "[encoded data removed]",
      "text/latex": [
       "$$\\left[\\begin{matrix}A \\sin{\\left (t w \\right )} \\cos{\\left (h \\right )}\\\\- A \\cos{\\left (h \\right )} \\cos{\\left (t w \\right )}\\\\- A \\sin{\\left (h \\right )} \\sin{\\left (t w \\right )}\\end{matrix}\\right]$$"
      ],
      "text/plain": [
       "⎡A⋅sin(t⋅w)⋅cos(h) ⎤\n",
       "⎢                  ⎥\n",
       "⎢-A⋅cos(h)⋅cos(t⋅w)⎥\n",
       "⎢                  ⎥\n",
       "⎣-A⋅sin(h)⋅sin(t⋅w)⎦"
      ]
     },
     "execution_count": 45,
     "metadata": {},
     "output_type": "execute_result"
    }
   ],
   "source": [
    "B=n.cross(E)\n",
    "B.simplify()\n",
    "B"
   ]
  },
  {
   "cell_type": "code",
   "execution_count": 46,
   "metadata": {
    "collapsed": false
   },
   "outputs": [
    {
     "data": {
      "image/png": "[encoded data removed]",
      "text/latex": [
       "$$\\left ( \\left[\\begin{matrix}\\frac{\\left(A \\sin^{2}{\\left (h \\right )} \\sin{\\left (t w \\right )} + A \\sin{\\left (t w \\right )} \\cos^{2}{\\left (h \\right )}\\right) \\cos{\\left (h \\right )}}{\\sqrt{\\left\\lvert{A \\sin{\\left (h \\right )} \\sin{\\left (t w \\right )}}\\right\\rvert^{2} + \\left\\lvert{A \\sin{\\left (t w \\right )} \\cos{\\left (h \\right )}}\\right\\rvert^{2} + \\left\\lvert{A \\cos{\\left (h \\right )} \\cos{\\left (t w \\right )}}\\right\\rvert^{2}}}\\\\\\frac{- A \\sin^{2}{\\left (h \\right )} \\cos{\\left (h \\right )} \\cos{\\left (t w \\right )} - A \\cos^{3}{\\left (h \\right )} \\cos{\\left (t w \\right )}}{\\sqrt{\\left\\lvert{A \\sin{\\left (h \\right )} \\sin{\\left (t w \\right )}}\\right\\rvert^{2} + \\left\\lvert{A \\sin{\\left (t w \\right )} \\cos{\\left (h \\right )}}\\right\\rvert^{2} + \\left\\lvert{A \\cos{\\left (h \\right )} \\cos{\\left (t w \\right )}}\\right\\rvert^{2}}}\\\\- \\frac{\\left(A \\sin^{2}{\\left (h \\right )} \\sin{\\left (t w \\right )} + A \\sin{\\left (t w \\right )} \\cos^{2}{\\left (h \\right )}\\right) \\sin{\\left (h \\right )}}{\\sqrt{\\left\\lvert{A \\sin{\\left (h \\right )} \\sin{\\left (t w \\right )}}\\right\\rvert^{2} + \\left\\lvert{A \\sin{\\left (t w \\right )} \\cos{\\left (h \\right )}}\\right\\rvert^{2} + \\left\\lvert{A \\cos{\\left (h \\right )} \\cos{\\left (t w \\right )}}\\right\\rvert^{2}}}\\end{matrix}\\right], \\quad \\left[\\begin{matrix}- \\frac{A \\cos^{2}{\\left (h \\right )} \\cos{\\left (t w \\right )}}{\\sqrt{\\left\\lvert{A \\sin{\\left (h \\right )} \\sin{\\left (t w \\right )}}\\right\\rvert^{2} + \\left\\lvert{A \\sin{\\left (t w \\right )} \\cos{\\left (h \\right )}}\\right\\rvert^{2} + \\left\\lvert{A \\cos{\\left (h \\right )} \\cos{\\left (t w \\right )}}\\right\\rvert^{2}}}\\\\\\frac{- A \\sin^{2}{\\left (h \\right )} \\sin{\\left (t w \\right )} - A \\sin{\\left (t w \\right )} \\cos^{2}{\\left (h \\right )}}{\\sqrt{\\left\\lvert{A \\sin{\\left (h \\right )} \\sin{\\left (t w \\right )}}\\right\\rvert^{2} + \\left\\lvert{A \\sin{\\left (t w \\right )} \\cos{\\left (h \\right )}}\\right\\rvert^{2} + \\left\\lvert{A \\cos{\\left (h \\right )} \\cos{\\left (t w \\right )}}\\right\\rvert^{2}}}\\\\\\frac{A \\sin{\\left (h \\right )} \\cos{\\left (h \\right )} \\cos{\\left (t w \\right )}}{\\sqrt{\\left\\lvert{A \\sin{\\left (h \\right )} \\sin{\\left (t w \\right )}}\\right\\rvert^{2} + \\left\\lvert{A \\sin{\\left (t w \\right )} \\cos{\\left (h \\right )}}\\right\\rvert^{2} + \\left\\lvert{A \\cos{\\left (h \\right )} \\cos{\\left (t w \\right )}}\\right\\rvert^{2}}}\\end{matrix}\\right]\\right )$$"
      ],
      "text/plain": [
       "⎛⎡            ⎛     2                             2   ⎞                  ⎤  ⎡ \n",
       "⎜⎢            ⎝A⋅sin (h)⋅sin(t⋅w) + A⋅sin(t⋅w)⋅cos (h)⎠⋅cos(h)           ⎥  ⎢ \n",
       "⎜⎢───────────────────────────────────────────────────────────────────────⎥, ⎢─\n",
       "⎜⎢   ____________________________________________________________________⎥  ⎢ \n",
       "⎜⎢  ╱                    2                      2                      2 ⎥  ⎢ \n",
       "⎜⎢╲╱  │A⋅sin(h)⋅sin(t⋅w)│  + │A⋅sin(t⋅w)⋅cos(h)│  + │A⋅cos(h)⋅cos(t⋅w)│  ⎥  ⎢╲\n",
       "⎜⎢                                                                       ⎥  ⎢ \n",
       "⎜⎢                   2                           3                       ⎥  ⎢ \n",
       "⎜⎢            - A⋅sin (h)⋅cos(h)⋅cos(t⋅w) - A⋅cos (h)⋅cos(t⋅w)           ⎥  ⎢ \n",
       "⎜⎢───────────────────────────────────────────────────────────────────────⎥  ⎢─\n",
       "⎜⎢   ____________________________________________________________________⎥  ⎢ \n",
       "⎜⎢  ╱                    2                      2                      2 ⎥  ⎢ \n",
       "⎜⎢╲╱  │A⋅sin(h)⋅sin(t⋅w)│  + │A⋅sin(t⋅w)⋅cos(h)│  + │A⋅cos(h)⋅cos(t⋅w)│  ⎥  ⎢╲\n",
       "⎜⎢                                                                       ⎥  ⎢ \n",
       "⎜⎢            ⎛     2                             2   ⎞                  ⎥  ⎢ \n",
       "⎜⎢           -⎝A⋅sin (h)⋅sin(t⋅w) + A⋅sin(t⋅w)⋅cos (h)⎠⋅sin(h)           ⎥  ⎢─\n",
       "⎜⎢───────────────────────────────────────────────────────────────────────⎥  ⎢ \n",
       "⎜⎢   ____________________________________________________________________⎥  ⎢ \n",
       "⎜⎢  ╱                    2                      2                      2 ⎥  ⎣╲\n",
       "⎝⎣╲╱  │A⋅sin(h)⋅sin(t⋅w)│  + │A⋅sin(t⋅w)⋅cos(h)│  + │A⋅cos(h)⋅cos(t⋅w)│  ⎦    \n",
       "\n",
       "                               2                                      ⎤⎞\n",
       "                         -A⋅cos (h)⋅cos(t⋅w)                          ⎥⎟\n",
       "──────────────────────────────────────────────────────────────────────⎥⎟\n",
       "  ____________________________________________________________________⎥⎟\n",
       " ╱                    2                      2                      2 ⎥⎟\n",
       "╱  │A⋅sin(h)⋅sin(t⋅w)│  + │A⋅sin(t⋅w)⋅cos(h)│  + │A⋅cos(h)⋅cos(t⋅w)│  ⎥⎟\n",
       "                                                                      ⎥⎟\n",
       "                     2                             2                  ⎥⎟\n",
       "              - A⋅sin (h)⋅sin(t⋅w) - A⋅sin(t⋅w)⋅cos (h)               ⎥⎟\n",
       "──────────────────────────────────────────────────────────────────────⎥⎟\n",
       "  ____________________________________________________________________⎥⎟\n",
       " ╱                    2                      2                      2 ⎥⎟\n",
       "╱  │A⋅sin(h)⋅sin(t⋅w)│  + │A⋅sin(t⋅w)⋅cos(h)│  + │A⋅cos(h)⋅cos(t⋅w)│  ⎥⎟\n",
       "                                                                      ⎥⎟\n",
       "                       A⋅sin(h)⋅cos(h)⋅cos(t⋅w)                       ⎥⎟\n",
       "──────────────────────────────────────────────────────────────────────⎥⎟\n",
       "  ____________________________________________________________________⎥⎟\n",
       " ╱                    2                      2                      2 ⎥⎟\n",
       "╱  │A⋅sin(h)⋅sin(t⋅w)│  + │A⋅sin(t⋅w)⋅cos(h)│  + │A⋅cos(h)⋅cos(t⋅w)│  ⎦⎟\n",
       "                                                                       ⎠"
      ]
     },
     "execution_count": 46,
     "metadata": {},
     "output_type": "execute_result"
    }
   ],
   "source": [
    "e1 = n.cross(B).cross(n)/B.norm()\n",
    "e2 = B.cross(n)/B.norm()\n",
    "e1,e2"
   ]
  },
  {
   "cell_type": "code",
   "execution_count": 47,
   "metadata": {
    "collapsed": false
   },
   "outputs": [
    {
     "data": {
      "image/png": "[encoded data removed]",
      "text/latex": [
       "$$\\left ( 0, \\quad \\frac{A^{2} \\left(\\sin^{2}{\\left (h \\right )} \\sin^{2}{\\left (t w \\right )} - \\sin^{2}{\\left (h \\right )} + 1\\right)}{\\sqrt{\\left\\lvert{A \\sin{\\left (h \\right )} \\sin{\\left (t w \\right )}}\\right\\rvert^{2} + \\left\\lvert{A \\sin{\\left (t w \\right )} \\cos{\\left (h \\right )}}\\right\\rvert^{2} + \\left\\lvert{A \\cos{\\left (h \\right )} \\cos{\\left (t w \\right )}}\\right\\rvert^{2}}}\\right )$$"
      ],
      "text/plain": [
       "⎛                      2 ⎛   2       2           2       ⎞                 ⎞\n",
       "⎜                     A ⋅⎝sin (h)⋅sin (t⋅w) - sin (h) + 1⎠                 ⎟\n",
       "⎜0, ───────────────────────────────────────────────────────────────────────⎟\n",
       "⎜      ____________________________________________________________________⎟\n",
       "⎜     ╱                    2                      2                      2 ⎟\n",
       "⎝   ╲╱  │A⋅sin(h)⋅sin(t⋅w)│  + │A⋅sin(t⋅w)⋅cos(h)│  + │A⋅cos(h)⋅cos(t⋅w)│  ⎠"
      ]
     },
     "execution_count": 47,
     "metadata": {},
     "output_type": "execute_result"
    }
   ],
   "source": [
    "E1=E.dot(e1)\n",
    "E2=E.dot(e2)\n",
    "E1.simplify(),E2.simplify()"
   ]
  },
  {
   "cell_type": "code",
   "execution_count": null,
   "metadata": {
    "collapsed": false
   },
   "outputs": [],
   "source": [
    "B=E2.simplify()-E.norm()"
   ]
  },
  {
   "cell_type": "code",
   "execution_count": null,
   "metadata": {
    "collapsed": true
   },
   "outputs": [],
   "source": []
  }
 ],
 "metadata": {
  "kernelspec": {
   "display_name": "Python 2",
   "language": "python",
   "name": "python2"
  },
  "language_info": {
   "codemirror_mode": {
    "name": "ipython",
    "version": 2
   },
   "file_extension": ".py",
   "mimetype": "text/x-python",
   "name": "python",
   "nbconvert_exporter": "python",
   "pygments_lexer": "ipython2",
   "version": "2.7.10"
  }
 },
 "nbformat": 4,
 "nbformat_minor": 0
}
