{
 "cells": [
  {
   "cell_type": "code",
   "execution_count": 1,
   "metadata": {
    "collapsed": true
   },
   "outputs": [],
   "source": [
    "%matplotlib inline\n",
    "import numpy as np\n",
    "import matplotlib.pyplot as plt\n",
    "import mpl_toolkits.mplot3d.axes3d as axes3d\n",
    "import seaborn\n",
    "import sympy as sm\n",
    "import sympy.physics.vector as vc\n",
    "sm.init_printing()"
   ]
  },
  {
   "cell_type": "markdown",
   "metadata": {},
   "source": [
    "Ο καταπέλτης απονήωσης είναι ένας μηχανισμός ο οποίος δίνει ταχύτητα στα αεροπλάνα πάνω\n",
    "στα αεροπλανοφόρα κι έτσι μπορούν να απονηώνονται χωρίς να χρειάζονται μεγάλο μήκος διαδρό-\n",
    "μου. Θέλουμε να μελετήσουμε την ευθύγραμμη οριζόντια κίνηση του αεροπλάνου πριν απονηωθεί.\n",
    "Το αεροπλάνο αρχικά βρίσκεται ακίνητο στην αρχή του άξονα κίνησης $x$. Εκτός του βάρους του\n",
    "$mg$, δέχεται την δύναμη από τον καταπέλτη $F_0(1 − x/\\beta)\\hat{x}$, δύναμη από τους κινητήρες $F_e\\hat{x}$, δύναμη αντίστασης αέρα $\\frac{1}{2} C_D\\rho S_D v^2 \\hat{x}$ και δύναμη ανύψωσης $\\frac{1}{2} C_L\\rho S_L v^2 \\hat{y}$ \n",
    "\n",
    "Στα παραπάνω $F_0$ και $F_e$ είναι θετικές σταθερές, $\\beta$ είναι το μήκος του διαδρόμου, $C_D$ και $C_L$ οι\n",
    "συντελεστές αντίστασης και ανύψωσης, $\\rho$ η πυκνότητα του αέρα, $S_D$ η επιφάνεια του αεροπλάνου\n",
    "κάθετα στην κίνηση, $S_L$ η επιφάνεια των φτερών και $v$ η ταχύτητα (το μέτρο της).\n",
    "\n",
    "(α) Ποια η επιτάχυνση σαν συνάρτηση θέσης και ταχύτητας; Ποια η μέγιστη τιμής της;"
   ]
  },
  {
   "cell_type": "code",
   "execution_count": 7,
   "metadata": {
    "collapsed": true
   },
   "outputs": [],
   "source": [
    "CD,CL,SD,SL,p,Fe,F0,b,m,g,t=sm.symbols('C_D,C_L,S_D,S_L,\\rho,F_e,F_0,\\beta,m,g,t', real=True, positive=True)\n",
    "x=sm.Function('x')(t)\n",
    "y=sm.Function('y')(t)"
   ]
  },
  {
   "cell_type": "code",
   "execution_count": 8,
   "metadata": {
    "collapsed": false
   },
   "outputs": [
    {
     "data": {
      "image/png": "[encoded data removed]",
      "text/latex": [
       "$$\\left[\\begin{matrix}x{\\left (t \\right )}\\\\y{\\left (t \\right )}\\end{matrix}\\right]$$"
      ],
      "text/plain": [
       "⎡x(t)⎤\n",
       "⎢    ⎥\n",
       "⎣y(t)⎦"
      ]
     },
     "execution_count": 8,
     "metadata": {},
     "output_type": "execute_result"
    }
   ],
   "source": [
    "r=sm.Matrix([[x],[y]])\n",
    "r"
   ]
  },
  {
   "cell_type": "code",
   "execution_count": 9,
   "metadata": {
    "collapsed": false
   },
   "outputs": [
    {
     "data": {
      "image/png": "[encoded data removed]",
      "text/latex": [
       "$$\\left[\\begin{matrix}\\frac{d}{d t} x{\\left (t \\right )}\\\\\\frac{d}{d t} y{\\left (t \\right )}\\end{matrix}\\right]$$"
      ],
      "text/plain": [
       "⎡d       ⎤\n",
       "⎢──(x(t))⎥\n",
       "⎢dt      ⎥\n",
       "⎢        ⎥\n",
       "⎢d       ⎥\n",
       "⎢──(y(t))⎥\n",
       "⎣dt      ⎦"
      ]
     },
     "execution_count": 9,
     "metadata": {},
     "output_type": "execute_result"
    }
   ],
   "source": [
    "v=sm.Matrix([[sm.diff(r[0],t)],[sm.diff(r[1],t)],])\n",
    "v"
   ]
  },
  {
   "cell_type": "code",
   "execution_count": 11,
   "metadata": {
    "collapsed": false
   },
   "outputs": [
    {
     "data": {
      "image/png": "[encoded data removed]",
      "text/latex": [
       "$$\\sqrt{\\left|{\\frac{d}{d t} x{\\left (t \\right )}}\\right|^{2} + \\left|{\\frac{d}{d t} y{\\left (t \\right )}}\\right|^{2}}$$"
      ],
      "text/plain": [
       "     ___________________________\n",
       "    ╱           2             2 \n",
       "   ╱  │d       │    │d       │  \n",
       "  ╱   │──(x(t))│  + │──(y(t))│  \n",
       "╲╱    │dt      │    │dt      │  "
      ]
     },
     "execution_count": 11,
     "metadata": {},
     "output_type": "execute_result"
    }
   ],
   "source": [
    "V=v.norm()\n",
    "V"
   ]
  },
  {
   "cell_type": "code",
   "execution_count": null,
   "metadata": {
    "collapsed": true
   },
   "outputs": [],
   "source": []
  },
  {
   "cell_type": "code",
   "execution_count": 14,
   "metadata": {
    "collapsed": false
   },
   "outputs": [
    {
     "ename": "AttributeError",
     "evalue": "'module' object has no attribute 'float'",
     "output_type": "error",
     "traceback": [
      "\u001b[0;31m---------------------------------------------------------------------------\u001b[0m",
      "\u001b[0;31mAttributeError\u001b[0m                            Traceback (most recent call last)",
      "\u001b[0;32m<ipython-input-14-a6e024657b51>\u001b[0m in \u001b[0;36m<module>\u001b[0;34m()\u001b[0m\n\u001b[0;32m----> 1\u001b[0;31m a=sm.Matrix([[sm.float(1)/m *(-sm.float(1/2)*CD*p*SD*V**2 +Fe+F0*(sm.float(1)-x/b))],\n\u001b[0m\u001b[1;32m      2\u001b[0m              [sm.float(1)/m *(sm.float(1/2)*CL*p*SL*V**2-mg)]])\n\u001b[1;32m      3\u001b[0m \u001b[0ma\u001b[0m\u001b[0;34m\u001b[0m\u001b[0m\n",
      "\u001b[0;31mAttributeError\u001b[0m: 'module' object has no attribute 'float'"
     ]
    }
   ],
   "source": [
    "a=sm.Matrix([[sm.float(1)/m *(-sm.float(1/2)*CD*p*SD*V**2 +Fe+F0*(sm.float(1)-x/b))],\n",
    "             [sm.float(1)/m *(sm.float(1/2)*CL*p*SL*V**2-mg)]])\n",
    "a"
   ]
  }
 ],
 "metadata": {
  "kernelspec": {
   "display_name": "Python 2",
   "language": "python",
   "name": "python2"
  },
  "language_info": {
   "codemirror_mode": {
    "name": "ipython",
    "version": 2
   },
   "file_extension": ".py",
   "mimetype": "text/x-python",
   "name": "python",
   "nbconvert_exporter": "python",
   "pygments_lexer": "ipython2",
   "version": "2.7.12"
  }
 },
 "nbformat": 4,
 "nbformat_minor": 0
}
