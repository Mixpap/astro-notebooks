{
 "cells": [
  {
   "cell_type": "code",
   "execution_count": 4,
   "metadata": {
    "collapsed": false
   },
   "outputs": [
    {
     "name": "stderr",
     "output_type": "stream",
     "text": [
      "/usr/local/lib/python2.7/dist-packages/matplotlib/__init__.py:872: UserWarning: axes.color_cycle is deprecated and replaced with axes.prop_cycle; please use the latter.\n",
      "  warnings.warn(self.msg_depr % (key, alt_key))\n"
     ]
    }
   ],
   "source": [
    "%matplotlib inline\n",
    "import numpy as np\n",
    "import numpy.random as rnd\n",
    "import matplotlib.pyplot as plt\n",
    "import matplotlib.gridspec as gridspec\n",
    "import seaborn\n",
    "import sympy as sm\n",
    "#import sympy.physics.vector as vc\n",
    "#sm.init_printing()"
   ]
  },
  {
   "cell_type": "markdown",
   "metadata": {},
   "source": [
    "## Προσέγγιση Euler με σταθερή θέση ήλιου και $M_{\\odot} >> m$\n",
    "Σε ένα τυχαίο σύστημα συντεταγμένων ορίζουμε τη θέση του ήλιου $\\vec{R}_{\\odot}$ και τη θέση της γής $\\vec{R}$ άρα η απόσταση Γης-Ηλιου θα έιναι $\\vec{r} =\\vec{R}- \\vec{R}_{\\odot}$.\n",
    "Οι εξισώσεις κίνησεις θα είναι:\n",
    "$$ \n",
    "m\\ddot{\\vec{R}}=-G\\frac{M_{\\odot}m}{r^3} \\vec{r}\\Rightarrow \\ddot{\\vec{R}} = -\\frac{GM_{\\odot}}{|\\vec{R}- \\vec{R}_{\\odot}|^3} (\\vec{R}- \\vec{R}_{\\odot}) \\\\\n",
    "M_{\\odot}\\ddot{\\vec{R}}_{\\odot}=-G\\frac{M_{\\odot}m}{r^3} \\vec{r}\\Rightarrow \\ddot{\\vec{R}}_{\\odot} = -\\frac{Gm}{|\\vec{R}- \\vec{R}_{\\odot}|^3} (\\vec{R}- \\vec{R}_{\\odot})$$\n",
    "άρα\n",
    "$$ \\ddot{\\vec{r}}=-G\\frac{M_{\\odot}+m}{|r|^3}\\vec{r}$$\n",
    "\n",
    "Αν θέσουμε σαν $\\vec{v}=\\dot{\\vec{r}}$ τότε:\n",
    "$$\n",
    "\\dot{\\vec{r}}=\\vec{v} \\\\\n",
    "\\dot{\\vec{v}}=-G\\frac{M_{\\odot}+m}{|r|^3}\\vec{r}\n",
    "$$\n",
    "άρα\n",
    "$$\n",
    "\\dot{x}=v_x \\\\\n",
    "\\dot{y}=v_y \\\\\n",
    "\\dot{v_x}=-G\\frac{M_{\\odot}+m}{|x^2+y^2|^{3/2}}x \\\\\n",
    "\\dot{v_y}=-G\\frac{M_{\\odot}+m}{|x^2+y^2|^{3/2}}y \\\\\n",
    "$$\n",
    "\n",
    "Αν διαμερίσουμε το χρόνο σε μικρά χρονικά διαστήματα $\\delta t$ μπορούμε να λύσουμε το σύστημα των διαφορικών εξισώσεων μέσω της τεχνικής Euler:\n",
    "$$\n",
    "x_n=v_x \\delta t +x_{n-1} \\\\\n",
    "y_n=v_y \\delta t +y_{n-1} \\\\\n",
    "v_{x,n}=-\\delta t \\, G\\frac{M_{\\odot}+m}{|x_n^2+y_n^2|^{3/2}}x_n+v_{x,n-1} \\\\\n",
    "v_{y,n}=-\\delta t \\, G\\frac{M_{\\odot}+m}{|x_n^2+y_n^2|^{3/2}}y_n+v_{y,n-1} \\\\\n",
    "$$\n",
    "Αν θεωρήσουμε ότι $M_{\\odot}>>m$ και αντικαταστήσουμε με τη βαρυτική σταθερά gauss:\n",
    "$$\n",
    "κ= 0.0172 \\, \\frac{\\text{au}^{3/2}}{\\text{days}\\,M^{1/2}_{\\odot}}\n",
    "$$\n",
    "τότε\n",
    "$$\n",
    "x_n=v_x \\delta t +x_{n-1} \\\\\n",
    "y_n=v_y \\delta t +y_{n-1} \\\\\n",
    "v_{x,n}=- \\frac{k^2 x_n }{(x_n^2+y_n^2)^{3/2}}\\delta t+v_{x,n-1} \\\\\n",
    "v_{y,n}=- \\frac{k^2 y_n}{(x_n^2+y_n^2)^{3/2}}\\delta t +v_{y,n-1} \\\\\n",
    "$$"
   ]
  },
  {
   "cell_type": "code",
   "execution_count": 197,
   "metadata": {
    "collapsed": true
   },
   "outputs": [],
   "source": [
    "k=0.0172 #gaussian gravity consants au^(3/2) days^(-1) solarMass^(-1/2)\n",
    "C=k**2"
   ]
  },
  {
   "cell_type": "code",
   "execution_count": 198,
   "metadata": {
    "collapsed": true
   },
   "outputs": [],
   "source": [
    "def Uderv(x,y):\n",
    "    r=np.sqrt(x**2+y**2)\n",
    "    fvx=-C*x/r**3\n",
    "    fvy=-C*y/r**3\n",
    "    return (fvx,fvy)"
   ]
  },
  {
   "cell_type": "code",
   "execution_count": 199,
   "metadata": {
    "collapsed": false
   },
   "outputs": [],
   "source": [
    "dt=0.5 #χρονικό δίαστημα \n",
    "T=np.arange(0.,1.*365.25,dt) #Πίνακας χρόνων σε μέρες"
   ]
  },
  {
   "cell_type": "code",
   "execution_count": 200,
   "metadata": {
    "collapsed": false
   },
   "outputs": [],
   "source": [
    "#pt=PrettyTable(['n','x','y','Vx','Vy','fx','fy'])\n",
    "N=len(T)\n",
    "x = np.zeros(N)\n",
    "y = np.zeros(N)\n",
    "Ux = np.zeros(N)\n",
    "Uy = np.zeros(N)\n",
    "x[0]=1.\n",
    "y[0]=0.\n",
    "Ux[0]=0.\n",
    "Uy[0]=0.0172\n",
    "\n",
    "for n,t in enumerate(T[1:]):\n",
    "    #pt.add_row([n,X[n],Y[n],Ux[n],Uy[n],-C*dt*X[n]/r**3,-C*dt*Y[n]/r**3])\n",
    "    x[n+1] = x[n] + dt*Ux[n]\n",
    "    y[n+1] = y[n] + dt*Uy[n]\n",
    "    \n",
    "    fvx,fvy=Uderv(x[n],y[n]) #Euler\n",
    "    #fvx,fvy=Uderv(X[n+1],Y[n+1]) #Symplectic Euler\n",
    "    Ux[n+1] = Ux[n] + dt*fvx\n",
    "    Uy[n+1] = Uy[n] + dt*fvy\n",
    "\n",
    "R=np.sqrt(x**2+y**2)\n",
    "E=0.5*(Ux**2+Uy**2)-C/R\n",
    "V=np.sqrt(Ux**2+Uy**2)\n",
    "#print pt"
   ]
  },
  {
   "cell_type": "code",
   "execution_count": 201,
   "metadata": {
    "collapsed": true
   },
   "outputs": [],
   "source": [
    "e=0.0167\n",
    "phi=np.linspace(0.,2.*np.pi,len(x))\n",
    "rr=(1.-e**2)/(1.+e*np.cos(phi-np.pi/2.))\n",
    "xx=rr*np.cos(phi)\n",
    "yy=rr*np.sin(phi)\n",
    "\n",
    "fig=plt.figure(figsize=(16,12))\n",
    "gs=gridspec.GridSpec(3,4)\n",
    "ax1=plt.subplot(gs[0:2,0:2])\n",
    "ax1.plot(x,y,label='Earth Orbit (numerical)')\n",
    "ax1.plot([0],[0],'o',label='Sun Position')\n",
    "ax1.axis(xmin=-1.3,xmax=1.3,ymin=-1.3,ymax=1.3)\n",
    "ax1.set_ylabel('Y Position (au)')\n",
    "ax1.set_xlabel('X Position (au)')\n",
    "ax1.plot(xx,yy,label='Earth Orbit (true)')\n",
    "ax1.legend(loc='best')\n",
    "ax2=plt.subplot(gs[2,:])\n",
    "#ax2.plot(T,vx,label='X Velocity')\n",
    "#ax2.plot(T,vy,label='Y Velocity')\n",
    "ax2.plot(T,np.abs(R-rr),label='Error')\n",
    "ax2.set_ylabel('Difference (au)')\n",
    "ax2.set_xlabel('Time (days)')\n",
    "ax2.legend(loc='best')"
   ]
  },
  {
   "cell_type": "code",
   "execution_count": 203,
   "metadata": {
    "collapsed": false
   },
   "outputs": [],
   "source": [
    "eps=2.\n",
    "PT =[np.where(np.logical_and(T<365.25*k+eps,T>365.25*k-eps))[0][0] for k in range(int(T[-1]/365.25))]"
   ]
  },
  {
   "cell_type": "code",
   "execution_count": 204,
   "metadata": {
    "collapsed": false
   },
   "outputs": [
    {
     "data": {
      "text/plain": [
       "[<matplotlib.lines.Line2D at 0x7f2ad1baa7d0>]"
      ]
     },
     "execution_count": 204,
     "metadata": {},
     "output_type": "execute_result"
    },
    {
     "data": {
      "image/png": "[encoded data removed]",
      "text/plain": [
       "<matplotlib.figure.Figure at 0x7f2ad1baa9d0>"
      ]
     },
     "metadata": {},
     "output_type": "display_data"
    }
   ],
   "source": [
    "plt.plot(np.abs(V[PT]-V[0]))\n",
    "plt.plot(np.abs(R[PT]-R[0]))"
   ]
  },
  {
   "cell_type": "markdown",
   "metadata": {
    "collapsed": false
   },
   "source": [
    "# Implicit Euler\n",
    "\n",
    "H impicit μέθοδος Euler γράφεται:\n",
    "$$\n",
    "x_n=v_x \\delta t +x_{n} \\\\\n",
    "y_n=v_y \\delta t +y_{n} \\\\\n",
    "v_{x,n}=- \\frac{C x_n }{(x_n^2+y_n^2)^{3/2}}\\delta t+v_{x,n} \\\\\n",
    "v_{y,n}=- \\frac{C y_n}{(x_n^2+y_n^2)^{3/2}}\\delta t +v_{y,n} \\\\\n",
    "$$\n",
    "άρα θα πρέπει να λύσουμε τις εξισώσεις:\n",
    "$$\n",
    "\\mathbf{F}(\\mathbf{X})=\\mathbf{F}(x_0,x_1,x_2,x_3)\n",
    "\\left( \\begin{array}{c}\n",
    "x_0 -dt x_2 -x_n\\\\\n",
    "x_1 -dt x_3 -y_n \\\\\n",
    "x_2 +dt C \\frac{x_0}{r^3} -V_{x,n}\\\\\n",
    "x_3 +dt C \\frac{x_1}{r^3} -V_{y,n}\n",
    "\\end{array} \\right) \n",
    "=0\n",
    "$$\n",
    "όπου \n",
    "$$\n",
    "\\mathbf{X}=(x_0,x_1,x_2,x_3)=(x,y,V_x,V_y)\n",
    "$$\n",
    "\n",
    "Οι εξισώσεις αυτές θα λυθούνε με την μέθοδο Newton:\n",
    "$$\n",
    "\\mathbf{X_{i+1}}=\\mathbf{X_i}-\\mathbf{J}^{-1} \\mathbf{F}(\\mathbf{X_i})\n",
    "$$\n",
    "δηλαδη τη μέθοδο Newton για πολλες εξισώσεις. \n",
    "Η ιακωβιανή είναι:\n",
    "$$\n",
    "\\mathbf{J} =\n",
    "\\left( \\begin{array}{cccc}\n",
    "1 & 0 & -dt & 0 \\\\\n",
    "0 & 1 & 0 & -dt \\\\\n",
    "\\frac{Cdt}{r^3}-\\frac{3 C dt x_0}{r^5} & \\frac{-3 C dt x_0 x_1 }{r^5} & 1 & 0 \\\\\n",
    "\\frac{-3 C dt x_0 x_1 }{r^5} & \\frac{Cdt}{r^3}-\\frac{3 C dt x_1}{r^5} & 0 & 1\n",
    "\\end{array} \\right) \n",
    "$$\n",
    "\n",
    "Παρακάτω σας δείχνω και πως μπορείς να το βρείς με τη βιβλιοθήκη Sympy:"
   ]
  },
  {
   "cell_type": "code",
   "execution_count": 205,
   "metadata": {
    "collapsed": false
   },
   "outputs": [
    {
     "data": {
      "image/png": "[encoded data removed]",
      "text/latex": [
       "$$\\left ( \\left[\\begin{matrix}- dt x_{2} + x_{0} - x_{n0}\\\\- dt x_{3} + x_{1} - x_{n1}\\\\\\frac{C dt x_{0}}{\\left(x_{0}^{2} + x_{1}^{2}\\right)^{\\frac{3}{2}}} + x_{2} - x_{n2}\\\\\\frac{C dt x_{1}}{\\left(x_{0}^{2} + x_{1}^{2}\\right)^{\\frac{3}{2}}} + x_{3} - x_{n3}\\end{matrix}\\right], \\quad \\left[\\begin{matrix}x_{0}\\\\x_{1}\\\\x_{2}\\\\x_{3}\\end{matrix}\\right]\\right )$$"
      ],
      "text/plain": [
       "([    -dt*x_2 + x_0 - x_n0     ], [x_0])\n",
       " [                             ]  [   ] \n",
       " [    -dt*x_3 + x_1 - x_n1     ]  [x_1] \n",
       " [                             ]  [   ] \n",
       " [    C*dt*x_0                 ]  [x_2] \n",
       " [---------------- + x_2 - x_n2]  [   ] \n",
       " [             3/2             ]  [x_3] \n",
       " [/   2      2\\                ]        \n",
       " [\\x_0  + x_1 /                ]        \n",
       " [                             ]        \n",
       " [    C*dt*x_1                 ]        \n",
       " [---------------- + x_3 - x_n3]        \n",
       " [             3/2             ]        \n",
       " [/   2      2\\                ]        \n",
       " [\\x_0  + x_1 /                ]        "
      ]
     },
     "execution_count": 205,
     "metadata": {},
     "output_type": "execute_result"
    }
   ],
   "source": [
    "sm.init_printing(use_unicode=False, wrap_line=False, no_global=True)\n",
    "\n",
    "x0,x1,x2,x3,xn0,xn1,xn2,xn3,dt,C=sm.symbols('x_0,x_1,x_2,x_3,x_n0,x_n1,x_n2,x_n3,dt,C')\n",
    "r=sm.sqrt(x0**2+x1**2)\n",
    "F=sm.Matrix([x0-xn0-dt*x2,\n",
    "           x1-xn1-dt*x3,\n",
    "           x2-xn2+dt*C*x0/r**3,\n",
    "          x3-xn3+dt*C*x1/r**3])\n",
    "X=sm.Matrix([x0,x1,x2,x3])\n",
    "F,X"
   ]
  },
  {
   "cell_type": "code",
   "execution_count": 206,
   "metadata": {
    "collapsed": false
   },
   "outputs": [
    {
     "data": {
      "image/png": "[encoded data removed]",
      "text/latex": [
       "$$\\left[\\begin{matrix}1 & 0 & - dt & 0\\\\0 & 1 & 0 & - dt\\\\- \\frac{3 C dt x_{0}^{2}}{\\left(x_{0}^{2} + x_{1}^{2}\\right)^{\\frac{5}{2}}} + \\frac{C dt}{\\left(x_{0}^{2} + x_{1}^{2}\\right)^{\\frac{3}{2}}} & - \\frac{3 C dt x_{0} x_{1}}{\\left(x_{0}^{2} + x_{1}^{2}\\right)^{\\frac{5}{2}}} & 1 & 0\\\\- \\frac{3 C dt x_{0} x_{1}}{\\left(x_{0}^{2} + x_{1}^{2}\\right)^{\\frac{5}{2}}} & - \\frac{3 C dt x_{1}^{2}}{\\left(x_{0}^{2} + x_{1}^{2}\\right)^{\\frac{5}{2}}} + \\frac{C dt}{\\left(x_{0}^{2} + x_{1}^{2}\\right)^{\\frac{3}{2}}} & 0 & 1\\end{matrix}\\right]$$"
      ],
      "text/plain": [
       "[                  1                                      0                    -dt   0 ]\n",
       "[                                                                                      ]\n",
       "[                  0                                      1                     0   -dt]\n",
       "[                                                                                      ]\n",
       "[              2                                                                       ]\n",
       "[    3*C*dt*x_0             C*dt                  -3*C*dt*x_0*x_1                      ]\n",
       "[- ---------------- + ----------------            ----------------              1    0 ]\n",
       "[               5/2                3/2                         5/2                     ]\n",
       "[  /   2      2\\      /   2      2\\               /   2      2\\                        ]\n",
       "[  \\x_0  + x_1 /      \\x_0  + x_1 /               \\x_0  + x_1 /                        ]\n",
       "[                                                                                      ]\n",
       "[                                                     2                                ]\n",
       "[          -3*C*dt*x_0*x_1                  3*C*dt*x_1             C*dt                ]\n",
       "[          ----------------             - ---------------- + ----------------   0    1 ]\n",
       "[                       5/2                            5/2                3/2          ]\n",
       "[          /   2      2\\                  /   2      2\\      /   2      2\\             ]\n",
       "[          \\x_0  + x_1 /                  \\x_0  + x_1 /      \\x_0  + x_1 /             ]"
      ]
     },
     "execution_count": 206,
     "metadata": {},
     "output_type": "execute_result"
    }
   ],
   "source": [
    "F.jacobian(X)"
   ]
  },
  {
   "cell_type": "code",
   "execution_count": 246,
   "metadata": {
    "collapsed": false
   },
   "outputs": [],
   "source": [
    "def F(X,X0,dt,C): #Ο πινακας F\n",
    "    r=np.sqrt(X[0]**2+X[1]**2)\n",
    "    f0=X[0]-X0[0]-dt*X[2]\n",
    "    f1=X[1]-X0[1]-dt*X[3]\n",
    "    f2=X[2]-X0[2]+dt*C*X[0]/r**3\n",
    "    f3= X[3]-X0[3]+dt*C*X[1]/r**3\n",
    "    return np.array([f0,f1,f2,f3])\n",
    "\n",
    "def JF(X,dt,C): #H Ιακωβιανη\n",
    "    r=np.sqrt(X[0]**2+X[1]**2)\n",
    "    return np.array([[1.,0.,-dt,0.],\n",
    "                     [0.,1.,0.,-dt],\n",
    "                     [C*dt*(r**(-3)-3.*X[0]/r**5),-3.*X[0]*X[1]*dt*C/r**5,1.,0.],\n",
    "                     [-3.*X[0]*X[1]*dt*C/r**5,C*dt*(r**(-3)-3.*X[1]/r**5),0.,1.]])\n",
    "\n",
    "def Newton(X0,dt,C): #Η μέθοδος Νευτωνα\n",
    "    Xr=X0\n",
    "    e=1e-8\n",
    "    d=np.ones(4)\n",
    "    while np.all(d>e): #Τρέχει μέχρι η διαφορα Xn+1 με Xn να ειναι μικροτερη απο e=10^-8\n",
    "        Fn=F(Xr,X0,dt,C)\n",
    "        DF=JF(Xr,dt,C)\n",
    "        iDF=np.linalg.inv(DF)\n",
    "        Xp=Xr\n",
    "        Xr = Xp-np.dot(Fn,iDF)\n",
    "        d=np.abs(Xr-Xp)\n",
    "    return Xr"
   ]
  },
  {
   "cell_type": "code",
   "execution_count": 247,
   "metadata": {
    "collapsed": true
   },
   "outputs": [],
   "source": [
    "from scipy.optimize import root"
   ]
  },
  {
   "cell_type": "code",
   "execution_count": null,
   "metadata": {
    "collapsed": false
   },
   "outputs": [],
   "source": [
    "dt=0.7 #χρονικό δίαστημα \n",
    "T=np.arange(0.,1.*365.25,dt) #Πίνακας χρόνων σε μέρες\n",
    "N=len(T)\n",
    "C=k**2\n",
    "x = np.zeros(N)\n",
    "y = np.zeros(N)\n",
    "Ux = np.zeros(N)\n",
    "Uy = np.zeros(N)\n",
    "x[0]=1.\n",
    "y[0]=0.\n",
    "Ux[0]=0.\n",
    "Uy[0]=0.0172\n",
    "\n",
    "for n,t in enumerate(T[1:]):\n",
    "    X=np.array([x[n],y[n],Ux[n],Uy[n]])\n",
    "    FF=Newton(X,dt,C)\n",
    "    #FF=root(fun=F,x0=X,args=(X,dt,C),jac=False)\n",
    "    x[n+1] = FF[0]\n",
    "    y[n+1] = FF[1]\n",
    "    Ux[n+1] = FF[2]\n",
    "    Uy[n+1] = FF[3]\n",
    "\n",
    "R=np.sqrt(x**2+y**2)\n",
    "E=0.5*(Ux**2+Uy**2)-C/R\n",
    "V=np.sqrt(Ux**2+Uy**2)"
   ]
  },
  {
   "cell_type": "code",
   "execution_count": null,
   "metadata": {
    "collapsed": false
   },
   "outputs": [
    {
     "data": {
      "text/plain": [
       "<matplotlib.legend.Legend at 0x7f2ad0ccee50>"
      ]
     },
     "execution_count": 250,
     "metadata": {},
     "output_type": "execute_result"
    }
   ],
   "source": [
    "e=0.0167\n",
    "phi=np.linspace(0.,2.*np.pi,len(x))\n",
    "rr=(1.-e**2)/(1.+e*np.cos(phi-np.pi/2.))\n",
    "xx=rr*np.cos(phi)\n",
    "yy=rr*np.sin(phi)\n",
    "\n",
    "fig=plt.figure(figsize=(16,12))\n",
    "gs=gridspec.GridSpec(3,4)\n",
    "ax1=plt.subplot(gs[0:2,0:2])\n",
    "ax1.plot(x,y,label='Earth Orbit (numerical)')\n",
    "ax1.plot([0],[0],'o',label='Sun Position')\n",
    "ax1.axis(xmin=-1.3,xmax=1.3,ymin=-1.3,ymax=1.3)\n",
    "ax1.set_ylabel('Y Position (au)')\n",
    "ax1.set_xlabel('X Position (au)')\n",
    "ax1.plot(xx,yy,label='Earth Orbit (true)')\n",
    "ax1.legend(loc='best')\n",
    "ax2=plt.subplot(gs[2,:])\n",
    "#ax2.plot(T,vx,label='X Velocity')\n",
    "#ax2.plot(T,vy,label='Y Velocity')\n",
    "ax2.plot(T,np.abs(R-rr),label='Error')\n",
    "ax2.set_ylabel('Difference (au)')\n",
    "ax2.set_xlabel('Time (days)')\n",
    "ax2.legend(loc='best')"
   ]
  },
  {
   "cell_type": "code",
   "execution_count": 183,
   "metadata": {
    "collapsed": false
   },
   "outputs": [
    {
     "data": {
      "image/png": "[encoded data removed]",
      "text/latex": [
       "$$\\left ( \\left[\\begin{matrix}- dt x_{2} + x_{0} - xn_{0}\\\\- dt x_{3} + x_{1} - xn_{1}\\\\\\frac{C dt x_{0}}{\\left(x_{0}^{2} + x_{1}^{2}\\right)^{\\frac{3}{2}}} + x_{2} - xn_{2}\\\\\\frac{C dt x_{1}}{\\left(x_{0}^{2} + x_{1}^{2}\\right)^{\\frac{3}{2}}} + x_{3} - xn_{3}\\end{matrix}\\right], \\quad \\left[\\begin{matrix}x_{0}\\\\x_{1}\\\\x_{2}\\\\x_{3}\\end{matrix}\\right]\\right )$$"
      ],
      "text/plain": [
       "([    -dt*x2 + x0 - xn0    ], [x0])\n",
       " [                         ]  [  ] \n",
       " [    -dt*x3 + x1 - xn1    ]  [x1] \n",
       " [                         ]  [  ] \n",
       " [   C*dt*x0               ]  [x2] \n",
       " [-------------- + x2 - xn2]  [  ] \n",
       " [           3/2           ]  [x3] \n",
       " [/  2     2\\              ]       \n",
       " [\\x0  + x1 /              ]       \n",
       " [                         ]       \n",
       " [   C*dt*x1               ]       \n",
       " [-------------- + x3 - xn3]       \n",
       " [           3/2           ]       \n",
       " [/  2     2\\              ]       \n",
       " [\\x0  + x1 /              ]       "
      ]
     },
     "execution_count": 183,
     "metadata": {},
     "output_type": "execute_result"
    }
   ],
   "source": []
  },
  {
   "cell_type": "code",
   "execution_count": 239,
   "metadata": {
    "collapsed": false
   },
   "outputs": [
    {
     "data": {
      "text/plain": [
       "array([  1.,  nan,  nan,  nan,  nan,  nan,  nan,  nan,  nan,  nan,  nan,\n",
       "        nan,  nan,  nan,  nan,  nan,  nan,  nan,  nan,  nan,  nan,  nan,\n",
       "        nan,  nan,  nan,  nan,  nan,  nan,  nan,  nan,  nan,  nan,  nan,\n",
       "        nan,  nan,  nan,  nan,  nan,  nan,  nan,  nan,  nan,  nan,  nan,\n",
       "        nan,  nan,  nan,  nan,  nan,  nan,  nan,  nan,  nan,  nan,  nan,\n",
       "        nan,  nan,  nan,  nan,  nan,  nan,  nan,  nan,  nan,  nan,  nan,\n",
       "        nan,  nan,  nan,  nan,  nan,  nan,  nan,  nan,  nan,  nan,  nan,\n",
       "        nan,  nan,  nan,  nan,  nan,  nan,  nan,  nan,  nan,  nan,  nan,\n",
       "        nan,  nan,  nan,  nan,  nan,  nan,  nan,  nan,  nan,  nan,  nan,\n",
       "        nan,  nan,  nan,  nan,  nan,  nan,  nan,  nan,  nan,  nan,  nan,\n",
       "        nan,  nan,  nan,  nan,  nan,  nan,  nan,  nan,  nan,  nan,  nan,\n",
       "        nan,  nan,  nan,  nan,  nan,  nan,  nan,  nan,  nan,  nan,  nan,\n",
       "        nan,  nan,  nan,  nan,  nan,  nan,  nan,  nan,  nan,  nan,  nan,\n",
       "        nan,  nan,  nan,  nan,  nan,  nan,  nan,  nan,  nan,  nan,  nan,\n",
       "        nan,  nan,  nan,  nan,  nan,  nan,  nan,  nan,  nan,  nan,  nan,\n",
       "        nan,  nan,  nan,  nan,  nan,  nan,  nan,  nan,  nan,  nan,  nan,\n",
       "        nan,  nan,  nan,  nan,  nan,  nan,  nan])"
      ]
     },
     "execution_count": 239,
     "metadata": {},
     "output_type": "execute_result"
    }
   ],
   "source": [
    "x"
   ]
  },
  {
   "cell_type": "code",
   "execution_count": 182,
   "metadata": {
    "collapsed": false
   },
   "outputs": [
    {
     "data": {
      "image/png": "[encoded data removed]",
      "text/latex": [
       "$$\\left[\\begin{matrix}1 & 0 & - dt & 0\\\\0 & 1 & 0 & - dt\\\\- \\frac{3 C dt x_{0}^{2}}{\\left(x_{0}^{2} + x_{1}^{2}\\right)^{\\frac{5}{2}}} + \\frac{C dt}{\\left(x_{0}^{2} + x_{1}^{2}\\right)^{\\frac{3}{2}}} & - \\frac{3 C dt x_{0} x_{1}}{\\left(x_{0}^{2} + x_{1}^{2}\\right)^{\\frac{5}{2}}} & 1 & 0\\\\- \\frac{3 C dt x_{0} x_{1}}{\\left(x_{0}^{2} + x_{1}^{2}\\right)^{\\frac{5}{2}}} & - \\frac{3 C dt x_{1}^{2}}{\\left(x_{0}^{2} + x_{1}^{2}\\right)^{\\frac{5}{2}}} + \\frac{C dt}{\\left(x_{0}^{2} + x_{1}^{2}\\right)^{\\frac{3}{2}}} & 0 & 1\\end{matrix}\\right]$$"
      ],
      "text/plain": [
       "[                1                                  0                  -dt   0 ]\n",
       "[                                                                              ]\n",
       "[                0                                  1                   0   -dt]\n",
       "[                                                                              ]\n",
       "[             2                                                                ]\n",
       "[    3*C*dt*x0           C*dt                -3*C*dt*x0*x1                     ]\n",
       "[- -------------- + --------------           --------------             1    0 ]\n",
       "[             5/2              3/2                      5/2                    ]\n",
       "[  /  2     2\\      /  2     2\\              /  2     2\\                       ]\n",
       "[  \\x0  + x1 /      \\x0  + x1 /              \\x0  + x1 /                       ]\n",
       "[                                                                              ]\n",
       "[                                                2                             ]\n",
       "[         -3*C*dt*x0*x1                 3*C*dt*x1           C*dt               ]\n",
       "[         --------------            - -------------- + --------------   0    1 ]\n",
       "[                    5/2                         5/2              3/2          ]\n",
       "[         /  2     2\\                 /  2     2\\      /  2     2\\             ]\n",
       "[         \\x0  + x1 /                 \\x0  + x1 /      \\x0  + x1 /             ]"
      ]
     },
     "execution_count": 182,
     "metadata": {},
     "output_type": "execute_result"
    }
   ],
   "source": []
  },
  {
   "cell_type": "code",
   "execution_count": 46,
   "metadata": {
    "collapsed": false
   },
   "outputs": [
    {
     "data": {
      "text/plain": [
       "array([-3.,  0., -2.,  0.])"
      ]
     },
     "execution_count": 46,
     "metadata": {},
     "output_type": "execute_result"
    }
   ],
   "source": [
    "np.dot(Fn,iDF)"
   ]
  },
  {
   "cell_type": "code",
   "execution_count": 51,
   "metadata": {
    "collapsed": false
   },
   "outputs": [
    {
     "data": {
      "text/plain": [
       "array([-6.58301223,  0.        , -3.65899738,  0.        ])"
      ]
     },
     "execution_count": 51,
     "metadata": {},
     "output_type": "execute_result"
    }
   ],
   "source": [
    "Newton([1.,0.,0.,0.],1.,0.,0.,0.,1.,1.)"
   ]
  },
  {
   "cell_type": "code",
   "execution_count": null,
   "metadata": {
    "collapsed": true
   },
   "outputs": [],
   "source": []
  }
 ],
 "metadata": {
  "kernelspec": {
   "display_name": "Python 2",
   "language": "python",
   "name": "python2"
  },
  "language_info": {
   "codemirror_mode": {
    "name": "ipython",
    "version": 2
   },
   "file_extension": ".py",
   "mimetype": "text/x-python",
   "name": "python",
   "nbconvert_exporter": "python",
   "pygments_lexer": "ipython2",
   "version": "2.7.10"
  }
 },
 "nbformat": 4,
 "nbformat_minor": 0
}
