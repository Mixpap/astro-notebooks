{
 "cells": [
  {
   "cell_type": "code",
   "execution_count": 1,
   "metadata": {
    "collapsed": true
   },
   "outputs": [],
   "source": [
    "%matplotlib inline\n",
    "import numpy as np\n",
    "import numpy.random as rnd\n",
    "#from numpy.random import rand\n",
    "import matplotlib.pyplot as plt\n",
    "from mpl_toolkits.mplot3d import Axes3D\n",
    "import seaborn\n",
    "from tqdm import tqdm,tqdm_gui\n",
    "from scipy.optimize import curve_fit"
   ]
  },
  {
   "cell_type": "markdown",
   "metadata": {},
   "source": [
    "Υπολογίστε τη μάζα και το κεντρο μάζας του παρακάτω επίπεδου ςσχήματος με τη μέθοδο της απόρριψης Monte Carlo. Θεωρείστε μοναδιαία σταθερή επιφανειακή πυκνότητα.\n",
    "\n",
    "* Η συνολική μάζα είναι $M=\\int dm =\\int  \\rho  dV =\\int \\rho dxdy$\n",
    "* Μπορούμε να υπολογίσουμε ένα ολοκλήρωμα μέσω της σχέσης: \n",
    "$$\n",
    "\\int f dV =  V<f> + V\\sqrt{\\frac{<f^2>-<f>^2}{N}} =\\frac{V}{N}\\sum_i ^N f(x_i) + \n",
    "\\frac{V}{N}\\sqrt{\\sum_i ^N f^2(x_i)-\\frac{1}{N}\\big(\\sum_i ^N f(x_i)\\big)^2}\n",
    "$$\n",
    "\n",
    "$$\n",
    "\\int f x dV =  V<fx> + V\\sqrt{\\frac{<(fx)^2>-<fx>^2}{N}} =\\frac{V}{N}\\sum_i ^N xf(x_i) + \n",
    "\\frac{V}{N}\\sqrt{\\sum_i ^N (xf)^2(x_i)-\\frac{1}{N}\\big(\\sum_i ^N xf(x_i)\\big)^2}\n",
    "$$"
   ]
  },
  {
   "cell_type": "code",
   "execution_count": 2,
   "metadata": {
    "collapsed": false
   },
   "outputs": [],
   "source": [
    "rho = 1. #Πυκνότητα (Συνάρτηση κατανομής = σταθερή)\n",
    "R=1. #Η ακτίνα του κυκλου\n",
    "V=2.*2. #Ο όγκος (εμβαδο) του συνολικού χωρίου 2X2\n",
    "N=100000. #Αριθμός των σημείων\n",
    "xx=[] #Δημιουργία λίστας όπου θα αποθηκευτούν τα σημείαπου ανήκουν στο σώμα\n",
    "yy=[]\n",
    "\n",
    "xxn=[] #Δημιουργία λίστας όπου θα αποθηκευτούν τα σημείαπου ανήκουν στο σώμα\n",
    "yyn=[]\n",
    "\n",
    "\n",
    "m0=0. #Μηδενική ροπή, το ολοκλήρωμα ρ dxdy \n",
    "m1x=0. #Πρώτη ροπή, το ολοκλήρωμα ρx dx \n",
    "m1y=0. #Πρώτη ροπή, το ολοκλήρωμα ρy dy \n",
    "m2=0. #Το ολοκλήρωμα ρ^2 dxdy \n",
    "m2x=0. #Δεύτερη ροπή, το ολοκλήρωμα (ρx)^2 dx \n",
    "m2y=0. #Δεύτερη ροπή, το ολοκλήρωμα (ρx)^2 dx \n",
    "for i in np.arange(N): #Για κάθε σημείο\n",
    "    x=2.*rnd.rand() #Τυχαίες Συντεταγμένες του σημείου (x,y)\n",
    "    y=2.*rnd.rand()\n",
    "    if (x**2+y**2>R**2) and (y<2.-x): #Αν το σημείο βρίσκεται εκτός του κύκλου και Αν το σημείο βρίσκεται κάτω από τη γραμμή y=2-x\n",
    "            m0=m0+rho #Λύσε τα παραπάνω ολοκληρώματα = άθροιση\n",
    "            m1x=m1x+rho*x\n",
    "            m1y=m1y+rho*y\n",
    "            m2=m2+rho**2\n",
    "            m2x=m2x+(rho*x)**2\n",
    "            m2y=m2y+(rho*y)**2\n",
    "            xx.append(x) #αποθήκευσε τις τιμές (x,y)\n",
    "            yy.append(y)\n",
    "    else:\n",
    "        xxn.append(x) #αποθήκευσε τις τιμές (x,y)\n",
    "        yyn.append(y)"
   ]
  },
  {
   "cell_type": "markdown",
   "metadata": {},
   "source": [
    "$$\n",
    "x_{cm}=\\frac{\\int f(x)xdx}{\\int f(x) dx} = \\frac{\\int \\rho x dx}{\\int \\rho  dx}= \\frac{\\int \\rho x dx}{M} =\n",
    "\\frac{\\frac{V}{N}\\sum \\rho x_i}{M}\n",
    "$$"
   ]
  },
  {
   "cell_type": "code",
   "execution_count": 3,
   "metadata": {
    "collapsed": false
   },
   "outputs": [
    {
     "name": "stdout",
     "output_type": "stream",
     "text": [
      "Συνολική Μάζα: 1.218 +- 0.0058\n",
      "Θέση Κέντρου Μάζας: (0.827 +-0.0060 ,0.818 +- 0.0059)\n"
     ]
    }
   ],
   "source": [
    "M=m0*(V/N) #Μάζα του σώματος \n",
    "dM=(V/N)*np.sqrt(m2-m0**2/N) #Σφάλμα της μάζας\n",
    "xc=m1x*(V/N)/M #Θέση x του κέντρου μάζας\n",
    "dxc=(V/N)*np.sqrt(m2x-m1x**2/N) #σφάλμα της Θέσης x του κέντρου μάζας\n",
    "yc=m1y*(V/N)/M  #Θέση y του κέντρου μάζας\n",
    "dyc=(V/N)*np.sqrt(m2y-m1y**2/N) #σφάλμα της Θέσης y του κέντρου μάζας\n",
    "print 'Συνολική Μάζα: %1.3f +- %0.4f'%(M,dM)\n",
    "print 'Θέση Κέντρου Μάζας: (%1.3f +-%0.4f ,%1.3f +- %0.4f)'%(xc,dxc,yc,dyc)"
   ]
  },
  {
   "cell_type": "code",
   "execution_count": 4,
   "metadata": {
    "collapsed": false
   },
   "outputs": [
    {
     "data": {
      "text/plain": [
       "<Container object of 3 artists>"
      ]
     },
     "execution_count": 4,
     "metadata": {},
     "output_type": "execute_result"
    },
    {
     "data": {
      "image/png": "[encoded data removed]",
      "text/plain": [
       "<matplotlib.figure.Figure at 0x7fe0599dc910>"
      ]
     },
     "metadata": {},
     "output_type": "display_data"
    }
   ],
   "source": [
    "fig= plt.figure(figsize=(6,6))\n",
    "plt.plot(xx,yy,'.')\n",
    "#plt.plot(xxn,yyn,'.')\n",
    "plt.errorbar(xc,yc,xerr=dxc,yerr=dyc,fmt='.')"
   ]
  },
  {
   "cell_type": "markdown",
   "metadata": {},
   "source": [
    "Χρθςιμοποιώντας τη μέθοδο Monte Carlo, υπολογίστε τη ροπή αδράνειας μονοδιάστατης ράβδου μήκους $L=1\\, m$ και γραμμικής πυκνότητας $\\sigma=r\\, kg/m$, όπου $r$ η απόσταση από το ένα άκρο της ράβδου. Η ροπή αδράνειας να υπολογιστεί ως προς άξονες που περνούν από το κέντρο και τα δύο άκρα της ράβδου."
   ]
  },
  {
   "cell_type": "markdown",
   "metadata": {},
   "source": [
    "$$\n",
    "I=\\int x^2 dm =\\int x^2 \\rho dx =\\int x^3 dx =\\sum x_i ^3\n",
    "$$"
   ]
  },
  {
   "cell_type": "code",
   "execution_count": 5,
   "metadata": {
    "collapsed": false
   },
   "outputs": [],
   "source": [
    "L=1. #Μήκος Ράβδου\n",
    "V=1. #Ο όγκος (εμβαδο) του συνολικού χωρίου 1\n",
    "N=1000000. #Αριθμός των σημείων\n",
    "m0=0. #Μηδενική ροπή, το ολοκλήρωμα ρ(x) dx\n",
    "m1x=0. #Πρώτη ροπή, το ολοκλήρωμα ρ(x)x dx \n",
    "m2=0. #Το ολοκλήρωμα ρ(x)^2 dxdy \n",
    "m2x=0. #Δεύτερη ροπή, το ολοκλήρωμα (ρ(x)x)^2 dx \n",
    "I=0  #Το ολοκλήρωμα x^2 ρ(x) dx \n",
    "I2=0 #Το ολοκλήρωμα (x^2 ρ(x))^2 dx \n",
    "for i in np.arange(N):\n",
    "    x=rnd.rand()\n",
    "    m0=m0+x\n",
    "    m1x=m1x+x*x\n",
    "    m2=m2+x**2\n",
    "    m2x=m2x+(x*x)**2\n",
    "    I=I+x*x**2\n",
    "    I2=I2+(x*x**2)**2"
   ]
  },
  {
   "cell_type": "code",
   "execution_count": 6,
   "metadata": {
    "collapsed": false
   },
   "outputs": [
    {
     "name": "stdout",
     "output_type": "stream",
     "text": [
      "Συνολική Μάζα: 0.500 +- 0.0003\n",
      "Θέση Κέντρου Μάζας: 0.667 +-0.0003\n",
      "Ροπή αδράνειας: 0.250 +- 0.00028\n"
     ]
    }
   ],
   "source": [
    "M=m0*(V/N) #Μάζα της ράβδου\n",
    "dM=(V/N)*np.sqrt(m2-m0**2/N) #Σφάλμα της μάζας της ράβδου\n",
    "xc=m1x*(V/N)/M #Θέση του κέντρου μάζας\n",
    "dxc=(V/N)*np.sqrt(m2x-m1x**2/N) #Σφάλμα της Θέσης του κέντρου μάζας\n",
    "I0=I*(V/N) #Ροπή Αδράνειας (ως προς την αρχή των αξόνων)\n",
    "dI0=(V/N)*np.sqrt(I2-I**2/N) #Σφάλμα της ροπής Αδράνειας (ως προς την αρχή των αξόνων)\n",
    "print 'Συνολική Μάζα: %1.3f +- %0.4f'%(M,dM)\n",
    "print 'Θέση Κέντρου Μάζας: %1.3f +-%0.4f'%(xc,dxc)\n",
    "print 'Ροπή αδράνειας: %1.3f +- %1.5f'%(I0,dI0)"
   ]
  },
  {
   "cell_type": "code",
   "execution_count": 7,
   "metadata": {
    "collapsed": false
   },
   "outputs": [
    {
     "data": {
      "text/plain": [
       "(0.027780107296315693, 0.00039618526116338347)"
      ]
     },
     "execution_count": 7,
     "metadata": {},
     "output_type": "execute_result"
    }
   ],
   "source": [
    "Icm=I0-M*xc**2 #Εύρεση της Ροπής Αδράνειας (ως προς το κέντρο μάζας)\n",
    "dIcm=np.sqrt(dI0**2+(2.*M*xc*dxc)**2+xc**2 *dM**2)\n",
    "Icm,dIcm"
   ]
  },
  {
   "cell_type": "code",
   "execution_count": 8,
   "metadata": {
    "collapsed": false
   },
   "outputs": [
    {
     "data": {
      "text/plain": [
       "0.04167746449847659"
      ]
     },
     "execution_count": 8,
     "metadata": {},
     "output_type": "execute_result"
    }
   ],
   "source": [
    "Imid=Icm+M*(L/2-xc)**2 #Εύρεση της Ροπής Αδράνειας (ως προς το μέσω της ράβδου)\n",
    "Imid"
   ]
  },
  {
   "cell_type": "code",
   "execution_count": 9,
   "metadata": {
    "collapsed": false
   },
   "outputs": [
    {
     "data": {
      "text/plain": [
       "0.0833233108490669"
      ]
     },
     "execution_count": 9,
     "metadata": {},
     "output_type": "execute_result"
    }
   ],
   "source": [
    "Iend=Icm+M*(L-xc)**2 #Εύρεση της Ροπής Αδράνειας (ως προς το τέλος της ράβδου)\n",
    "Iend"
   ]
  },
  {
   "cell_type": "markdown",
   "metadata": {},
   "source": [
    "Προσομοιώστε το πείραμα της μέτρησης τησ επιτάχυνσης της βαρήτητας g,\n",
    "από μετρησεις της περιόδου ενός «απλού» εκκρεμού. \n",
    "Θεωρείστε ότι μετράτε την περίοδο για 4 διαφορετικά μικη 0.2, 0.4, 0.8 και 1.0 m με ακρίβεια δl=1 cm.\n",
    "Θεωρείστε ακρίβεια στη μέτρηση του χρόνου δt=0.1 s.\n",
    "\n",
    "Ι) Υπολογίστε το g με δύο τρόπους:\n",
    "(α) Με τη μέση τιμή <g> που προκύπτει από κάθε πείραμα και \n",
    "(β) με τη μέθοδο ελαχίστων τετραγώνων.\n",
    "\n",
    "ΙΙ) Επαναλάβετε τη διαδικασία εισάγοντας ένα συστηματικό σφάλμα +5 cm στη\n",
    "μέτρηση του μηκους. (Δηλαδη μετράμε το μηκος 5 cm περισσότερο από το\n",
    "πραγματικό.)"
   ]
  },
  {
   "cell_type": "markdown",
   "metadata": {},
   "source": [
    "$$\n",
    "T=2\\pi \\sqrt{\\frac{L}{g}} \\rightarrow g=4\\pi^2 \\frac{L}{T^2}\n",
    "$$"
   ]
  },
  {
   "cell_type": "code",
   "execution_count": 10,
   "metadata": {
    "collapsed": true
   },
   "outputs": [],
   "source": [
    "gtrue=9.80037 #Widget Value 01/25/2016 (from Wikipedia)"
   ]
  },
  {
   "cell_type": "code",
   "execution_count": 14,
   "metadata": {
    "collapsed": true
   },
   "outputs": [],
   "source": [
    "def T(L,g): #Συνάρτηση T(L) - η σχέση μεταξύ Περιόδου και μήκους σε σχέση με τη παράμετρο g\n",
    "    return 2.*np.pi*np.sqrt(L/g)"
   ]
  },
  {
   "cell_type": "code",
   "execution_count": 15,
   "metadata": {
    "collapsed": false
   },
   "outputs": [],
   "source": [
    "L=np.array([0.2,0.4,0.8,1.0]) #Μήκη του εκκρεμούς\n",
    "Ls=rnd.normal(L,0.01) #Προσομοιωμένα μήκη του εκκρεμους, καμπύλη Gauss με κέντρο το L και σ το δl=0.01 m"
   ]
  },
  {
   "cell_type": "code",
   "execution_count": 16,
   "metadata": {
    "collapsed": false
   },
   "outputs": [],
   "source": [
    "Ts=rnd.normal(T(L,gtrue),0.1) #Προσομοιωση του παρατηρούμενου χρόνου του εκκρεμους,καμπύλη Gauss με κέντρο το T(L) και σ το δt=0.1 s"
   ]
  },
  {
   "cell_type": "code",
   "execution_count": 17,
   "metadata": {
    "collapsed": false
   },
   "outputs": [
    {
     "data": {
      "text/plain": [
       "<matplotlib.legend.Legend at 0x7fe02bc0b7d0>"
      ]
     },
     "execution_count": 17,
     "metadata": {},
     "output_type": "execute_result"
    },
    {
     "data": {
      "image/png": "[encoded data removed]",
      "text/plain": [
       "<matplotlib.figure.Figure at 0x7fe02bce0b10>"
      ]
     },
     "metadata": {},
     "output_type": "display_data"
    }
   ],
   "source": [
    "LL=np.arange(0.,1.2,0.01) #Συνεχής τιμές του L (για τη δημιουργια του διαγράμματος)\n",
    "fig= plt.figure(figsize=(10,5))\n",
    "plt.errorbar(Ls,Ts,xerr=0.01,yerr=0.1,fmt='.',label='Data') #Σημεία L,T και σφάλματα\n",
    "plt.plot(LL,T(LL,gtrue),'--',label='True g') #προσομοίωση πραγματική καμπύλης για τη πραγματική τιμή του g\n",
    "plt.legend(loc='best')"
   ]
  },
  {
   "cell_type": "code",
   "execution_count": 22,
   "metadata": {
    "collapsed": false
   },
   "outputs": [
    {
     "name": "stdout",
     "output_type": "stream",
     "text": [
      "Πειραματική τιμή του g: 8.9 +- 1.2 m/s^2\n"
     ]
    }
   ],
   "source": [
    "gs = 4.*np.pi**2 *Ls/Ts**2 #Η σχέση ως προς g, η gs είναι μια λίστα με 4 τιμές του g (μια για κάθε τιμή των Ls,Ts)\n",
    "g1=np.mean(gs) #η μέση τιμή της λίστας\n",
    "dg1=np.std(gs) #η απόκλιση (σφάλμα) από τη μέση τιμή\n",
    "print 'Πειραματική τιμή του g: %1.1f +- %0.1f m/s^2'%(g1,dg1)"
   ]
  },
  {
   "cell_type": "code",
   "execution_count": 23,
   "metadata": {
    "collapsed": false
   },
   "outputs": [
    {
     "name": "stdout",
     "output_type": "stream",
     "text": [
      "Πειραματική τιμή του g (μέσω της μεθόδου ελαχίστων τετραγώνων): 8.9 +- 1.2 m/s^2\n"
     ]
    }
   ],
   "source": [
    "g2,dg2s = curve_fit(T,Ls,Ts) #Μέθοδος ελαχιστων τετραγώνων, το αποτέλεσμα της curve_fit είναι η τιμή της παραμέτρου g και dg^2\n",
    "dg2=np.sqrt(dg2s)\n",
    "print 'Πειραματική τιμή του g (μέσω της μεθόδου ελαχίστων τετραγώνων): %1.1f +- %0.1f m/s^2'%(g1,dg1)"
   ]
  },
  {
   "cell_type": "code",
   "execution_count": 24,
   "metadata": {
    "collapsed": false
   },
   "outputs": [
    {
     "data": {
      "text/plain": [
       "<matplotlib.legend.Legend at 0x7fe02ba128d0>"
      ]
     },
     "execution_count": 24,
     "metadata": {},
     "output_type": "execute_result"
    },
    {
     "data": {
      "image/png": "[encoded data removed]",
      "text/plain": [
       "<matplotlib.figure.Figure at 0x7fe02bc4f4d0>"
      ]
     },
     "metadata": {},
     "output_type": "display_data"
    }
   ],
   "source": [
    "fig= plt.figure(figsize=(10,5))\n",
    "plt.errorbar(Ls,Ts,xerr=0.01,yerr=0.1,fmt='.',label='Data')\n",
    "plt.plot(LL,T(LL,g2),label='Least Square')\n",
    "plt.fill_between(LL,T(LL,g2-dg2)[0],T(LL,g2+dg2)[0],alpha=0.25)\n",
    "plt.plot(LL,T(LL,gtrue),'--',label='True g')\n",
    "plt.legend(loc='best')"
   ]
  },
  {
   "cell_type": "markdown",
   "metadata": {},
   "source": [
    "### Συστηματικό σφάλμα +5 cm"
   ]
  },
  {
   "cell_type": "code",
   "execution_count": 25,
   "metadata": {
    "collapsed": true
   },
   "outputs": [],
   "source": [
    "Ls=Ls+0.05"
   ]
  },
  {
   "cell_type": "code",
   "execution_count": 26,
   "metadata": {
    "collapsed": true
   },
   "outputs": [],
   "source": [
    "Ts=rnd.normal(T(L,gtrue),0.1)"
   ]
  },
  {
   "cell_type": "code",
   "execution_count": 27,
   "metadata": {
    "collapsed": false
   },
   "outputs": [
    {
     "data": {
      "text/plain": [
       "<matplotlib.legend.Legend at 0x7fe02bb28510>"
      ]
     },
     "execution_count": 27,
     "metadata": {},
     "output_type": "execute_result"
    },
    {
     "data": {
      "image/png": "[encoded data removed]",
      "text/plain": [
       "<matplotlib.figure.Figure at 0x7fe02baa2450>"
      ]
     },
     "metadata": {},
     "output_type": "display_data"
    }
   ],
   "source": [
    "fig= plt.figure(figsize=(10,5))\n",
    "plt.errorbar(Ls,Ts,xerr=0.01,yerr=0.1,fmt='.',label='Data')\n",
    "plt.plot(LL,T(LL,gtrue),'--',label='True g')\n",
    "plt.legend(loc='best')"
   ]
  },
  {
   "cell_type": "code",
   "execution_count": 28,
   "metadata": {
    "collapsed": false
   },
   "outputs": [
    {
     "data": {
      "text/plain": [
       "(13.769330490817511, 5.3278440661275619)"
      ]
     },
     "execution_count": 28,
     "metadata": {},
     "output_type": "execute_result"
    }
   ],
   "source": [
    "gs = 4.*np.pi**2 *Ls/Ts**2\n",
    "g1=np.mean(gs)\n",
    "dg1=np.std(gs)\n",
    "g1,dg1"
   ]
  },
  {
   "cell_type": "code",
   "execution_count": 29,
   "metadata": {
    "collapsed": false
   },
   "outputs": [
    {
     "data": {
      "text/plain": [
       "(array([ 10.8770362]), array([[ 1.41374049]]))"
      ]
     },
     "execution_count": 29,
     "metadata": {},
     "output_type": "execute_result"
    }
   ],
   "source": [
    "g2,dg2s = curve_fit(T,Ls,Ts)\n",
    "g2,np.sqrt(dg2s)"
   ]
  },
  {
   "cell_type": "code",
   "execution_count": 30,
   "metadata": {
    "collapsed": false
   },
   "outputs": [
    {
     "data": {
      "text/plain": [
       "<matplotlib.legend.Legend at 0x7fe02b81fe10>"
      ]
     },
     "execution_count": 30,
     "metadata": {},
     "output_type": "execute_result"
    },
    {
     "data": {
      "image/png": "[encoded data removed]",
      "text/plain": [
       "<matplotlib.figure.Figure at 0x7fe02bb20dd0>"
      ]
     },
     "metadata": {},
     "output_type": "display_data"
    }
   ],
   "source": [
    "fig= plt.figure(figsize=(10,5))\n",
    "plt.errorbar(Ls,Ts,xerr=0.01,yerr=0.1,fmt='.',label='Data')\n",
    "plt.plot(LL,T(LL,g2),label='Least Square')\n",
    "plt.fill_between(LL,T(LL,g2-dg2)[0],T(LL,g2+dg2)[0],alpha=0.25)\n",
    "plt.plot(LL,T(LL,gtrue),'--',label='True g')\n",
    "plt.legend(loc='best')"
   ]
  },
  {
   "cell_type": "code",
   "execution_count": null,
   "metadata": {
    "collapsed": true
   },
   "outputs": [],
   "source": []
  }
 ],
 "metadata": {
  "kernelspec": {
   "display_name": "Python 2",
   "language": "python",
   "name": "python2"
  },
  "language_info": {
   "codemirror_mode": {
    "name": "ipython",
    "version": 2
   },
   "file_extension": ".py",
   "mimetype": "text/x-python",
   "name": "python",
   "nbconvert_exporter": "python",
   "pygments_lexer": "ipython2",
   "version": "2.7.12"
  }
 },
 "nbformat": 4,
 "nbformat_minor": 0
}
