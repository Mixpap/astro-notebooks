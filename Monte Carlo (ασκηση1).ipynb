{
 "cells": [
  {
   "cell_type": "code",
   "execution_count": 4,
   "metadata": {
    "collapsed": true
   },
   "outputs": [],
   "source": [
    "%matplotlib inline\n",
    "import numpy as np\n",
    "import numpy.random as rnd\n",
    "#from numpy.random import rand\n",
    "import matplotlib.pyplot as plt\n",
    "from mpl_toolkits.mplot3d import Axes3D\n",
    "import seaborn\n",
    "from tqdm import tqdm,tqdm_gui"
   ]
  },
  {
   "cell_type": "markdown",
   "metadata": {},
   "source": [
    "Υπολογίστε τη μάζα και το κεντρο μάζας του παρακάτω επίπεδου ςσχήματος με τη μέθοδο της απόρριψης Monte Carlo. Θεωρείστε μοναδιαία σταθερή επιφανειακή πυκνότητα.\n",
    "\n",
    "* Η συνολική μάζα είναι $M=\\int dm =\\int  \\rho  dV =\\int \\rho dxdy$\n",
    "* Μπορούμε να υπολογίσουμε ένα ολοκλήρωμα μέσω της σχέσης: \n",
    "$$\n",
    "\\int f dV =  V<f> + V\\sqrt{\\frac{<f^2>-<f>^2}{N}} =\\frac{V}{N}\\sum_i ^N f(x_i) + \n",
    "\\frac{V}{N}\\sqrt{\\sum_i ^N f^2(x_i)-\\frac{1}{N}\\big(\\sum_i ^N f(x_i)\\big)^2}\n",
    "$$\n",
    "\n",
    "$$\n",
    "\\int f x dV =  V<fx> + V\\sqrt{\\frac{<(fx)^2>-<fx>^2}{N}} =\\frac{V}{N}\\sum_i ^N xf(x_i) + \n",
    "\\frac{V}{N}\\sqrt{\\sum_i ^N (xf)^2(x_i)-\\frac{1}{N}\\big(\\sum_i ^N xf(x_i)\\big)^2}\n",
    "$$"
   ]
  },
  {
   "cell_type": "code",
   "execution_count": 58,
   "metadata": {
    "collapsed": false
   },
   "outputs": [],
   "source": [
    "rho = 1. #Πυκνότητα (Συνάρτηση κατανομής = σταθερή)\n",
    "R=1. #Η ακτίνα του κυκλου\n",
    "V=2.*2. #Ο όγκος (εμβαδο) του συνολικού χωρίου 2X2\n",
    "N=1000000. #Αριθμός των σημείων\n",
    "xx=[] #Δημιουργία λίστας όπου θα αποθηκευτούν τα σημείαπου ανήκουν στο σώμα\n",
    "yy=[]\n",
    "m0=0. #Μηδενική ροπή, το ολοκλήρωμα ρ dxdy \n",
    "m1x=0. #Πρώτη ροπή, το ολοκλήρωμα ρx dx \n",
    "m1y=0. #Πρώτη ροπή, το ολοκλήρωμα ρy dy \n",
    "m2=0. #Το ολοκλήρωμα ρ^2 dxdy \n",
    "m2x=0. #Δεύτερη ροπή, το ολοκλήρωμα (ρx)^2 dx \n",
    "m2y=0. #Δεύτερη ροπή, το ολοκλήρωμα (ρx)^2 dx \n",
    "for i in np.arange(N): #Για κάθε σημείο\n",
    "    x=2.*rnd.rand() #Τυχαίες Συντεταγμένες του σημείου (x,y)\n",
    "    y=2.*rnd.rand()\n",
    "    if x**2+y**2>R**2: #Αν το σημείο βρίσκεται εκτός του κύκλου\n",
    "        if y<2.-x:  #Αν το σημείο βρίσκεται κάτω από τη γραμμή y=2-x\n",
    "            m0=m0+rho #Λύσε τα παραπάνω ολοκληρώματα = άθροιση\n",
    "            m1x=m1x+rho*x\n",
    "            m1y=m1y+rho*y\n",
    "            m2=m2+rho**2\n",
    "            m2x=m2x+(rho*x)**2\n",
    "            m2y=m2y+(rho*y)**2\n",
    "            xx.append(x) #αποθήκευσε τις τιμές (x,y)\n",
    "            yy.append(y)"
   ]
  },
  {
   "cell_type": "markdown",
   "metadata": {},
   "source": [
    "$$\n",
    "x_{cm}=\\frac{\\int f(x)xdx}{\\int f(x) dx} = \\frac{\\int \\rho x dx}{\\int \\rho  dx}= \\frac{\\int \\rho x dx}{M} =\n",
    "\\frac{\\frac{V}{N}\\sum \\rho x_i}{M}\n",
    "$$"
   ]
  },
  {
   "cell_type": "code",
   "execution_count": 47,
   "metadata": {
    "collapsed": false
   },
   "outputs": [
    {
     "name": "stdout",
     "output_type": "stream",
     "text": [
      "Συνολική Μάζα: 1.213 +- 0.0018\n",
      "Θέση Κέντρου Μάζας: (0.822 +-0.0019 ,0.824 +- 0.0019)\n"
     ]
    }
   ],
   "source": [
    "M=m0*(V/N) #Μάζα του σώματος \n",
    "dM=(V/N)*np.sqrt(m2-m0**2/N) #Σφάλμα της μάζας\n",
    "xc=m1x*(V/N)/M #Θέση x του κέντρου μάζας\n",
    "dxc=(V/N)*np.sqrt(m2x-m1x**2/N) #σφάλμα της Θέσης x του κέντρου μάζας\n",
    "yc=m1y*(V/N)/M  #Θέση y του κέντρου μάζας\n",
    "dyc=(V/N)*np.sqrt(m2y-m1y**2/N) #σφάλμα της Θέσης y του κέντρου μάζας\n",
    "print 'Συνολική Μάζα: %1.3f +- %0.4f'%(M,dM)\n",
    "print 'Θέση Κέντρου Μάζας: (%1.3f +-%0.4f ,%1.3f +- %0.4f)'%(xc,dxc,yc,dyc)"
   ]
  },
  {
   "cell_type": "code",
   "execution_count": 45,
   "metadata": {
    "collapsed": false
   },
   "outputs": [
    {
     "data": {
      "text/plain": [
       "<Container object of 3 artists>"
      ]
     },
     "execution_count": 45,
     "metadata": {},
     "output_type": "execute_result"
    },
    {
     "data": {
      "image/png": "[encoded data removed]",
      "text/plain": [
       "<matplotlib.figure.Figure at 0x7f60ac26c890>"
      ]
     },
     "metadata": {},
     "output_type": "display_data"
    }
   ],
   "source": [
    "fig= plt.figure(figsize=(6,6))\n",
    "plt.plot(xx,yy,'.')\n",
    "plt.errorbar(xc,yc,xerr=dxc,yerr=dyc,fmt='.')"
   ]
  },
  {
   "cell_type": "markdown",
   "metadata": {},
   "source": [
    "Χρθςιμοποιώντας τη μέθοδο Monte Carlo, υπολογίστε τη ροπή αδράνειας μονοδιάστατης ράβδου μήκους $L=1\\, m$ και γραμμικής πυκνότητας $\\sigma=r\\, kg/m$, όπου $r$ η απόσταση από το ένα άκρο της ράβδου. Η ροπή αδράνειας να υπολογιστεί ως προς άξονες που περνούν από το κέντρο και τα δύο άκρα της ράβδου."
   ]
  },
  {
   "cell_type": "markdown",
   "metadata": {},
   "source": [
    "$$\n",
    "I=\\int x^2 dm =\\int x^2 \\rho dx =\\int x^3 dx =\\sum x_i ^3\n",
    "$$"
   ]
  },
  {
   "cell_type": "code",
   "execution_count": 59,
   "metadata": {
    "collapsed": false
   },
   "outputs": [],
   "source": [
    "L=1. #Μήκος Ράβδου\n",
    "V=1. #Ο όγκος (εμβαδο) του συνολικού χωρίου 1\n",
    "N=1000000. #Αριθμός των σημείων\n",
    "m0=0. #Μηδενική ροπή, το ολοκλήρωμα ρ(x) dx\n",
    "m1x=0. #Πρώτη ροπή, το ολοκλήρωμα ρ(x)x dx \n",
    "m2=0. #Το ολοκλήρωμα ρ(x)^2 dxdy \n",
    "m2x=0. #Δεύτερη ροπή, το ολοκλήρωμα (ρ(x)x)^2 dx \n",
    "I=0  #Το ολοκλήρωμα x^2 ρ(x) dx \n",
    "I2=0 #Το ολοκλήρωμα (x^2 ρ(x))^2 dx \n",
    "for i in np.arange(N):\n",
    "    x=rnd.rand()\n",
    "    m0=m0+x\n",
    "    m1x=m1x+x*x\n",
    "    m2=m2+x**2\n",
    "    m2x=m2x+(x*x)**2\n",
    "    I=I+x*x**2\n",
    "    I2=I2+(x*x**2)**2"
   ]
  },
  {
   "cell_type": "code",
   "execution_count": 60,
   "metadata": {
    "collapsed": false
   },
   "outputs": [
    {
     "name": "stdout",
     "output_type": "stream",
     "text": [
      "Συνολική Μάζα: 0.500 +- 0.0003\n",
      "Θέση Κέντρου Μάζας: 0.666 +-0.0003\n",
      "Ροπή αδράνειας: 0.250 +- 0.00028\n"
     ]
    }
   ],
   "source": [
    "M=m0*(V/N) #Μάζα της ράβδου\n",
    "dM=(V/N)*np.sqrt(m2-m0**2/N) #Σφάλμα της μάζας της ράβδου\n",
    "xc=m1x*(V/N)/M #Θέση του κέντρου μάζας\n",
    "dxc=(V/N)*np.sqrt(m2x-m1x**2/N) #Σφάλμα της Θέσης του κέντρου μάζας\n",
    "I0=I*(V/N) #Ροπή Αδράνειας (ως προς την αρχή των αξόνων)\n",
    "dI0=(V/N)*np.sqrt(I2-I**2/N) #Σφάλμα της ροπής Αδράνειας (ως προς την αρχή των αξόνων)\n",
    "print 'Συνολική Μάζα: %1.3f +- %0.4f'%(M,dM)\n",
    "print 'Θέση Κέντρου Μάζας: %1.3f +-%0.4f'%(xc,dxc)\n",
    "print 'Ροπή αδράνειας: %1.3f +- %1.5f'%(I0,dI0)"
   ]
  },
  {
   "cell_type": "code",
   "execution_count": 57,
   "metadata": {
    "collapsed": false
   },
   "outputs": [
    {
     "data": {
      "text/plain": [
       "0.027773111572376497"
      ]
     },
     "execution_count": 57,
     "metadata": {},
     "output_type": "execute_result"
    }
   ],
   "source": [
    "Icm=I0-M*xc**2 #Εύρεση της Ροπής Αδράνειας (ως προς το κέντρο μάζας)\n",
    "Icm"
   ]
  },
  {
   "cell_type": "code",
   "execution_count": 169,
   "metadata": {
    "collapsed": false
   },
   "outputs": [
    {
     "data": {
      "text/plain": [
       "0.04156219507039909"
      ]
     },
     "execution_count": 169,
     "metadata": {},
     "output_type": "execute_result"
    }
   ],
   "source": [
    "Imid=Icm+M*(L/2-xc)**2 #Εύρεση της Ροπής Αδράνειας (ως προς το μέσω της ράβδου)\n",
    "Imid"
   ]
  },
  {
   "cell_type": "code",
   "execution_count": 170,
   "metadata": {
    "collapsed": false
   },
   "outputs": [
    {
     "data": {
      "text/plain": [
       "0.08339169462065507"
      ]
     },
     "execution_count": 170,
     "metadata": {},
     "output_type": "execute_result"
    }
   ],
   "source": [
    "Iend=Icm+M*(L-xc)**2 #Εύρεση της Ροπής Αδράνειας (ως προς το τέλος της ράβδου)\n",
    "Iend"
   ]
  }
 ],
 "metadata": {
  "kernelspec": {
   "display_name": "Python 2",
   "language": "python",
   "name": "python2"
  },
  "language_info": {
   "codemirror_mode": {
    "name": "ipython",
    "version": 2
   },
   "file_extension": ".py",
   "mimetype": "text/x-python",
   "name": "python",
   "nbconvert_exporter": "python",
   "pygments_lexer": "ipython2",
   "version": "2.7.12"
  }
 },
 "nbformat": 4,
 "nbformat_minor": 0
}
