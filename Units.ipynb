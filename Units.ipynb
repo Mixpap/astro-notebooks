{
 "cells": [
  {
   "cell_type": "code",
   "execution_count": 2,
   "metadata": {
    "collapsed": false
   },
   "outputs": [],
   "source": [
    "%matplotlib inline\n",
    "import numpy as np\n",
    "import numpy.random as rnd\n",
    "import matplotlib.pyplot as plt\n",
    "import seaborn\n",
    "import sympy as sm\n",
    "import sympy.physics.vector as vc\n",
    "sm.init_printing()\n",
    "from astropy import units as u\n",
    "from sympy.physics import units as un\n",
    "import pandas as pd"
   ]
  },
  {
   "cell_type": "code",
   "execution_count": 31,
   "metadata": {
    "collapsed": false
   },
   "outputs": [],
   "source": [
    "k=1.38e-23*u.m**2*u.kg*u.s**(-2)*u.Kelvin**(-1)\n",
    "sigma_b=5.67e-5 *u.erg*u.Kelvin**-4*u.s**-1*u.cm**-2\n",
    "c=3e10*u.cm/u.s"
   ]
  },
  {
   "cell_type": "code",
   "execution_count": 34,
   "metadata": {
    "collapsed": false
   },
   "outputs": [
    {
     "data": {
      "text/latex": [
       "$1.5309 \\times 10^{-5} \\; \\mathrm{\\frac{erg}{cm^{3}}}$"
      ],
      "text/plain": [
       "<Quantity 1.5309e-05 erg / cm3>"
      ]
     },
     "execution_count": 34,
     "metadata": {},
     "output_type": "execute_result"
    }
   ],
   "source": [
    "sigma_b/c *(300*u.Kelvin)**4"
   ]
  },
  {
   "cell_type": "code",
   "execution_count": 3,
   "metadata": {
    "collapsed": true
   },
   "outputs": [],
   "source": [
    "J=np.logspace(-34,69)"
   ]
  },
  {
   "cell_type": "code",
   "execution_count": 35,
   "metadata": {
    "collapsed": false
   },
   "outputs": [],
   "source": [
    "erg=J*1e7\n",
    "ev=J*(1.6**(-1))*1e19\n",
    "T=2.*J/(3.*k.value)"
   ]
  },
  {
   "cell_type": "markdown",
   "metadata": {},
   "source": []
  },
  {
   "cell_type": "markdown",
   "metadata": {},
   "source": [
    "* $10^{-9} \\to 10^{−8}$ gauss – the magnetic field of the human brain\n",
    "* $10^{−3} \\to 10^{−6}$ gauss – the magnetic field of Galactic molecular clouds\n",
    "* $0.25–0.60$ gauss – the Earth's magnetic field at its surface\n",
    "* $25$ gauss – the Earth's magnetic field in its core[3]\n",
    "* $50$ gauss – a typical refrigerator magnet\n",
    "* $100$ gauss – a small iron magnet\n",
    "* $2000$ gauss – a small neodymium-iron-boron (NIB) magnet\n",
    "* $600–70,000$ gauss – a medical magnetic resonance imaging machine\n",
    "* $10^{12}–10^{13}$ gauss – the surface of a neutron star[4]\n",
    "* $4×10^{13}$ gauss – the quantum electrodynamic threshold\n",
    "* $10^{15}$ gauss – the magnetic field of some newly created magnetars[5]\n",
    "* $10^{17}$ gauss – the upper limit to neutron star magnetism[5]"
   ]
  },
  {
   "cell_type": "code",
   "execution_count": 26,
   "metadata": {
    "collapsed": false
   },
   "outputs": [
    {
     "data": {
      "text/plain": [
       "[<matplotlib.lines.Line2D at 0x7f3ae6181fd0>]"
      ]
     },
     "execution_count": 26,
     "metadata": {},
     "output_type": "execute_result"
    },
    {
     "data": {
      "image/png": "[encoded data removed]",
      "text/plain": [
       "<matplotlib.figure.Figure at 0x7f3ae5999710>"
      ]
     },
     "metadata": {},
     "output_type": "display_data"
    }
   ],
   "source": [
    "plt.figure(figsize=(12,6))\n",
    "plt.loglog(T,J)"
   ]
  },
  {
   "cell_type": "code",
   "execution_count": 12,
   "metadata": {
    "collapsed": false
   },
   "outputs": [
    {
     "data": {
      "text/plain": [
       "array([False, False, False, False, False, False, False, False, False,\n",
       "       False, False, False, False, False, False, False, False, False,\n",
       "       False, False, False, False, False, False, False, False, False,\n",
       "       False, False, False, False, False, False, False, False, False,\n",
       "       False, False, False, False, False, False, False, False, False,\n",
       "       False, False, False, False, False], dtype=bool)"
      ]
     },
     "execution_count": 12,
     "metadata": {},
     "output_type": "execute_result"
    }
   ],
   "source": []
  }
 ],
 "metadata": {
  "kernelspec": {
   "display_name": "Python 2",
   "language": "python",
   "name": "python2"
  },
  "language_info": {
   "codemirror_mode": {
    "name": "ipython",
    "version": 2
   },
   "file_extension": ".py",
   "mimetype": "text/x-python",
   "name": "python",
   "nbconvert_exporter": "python",
   "pygments_lexer": "ipython2",
   "version": "2.7.10"
  }
 },
 "nbformat": 4,
 "nbformat_minor": 0
}
