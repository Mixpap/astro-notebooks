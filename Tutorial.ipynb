{
 "cells": [
  {
   "cell_type": "markdown",
   "metadata": {},
   "source": [
    "# Python\n",
    "* High Level\n",
    "* Intrepreted\n",
    "* Functional/Objective \n",
    "* Readable\n",
    "* Portable\n"
   ]
  },
  {
   "cell_type": "markdown",
   "metadata": {},
   "source": [
    "### Numerical Types\n",
    "* int\n",
    "* float\n",
    "* complex\n",
    "* boolean"
   ]
  },
  {
   "cell_type": "code",
   "execution_count": 1,
   "metadata": {
    "collapsed": false
   },
   "outputs": [
    {
     "name": "stdout",
     "output_type": "stream",
     "text": [
      "2\n",
      "2.0\n",
      "(1+3j)\n",
      "True\n"
     ]
    }
   ],
   "source": [
    "a=2 #integer\n",
    "b=2. #float\n",
    "c=1.+3.J\n",
    "d= 3>2\n",
    "print a\n",
    "print b\n",
    "print c\n",
    "print d"
   ]
  },
  {
   "cell_type": "markdown",
   "metadata": {},
   "source": [
    "### Containers\n",
    "* Lists\n",
    "* Dictionaries\n",
    "* Tuples"
   ]
  },
  {
   "cell_type": "code",
   "execution_count": 2,
   "metadata": {
    "collapsed": false
   },
   "outputs": [
    {
     "data": {
      "text/plain": [
       "(1.0, 'a string', 0.0001, 'a string', [301.0, 2])"
      ]
     },
     "execution_count": 2,
     "metadata": {},
     "output_type": "execute_result"
    }
   ],
   "source": [
    "L = [1.,301.,a,'a string',1.e-4]\n",
    "L[0],L[3],L[-1],L[-2],L[1:3]"
   ]
  },
  {
   "cell_type": "code",
   "execution_count": 3,
   "metadata": {
    "collapsed": false
   },
   "outputs": [
    {
     "data": {
      "text/plain": [
       "[[1.0, 301.0], [2, 'a string', 0.0001]]"
      ]
     },
     "execution_count": 3,
     "metadata": {},
     "output_type": "execute_result"
    }
   ],
   "source": [
    "G=[L[:2],L[2:]]\n",
    "G"
   ]
  },
  {
   "cell_type": "code",
   "execution_count": 4,
   "metadata": {
    "collapsed": false
   },
   "outputs": [
    {
     "data": {
      "text/plain": [
       "[2, 4, 5, 6, 7, 2, 4, 5, 6, 7]"
      ]
     },
     "execution_count": 4,
     "metadata": {},
     "output_type": "execute_result"
    }
   ],
   "source": [
    "K=[2,4,5,6,7]\n",
    "2*K"
   ]
  },
  {
   "cell_type": "code",
   "execution_count": 5,
   "metadata": {
    "collapsed": false
   },
   "outputs": [
    {
     "data": {
      "text/plain": [
       "'ig'"
      ]
     },
     "execution_count": 5,
     "metadata": {},
     "output_type": "execute_result"
    }
   ],
   "source": [
    "s='a bigger string'\n",
    "s[3:5]"
   ]
  },
  {
   "cell_type": "code",
   "execution_count": 6,
   "metadata": {
    "collapsed": false
   },
   "outputs": [
    {
     "data": {
      "text/plain": [
       "2"
      ]
     },
     "execution_count": 6,
     "metadata": {},
     "output_type": "execute_result"
    }
   ],
   "source": [
    "D = {'a':1,'b':2,'c':3}\n",
    "D['b']"
   ]
  },
  {
   "cell_type": "code",
   "execution_count": 7,
   "metadata": {
    "collapsed": false
   },
   "outputs": [
    {
     "ename": "TypeError",
     "evalue": "'tuple' object does not support item assignment",
     "output_type": "error",
     "traceback": [
      "\u001b[1;31m---------------------------------------------------------------------------\u001b[0m",
      "\u001b[1;31mTypeError\u001b[0m                                 Traceback (most recent call last)",
      "\u001b[1;32m<ipython-input-7-50f328ea7709>\u001b[0m in \u001b[0;36m<module>\u001b[1;34m()\u001b[0m\n\u001b[0;32m      1\u001b[0m \u001b[0mtup\u001b[0m \u001b[1;33m=\u001b[0m\u001b[1;33m(\u001b[0m\u001b[1;36m2.\u001b[0m\u001b[1;33m,\u001b[0m\u001b[1;36m3.\u001b[0m\u001b[1;33m,\u001b[0m\u001b[1;36m5.\u001b[0m\u001b[1;33m)\u001b[0m\u001b[1;33m\u001b[0m\u001b[0m\n\u001b[1;32m----> 2\u001b[1;33m \u001b[0mtup\u001b[0m\u001b[1;33m[\u001b[0m\u001b[1;36m2\u001b[0m\u001b[1;33m]\u001b[0m\u001b[1;33m=\u001b[0m\u001b[1;36m4\u001b[0m\u001b[1;33m\u001b[0m\u001b[0m\n\u001b[0m",
      "\u001b[1;31mTypeError\u001b[0m: 'tuple' object does not support item assignment"
     ]
    }
   ],
   "source": [
    "tup =(2.,3.,5.)\n",
    "tup[2]=4"
   ]
  },
  {
   "cell_type": "code",
   "execution_count": 8,
   "metadata": {
    "collapsed": false
   },
   "outputs": [
    {
     "data": {
      "text/plain": [
       "[4, 4, 5, 6, 7]"
      ]
     },
     "execution_count": 8,
     "metadata": {},
     "output_type": "execute_result"
    }
   ],
   "source": [
    "K[0]=4\n",
    "K"
   ]
  },
  {
   "cell_type": "markdown",
   "metadata": {},
   "source": [
    "### Control Flow"
   ]
  },
  {
   "cell_type": "code",
   "execution_count": 9,
   "metadata": {
    "collapsed": false
   },
   "outputs": [
    {
     "name": "stdout",
     "output_type": "stream",
     "text": [
      "4\n"
     ]
    }
   ],
   "source": [
    "if a == 1:\n",
    "    print a\n",
    "elif a==2:\n",
    "    print a**2\n",
    "else:\n",
    "    a/2"
   ]
  },
  {
   "cell_type": "code",
   "execution_count": 10,
   "metadata": {
    "collapsed": false
   },
   "outputs": [
    {
     "name": "stdout",
     "output_type": "stream",
     "text": [
      "4\n",
      "4\n",
      "5\n",
      "6\n",
      "7\n"
     ]
    }
   ],
   "source": [
    "for i in K:\n",
    "    print i\n"
   ]
  },
  {
   "cell_type": "code",
   "execution_count": 11,
   "metadata": {
    "collapsed": false
   },
   "outputs": [
    {
     "name": "stdout",
     "output_type": "stream",
     "text": [
      "0 4\n",
      "1 4\n",
      "2 5\n"
     ]
    }
   ],
   "source": [
    "for index,value in enumerate(K):\n",
    "    if value >5:\n",
    "        break\n",
    "    print index,value"
   ]
  },
  {
   "cell_type": "markdown",
   "metadata": {},
   "source": [
    "### List Comprehensions"
   ]
  },
  {
   "cell_type": "code",
   "execution_count": 12,
   "metadata": {
    "collapsed": false
   },
   "outputs": [
    {
     "name": "stdout",
     "output_type": "stream",
     "text": [
      "[0, 1, 4, 9, 16, 25, 36, 49, 64, 81]\n"
     ]
    }
   ],
   "source": [
    "lc=[i**2 for i in range(10)]\n",
    "print(lc)"
   ]
  },
  {
   "cell_type": "markdown",
   "metadata": {},
   "source": [
    "### Functions"
   ]
  },
  {
   "cell_type": "code",
   "execution_count": 13,
   "metadata": {
    "collapsed": true
   },
   "outputs": [],
   "source": [
    "def f(x):\n",
    "    return x**2"
   ]
  },
  {
   "cell_type": "code",
   "execution_count": 14,
   "metadata": {
    "collapsed": false
   },
   "outputs": [
    {
     "data": {
      "text/plain": [
       "16"
      ]
     },
     "execution_count": 14,
     "metadata": {},
     "output_type": "execute_result"
    }
   ],
   "source": [
    "f(4)"
   ]
  },
  {
   "cell_type": "code",
   "execution_count": 15,
   "metadata": {
    "collapsed": false
   },
   "outputs": [
    {
     "ename": "TypeError",
     "evalue": "unsupported operand type(s) for ** or pow(): 'list' and 'int'",
     "output_type": "error",
     "traceback": [
      "\u001b[1;31m---------------------------------------------------------------------------\u001b[0m",
      "\u001b[1;31mTypeError\u001b[0m                                 Traceback (most recent call last)",
      "\u001b[1;32m<ipython-input-15-85ab5e16cdbc>\u001b[0m in \u001b[0;36m<module>\u001b[1;34m()\u001b[0m\n\u001b[1;32m----> 1\u001b[1;33m \u001b[0mf\u001b[0m\u001b[1;33m(\u001b[0m\u001b[0mK\u001b[0m\u001b[1;33m)\u001b[0m\u001b[1;33m\u001b[0m\u001b[0m\n\u001b[0m",
      "\u001b[1;32m<ipython-input-13-1ff23877539d>\u001b[0m in \u001b[0;36mf\u001b[1;34m(x)\u001b[0m\n\u001b[0;32m      1\u001b[0m \u001b[1;32mdef\u001b[0m \u001b[0mf\u001b[0m\u001b[1;33m(\u001b[0m\u001b[0mx\u001b[0m\u001b[1;33m)\u001b[0m\u001b[1;33m:\u001b[0m\u001b[1;33m\u001b[0m\u001b[0m\n\u001b[1;32m----> 2\u001b[1;33m     \u001b[1;32mreturn\u001b[0m \u001b[0mx\u001b[0m\u001b[1;33m**\u001b[0m\u001b[1;36m2\u001b[0m\u001b[1;33m\u001b[0m\u001b[0m\n\u001b[0m",
      "\u001b[1;31mTypeError\u001b[0m: unsupported operand type(s) for ** or pow(): 'list' and 'int'"
     ]
    }
   ],
   "source": [
    "f(K)"
   ]
  },
  {
   "cell_type": "code",
   "execution_count": null,
   "metadata": {
    "collapsed": true
   },
   "outputs": [],
   "source": []
  },
  {
   "cell_type": "markdown",
   "metadata": {},
   "source": [
    "# Βιβλιοθήκες/Πακέτα της Python\n",
    "\n",
    "\n",
    "## Εγκατάσταση Πακέτων\n",
    "### Package manager\n",
    "* Παράδειγμα για debian based systems (ubuntu, mint, elementary κλπ)\n",
    "``` bash\n",
    "sudo apt-get install numpy\n",
    "```\n",
    "\n",
    "### pip (Linux)\n",
    "* The PyPA (Python Packaging User Guide) recommended tool for installing Python packages.\n",
    "* Ανεξάρτητο σύστημα άρα και ανεξάρτητο από τους package manager της εκάστοτε διανομής.\n",
    "* Latest version\n",
    "* Compile from source\n",
    "* Παράδειγμα:\n",
    "``` bash\n",
    "sudo pip install numpy\n",
    "```\n"
   ]
  },
  {
   "cell_type": "markdown",
   "metadata": {},
   "source": [
    "## Numpy  (http://www.numpy.org/)\n",
    "\n",
    "NumPy is the fundamental package for scientific computing with Python. It contains among other things:\n",
    "* a powerful N-dimensional array object\n",
    "* sophisticated (broadcasting) functions\n",
    "* tools for integrating C/C++ and Fortran code\n",
    "* useful linear algebra, Fourier transform, and random number capabilities\n",
    "\n",
    "Besides its obvious scientific uses, NumPy can also be used as an efficient multi-dimensional container of generic data. Arbitrary data-types can be defined. This allows NumPy to seamlessly and speedily integrate with a wide variety of databases.\n",
    "``` python\n",
    "import numpy as np\n",
    "import numpy.random as rnd\n",
    "```"
   ]
  },
  {
   "cell_type": "code",
   "execution_count": 16,
   "metadata": {
    "collapsed": false
   },
   "outputs": [
    {
     "data": {
      "text/plain": [
       "array([4, 4, 5, 6, 7])"
      ]
     },
     "execution_count": 16,
     "metadata": {},
     "output_type": "execute_result"
    }
   ],
   "source": [
    "import numpy as np\n",
    "a= np.array(K)\n",
    "a"
   ]
  },
  {
   "cell_type": "code",
   "execution_count": 17,
   "metadata": {
    "collapsed": false
   },
   "outputs": [
    {
     "data": {
      "text/plain": [
       "array([  8.,   8.,  10.,  12.,  14.])"
      ]
     },
     "execution_count": 17,
     "metadata": {},
     "output_type": "execute_result"
    }
   ],
   "source": [
    "2.*a"
   ]
  },
  {
   "cell_type": "code",
   "execution_count": 18,
   "metadata": {
    "collapsed": false
   },
   "outputs": [
    {
     "name": "stdout",
     "output_type": "stream",
     "text": [
      "[[ 2.  2.  2.]\n",
      " [ 2.  2.  2.]\n",
      " [ 2.  2.  2.]\n",
      " [ 2.  2.  2.]]\n",
      "2.0\n"
     ]
    }
   ],
   "source": [
    "aa=np.ones((4,3))*2.\n",
    "print aa\n",
    "print aa[1,1]"
   ]
  },
  {
   "cell_type": "code",
   "execution_count": 19,
   "metadata": {
    "collapsed": false
   },
   "outputs": [
    {
     "data": {
      "text/plain": [
       "array([[ 2.,  2.,  2.],\n",
       "       [ 2.,  2.,  2.],\n",
       "       [ 2.,  2.,  2.]])"
      ]
     },
     "execution_count": 19,
     "metadata": {},
     "output_type": "execute_result"
    }
   ],
   "source": [
    "aa[1:]"
   ]
  },
  {
   "cell_type": "code",
   "execution_count": 20,
   "metadata": {
    "collapsed": false
   },
   "outputs": [
    {
     "data": {
      "image/png": "[encoded data removed]",
      "text/plain": [
       "<IPython.core.display.Image object>"
      ]
     },
     "execution_count": 20,
     "metadata": {},
     "output_type": "execute_result"
    }
   ],
   "source": [
    "from IPython.display import Image\n",
    "Image('numpy_indexing.png')"
   ]
  },
  {
   "cell_type": "code",
   "execution_count": 21,
   "metadata": {
    "collapsed": false
   },
   "outputs": [
    {
     "data": {
      "text/plain": [
       "array([[ 2.,  2.,  2.],\n",
       "       [ 2.,  2.,  2.],\n",
       "       [ 2.,  2.,  2.],\n",
       "       [ 0.,  1.,  3.]])"
      ]
     },
     "execution_count": 21,
     "metadata": {},
     "output_type": "execute_result"
    }
   ],
   "source": [
    "aa[3]=np.array([0,1,3])\n",
    "aa"
   ]
  },
  {
   "cell_type": "code",
   "execution_count": 22,
   "metadata": {
    "collapsed": false
   },
   "outputs": [
    {
     "data": {
      "text/plain": [
       "array([[False, False, False],\n",
       "       [False, False, False],\n",
       "       [False, False, False],\n",
       "       [False, False,  True]], dtype=bool)"
      ]
     },
     "execution_count": 22,
     "metadata": {},
     "output_type": "execute_result"
    }
   ],
   "source": [
    "aa>2"
   ]
  },
  {
   "cell_type": "code",
   "execution_count": 23,
   "metadata": {
    "collapsed": false
   },
   "outputs": [
    {
     "data": {
      "text/plain": [
       "(array([3]), array([2]))"
      ]
     },
     "execution_count": 23,
     "metadata": {},
     "output_type": "execute_result"
    }
   ],
   "source": [
    "np.where(aa>2)"
   ]
  },
  {
   "cell_type": "code",
   "execution_count": 24,
   "metadata": {
    "collapsed": false
   },
   "outputs": [
    {
     "data": {
      "text/plain": [
       "(array([ 3.]), array([ 3.]))"
      ]
     },
     "execution_count": 24,
     "metadata": {},
     "output_type": "execute_result"
    }
   ],
   "source": [
    "aa[aa>2],aa[np.where(aa>2)]"
   ]
  },
  {
   "cell_type": "code",
   "execution_count": 25,
   "metadata": {
    "collapsed": false
   },
   "outputs": [
    {
     "data": {
      "text/plain": [
       "array([ 0.,  3.])"
      ]
     },
     "execution_count": 25,
     "metadata": {},
     "output_type": "execute_result"
    }
   ],
   "source": [
    "aa[np.logical_or(aa>2,aa<1)]"
   ]
  },
  {
   "cell_type": "code",
   "execution_count": 34,
   "metadata": {
    "collapsed": false
   },
   "outputs": [
    {
     "data": {
      "text/plain": [
       "array([16, 16, 25, 36, 49])"
      ]
     },
     "execution_count": 34,
     "metadata": {},
     "output_type": "execute_result"
    }
   ],
   "source": [
    "vectorized_f=np.vectorize(f)\n",
    "vectorized_f(K)"
   ]
  },
  {
   "cell_type": "markdown",
   "metadata": {},
   "source": [
    "## Scipy (http://www.scipy.org/)\n",
    "\n",
    "It provides many user-friendly and efficient numerical routines such as routines for numerical integration and optimization.\n",
    "\n",
    "```python\n",
    "from scipy.optimize import curve_fit\n",
    "```"
   ]
  },
  {
   "cell_type": "markdown",
   "metadata": {},
   "source": [
    "## Matplotlib (http://matplotlib.org/)\n",
    "matplotlib is a python 2D plotting library which produces publication quality figures in a variety of hardcopy formats and interactive environments across platforms. matplotlib can be used in python scripts, the python and ipython shell (ala MATLAB®* or Mathematica®†), web application servers, and six graphical user interface toolkits.\n",
    "\n",
    "* http://www.labri.fr/perso/nrougier/teaching/matplotlib/matplotlib.html"
   ]
  },
  {
   "cell_type": "code",
   "execution_count": 223,
   "metadata": {
    "collapsed": true
   },
   "outputs": [],
   "source": [
    "%matplotlib inline\n",
    "import matplotlib.pyplot as plt"
   ]
  },
  {
   "cell_type": "code",
   "execution_count": 226,
   "metadata": {
    "collapsed": false
   },
   "outputs": [
    {
     "data": {
      "text/plain": [
       "[<matplotlib.lines.Line2D at 0x7f5a2fe936d0>]"
      ]
     },
     "execution_count": 226,
     "metadata": {},
     "output_type": "execute_result"
    },
    {
     "data": {
      "image/png": "[encoded data removed]",
      "text/plain": [
       "<matplotlib.figure.Figure at 0x7f5a2fe93890>"
      ]
     },
     "metadata": {},
     "output_type": "display_data"
    }
   ],
   "source": [
    "X=np.linspace(0,7)\n",
    "plt.plot(X,X**2)\n",
    "plt.plot(X,X)"
   ]
  },
  {
   "cell_type": "code",
   "execution_count": 303,
   "metadata": {
    "collapsed": false
   },
   "outputs": [
    {
     "data": {
      "text/plain": [
       "<matplotlib.image.AxesImage at 0x7f5a30ae9e10>"
      ]
     },
     "execution_count": 303,
     "metadata": {},
     "output_type": "execute_result"
    },
    {
     "data": {
      "image/png": "[encoded data removed]",
      "text/plain": [
       "<matplotlib.figure.Figure at 0x7f5a3177bd10>"
      ]
     },
     "metadata": {},
     "output_type": "display_data"
    }
   ],
   "source": [
    "X=np.linspace(-1.5,1.5,2000)\n",
    "Y=np.linspace(-2,2,2000)\n",
    "X,Y=np.meshgrid(X,Y)\n",
    "c=X+1J*Y\n",
    "ms=c*0.\n",
    "z=ms\n",
    "\n",
    "for i in range(20):\n",
    "    z=z**2+c\n",
    "ms=np.abs(z)<50\n",
    "plt.imshow(np.abs(ms))"
   ]
  },
  {
   "cell_type": "markdown",
   "metadata": {},
   "source": [
    "## Pandas (http://pandas.pydata.org/)\n",
    "pandas is an open source, BSD-licensed library providing high-performance, easy-to-use data structures and data analysis tools for the Python programming language.\n",
    "\n",
    "```python\n",
    "import pandas as pd\n",
    "```"
   ]
  },
  {
   "cell_type": "markdown",
   "metadata": {},
   "source": [
    "## Sympy (http://www.sympy.org/)\n",
    "SymPy is a Python library for symbolic mathematics. It aims to become a full-featured computer algebra system (CAS) while keeping the code as simple as possible in order to be comprehensible and easily extensible. SymPy is written entirely in Python. \n",
    "```python\n",
    "import sympy as sm\n",
    "sm.init_printing()\n",
    "```\n",
    "\n"
   ]
  },
  {
   "cell_type": "markdown",
   "metadata": {},
   "source": [
    "## Jupyter Notebook (iPython)\n",
    "The Jupyter Notebook is a web application that allows you to create and share documents that contain live code, equations, visualizations and explanatory text. \n",
    "\n",
    "### Code cell\n",
    "παρακάτω\n",
    "### Markdown Cell\n",
    "* Latex support\n",
    "$$\n",
    "    \\begin{equation} \n",
    "    \\rho \\left(\\frac{\\partial u_x}{\\partial t} + u_x \\frac{\\partial u_x}{\\partial x} + u_y \\frac{\\partial u_x}{\\partial y} + u_z \\frac{\\partial u_x}{\\partial z}\\right) = -\\frac{\\partial p}{\\partial x} + \\mu \\left(\\frac{\\partial^2 u_x}{\\partial x^2} + \\frac{\\partial^2 u_x}{\\partial y^2} + \\frac{\\partial^2 u_x}{\\partial z^2}\\right) - \\mu \\frac{\\partial}{\\partial x} \\left( \\frac{\\partial u_x}{\\partial x} + \\frac{\\partial u_y}{\\partial y} + \\frac{\\partial u_z}{\\partial z} \\right) + \\rho g_x \n",
    "    \\end{equation}\n",
    "$$\n",
    "\n",
    "### Rich Display System\n",
    "```python\n",
    "from IPython.display import display, Image,YouTubeVideo\n",
    "\n",
    "```\n",
    "### Magic\n",
    "``` python\n",
    "%magic\n",
    "%lsmagic\n",
    "```"
   ]
  },
  {
   "cell_type": "code",
   "execution_count": null,
   "metadata": {
    "collapsed": true
   },
   "outputs": [],
   "source": []
  },
  {
   "cell_type": "code",
   "execution_count": 38,
   "metadata": {
    "collapsed": true
   },
   "outputs": [],
   "source": [
    "\n",
    "from mpl_toolkits.mplot3d import Axes3D\n",
    "import matplotlib.gridspec as gridspec\n",
    "import seaborn\n",
    "from tqdm import tqdm,tqdm_gui\n",
    "import sympy as sm\n",
    "import sympy.physics.vector as vc\n",
    "sm.init_printing()\n"
   ]
  },
  {
   "cell_type": "code",
   "execution_count": 12,
   "metadata": {
    "collapsed": false
   },
   "outputs": [],
   "source": [
    "%magic\n",
    "#%lsmagic"
   ]
  },
  {
   "cell_type": "code",
   "execution_count": 3,
   "metadata": {
    "collapsed": false
   },
   "outputs": [
    {
     "name": "stdout",
     "output_type": "stream",
     "text": [
      "IPython will make a temporary file named: /tmp/ipython_edit_ynRgq6/ipython_edit_EVSSYH.py\n"
     ]
    }
   ],
   "source": [
    "%edit"
   ]
  },
  {
   "cell_type": "code",
   "execution_count": 18,
   "metadata": {
    "collapsed": false
   },
   "outputs": [
    {
     "data": {
      "image/png": "[encoded data removed]",
      "text/latex": [
       "$$- \\frac{G M_\\odot}{r} + 0.5 p_{r}^{2} + \\frac{0.5 p_{u}^{2}}{r^{2}}$$"
      ],
      "text/plain": [
       "                            2\n",
       "  G⋅M_\\ȯ         2   0.5⋅pᵤ \n",
       "- ─────── + 0.5⋅pᵣ  + ───────\n",
       "     r                    2  \n",
       "                         r   "
      ]
     },
     "execution_count": 18,
     "metadata": {},
     "output_type": "execute_result"
    }
   ],
   "source": [
    "r,u,pr,pu,G,Ms,a,e=sm.symbols('r,u,p_r,p_u,G,M_\\odot,a,e')\n",
    "H=pr**2/2.+pu**2/(2.*r**2)-G*Ms/r\n",
    "H"
   ]
  },
  {
   "cell_type": "code",
   "execution_count": 49,
   "metadata": {
    "collapsed": false
   },
   "outputs": [
    {
     "data": {
      "image/png": "[encoded data removed]",
      "text/latex": [
       "$$\\left ( 1.0 p_{r}, \\quad \\frac{1.0 p_{u}}{r^{2}}, \\quad - \\frac{G M_\\odot}{r^{2}} + \\frac{1.0 p_{u}^{2}}{r^{3}}, \\quad 0\\right )$$"
      ],
      "text/plain": [
       "⎛                                  2   ⎞\n",
       "⎜        1.0⋅pᵤ    G⋅M_\\ȯ   1.0⋅pᵤ    ⎟\n",
       "⎜1.0⋅pᵣ, ──────, - ─────── + ───────, 0⎟\n",
       "⎜           2          2         3     ⎟\n",
       "⎝          r          r         r      ⎠"
      ]
     },
     "execution_count": 49,
     "metadata": {},
     "output_type": "execute_result"
    }
   ],
   "source": [
    "dotr=H.diff(pr)\n",
    "dotu=H.diff(pu)\n",
    "dotpr=-H.diff(r)\n",
    "dotpu=-H.diff(u)\n",
    "dotr,dotu,dotpr,dotpu"
   ]
  },
  {
   "cell_type": "code",
   "execution_count": 50,
   "metadata": {
    "collapsed": false
   },
   "outputs": [
    {
     "data": {
      "image/png": "[encoded data removed]",
      "text/latex": [
       "$$\\left ( a \\left(- e + 1.0\\right), \\quad 0.0, \\quad 0.0, \\quad \\sqrt{G M_\\odot a \\left(- e^{2} + 1.0\\right)}\\right )$$"
      ],
      "text/plain": [
       "⎛                           ________________________⎞\n",
       "⎜                          ╱           ⎛   2      ⎞ ⎟\n",
       "⎝a⋅(-e + 1.0), 0.0, 0.0, ╲╱  G⋅M_\\ȯ⋅a⋅⎝- e  + 1.0⎠ ⎠"
      ]
     },
     "execution_count": 50,
     "metadata": {},
     "output_type": "execute_result"
    }
   ],
   "source": [
    "pr0=0.\n",
    "u0=0.\n",
    "pu0=sm.sqrt(Ms*G*a*(1.-e**2))\n",
    "r0=a*(1.-e)\n",
    "r0,u0,pr0,pu0"
   ]
  },
  {
   "cell_type": "code",
   "execution_count": 78,
   "metadata": {
    "collapsed": true
   },
   "outputs": [],
   "source": [
    "C=0.0172**2\n",
    "dt=7. #χρονικό δίαστημα \n",
    "T=np.arange(0.,10.*365.25,dt) #Πίνακας χρόνων σε μέρες\n",
    "r_num=np.zeros(T.shape)\n",
    "u_num=np.zeros(T.shape)\n",
    "pr_num=np.zeros(T.shape)\n",
    "pu_num=np.zeros(T.shape)"
   ]
  },
  {
   "cell_type": "code",
   "execution_count": 79,
   "metadata": {
    "collapsed": false
   },
   "outputs": [],
   "source": [
    "sub1={G*Ms:C,a:1.0,e:0.0167}\n",
    "pr_num[0]=pr0\n",
    "pu_num[0]=pu0.subs(sub1)\n",
    "r_num[0]=r0.subs(sub1)\n",
    "u_num[0]=u0\n",
    "#r_num,u_num,pr_num,pu_num"
   ]
  },
  {
   "cell_type": "code",
   "execution_count": 80,
   "metadata": {
    "collapsed": false
   },
   "outputs": [
    {
     "data": {
      "image/png": "[encoded data removed]",
      "text/latex": [
       "$$0.9833$$"
      ],
      "text/plain": [
       "0.9833"
      ]
     },
     "execution_count": 80,
     "metadata": {},
     "output_type": "execute_result"
    }
   ],
   "source": [
    "r_num[0]"
   ]
  },
  {
   "cell_type": "code",
   "execution_count": 153,
   "metadata": {
    "collapsed": false
   },
   "outputs": [
    {
     "data": {
      "image/png": "[encoded data removed]",
      "text/latex": [
       "$$1.0 p_{r}$$"
      ],
      "text/plain": [
       "1.0⋅pᵣ"
      ]
     },
     "execution_count": 153,
     "metadata": {},
     "output_type": "execute_result"
    }
   ],
   "source": [
    "dotr#.subs(subs)"
   ]
  },
  {
   "cell_type": "code",
   "execution_count": 151,
   "metadata": {
    "collapsed": false
   },
   "outputs": [
    {
     "data": {
      "text/plain": [
       "array([  1.00000000e+01,   3.16227766e+10,   1.00000000e+20])"
      ]
     },
     "execution_count": 151,
     "metadata": {},
     "output_type": "execute_result"
    }
   ],
   "source": [
    "np.logspace(1.,20,3)"
   ]
  },
  {
   "cell_type": "code",
   "execution_count": 158,
   "metadata": {
    "collapsed": false
   },
   "outputs": [],
   "source": [
    "dr = sm.lambdify((r,u,pr,pu),dotr.subs(sub1),\"numpy\")\n",
    "du = sm.lambdify((r,u,pr,pu),dotu.subs(sub1),\"numpy\")\n",
    "dpr = sm.lambdify((r,u,pr,pu),dotpr.subs(sub1),\"numpy\")\n",
    "dpu = sm.lambdify((r,u,pr,pu),dotpu.subs(sub1),\"numpy\")"
   ]
  },
  {
   "cell_type": "code",
   "execution_count": 250,
   "metadata": {
    "collapsed": false
   },
   "outputs": [
    {
     "name": "stdout",
     "output_type": "stream",
     "text": [
      "0 0.001 1.74667969288e-06\n",
      "1 0.0035938136638 6.27810063802e-06\n",
      "2 0.0129154966501 2.25733173069e-05\n",
      "3 0.0464158883361 8.12679329436e-05\n",
      "4 0.16681005372 0.000293911798471\n",
      "5 0.599484250319 0.00108070386946\n",
      "6 2.15443469003 0.00422163657356\n",
      "7 7.74263682681 0.0206532855214\n",
      "8 27.8255940221 0.191190815418\n",
      "9 100.0 56.8616861388\n",
      "0 0.001 1.74667969288e-06\n",
      "1 0.0035938136638 6.27810063802e-06\n",
      "2 0.0129154966501 2.25733173069e-05\n",
      "3 0.0464158883361 8.12679329436e-05\n",
      "4 0.16681005372 0.000293911798471\n",
      "5 0.599484250319 0.00108070386946\n",
      "6 2.15443469003 0.00422163657356\n",
      "7 7.74263682681 0.0206532855214\n",
      "8 27.8255940221 0.191190815418\n",
      "9 100.0 56.8616861388\n",
      "0 0.001 1.74667969288e-06\n",
      "1 0.0035938136638 6.27810063802e-06\n",
      "2 0.0129154966501 2.25733173069e-05\n",
      "3 0.0464158883361 8.12679329436e-05\n",
      "4 0.16681005372 0.000293911798471\n",
      "5 0.599484250319 0.00108070386946\n",
      "6 2.15443469003 0.00422163657356\n",
      "7 7.74263682681 0.0206532855214\n",
      "8 27.8255940221 0.191190815418\n",
      "9 100.0 56.8616861388\n",
      "0 0.001 1.74667969288e-06\n",
      "1 0.0035938136638 6.27810063802e-06\n",
      "2 0.0129154966501 2.25733173069e-05\n",
      "3 0.0464158883361 8.12679329436e-05\n",
      "4 0.16681005372 0.000293911798471\n",
      "5 0.599484250319 0.00108070386946\n",
      "6 2.15443469003 0.00422163657356\n",
      "7 7.74263682681 0.0206532855214\n",
      "8 27.8255940221 0.191190815418\n",
      "9 100.0 56.8616861388\n",
      "1 loop, best of 3: 17 s per loop\n"
     ]
    }
   ],
   "source": [
    "dts=np.logspace(-3.,2.,10)\n",
    "error=[]\n",
    "for j,dt in enumerate(dts):\n",
    "    T=np.arange(0.,3.*365.25,dt)\n",
    "    r_num=np.zeros(T.shape)\n",
    "    u_num=np.zeros(T.shape)\n",
    "    pr_num=np.zeros(T.shape)\n",
    "    pu_num=np.zeros(T.shape)\n",
    "    pr_num[0]=pr0\n",
    "    pu_num[0]=pu0.subs(sub1)\n",
    "    r_num[0]=r0.subs(sub1)\n",
    "    u_num[0]=u0\n",
    "    for i,t in enumerate(T[1:]):\n",
    "        r_num[i+1]=r_num[i]+dt*dr(r_num[i],u_num[i],pr_num[i],pu_num[i])\n",
    "        u_num[i+1]=u_num[i]+dt*du(r_num[i],u_num[i],pr_num[i],pu_num[i])\n",
    "        pr_num[i+1]=pr_num[i]+dt*dpr(r_num[i],u_num[i],pr_num[i],pu_num[i])\n",
    "        pu_num[i+1]=pu_num[i]+dt*dpu(r_num[i],u_num[i],pr_num[i],pu_num[i])\n",
    "        \n",
    "    pis=u_num/(2.*np.pi)\n",
    "    ind=np.diff(pis.astype('int'))\n",
    "    ind=ind.astype('bool')\n",
    "    error.append(np.abs(r_num[np.insert(ind,0,'False')]-r_num[0])[-1])\n",
    "    print j,dt,error[j]"
   ]
  },
  {
   "cell_type": "code",
   "execution_count": 188,
   "metadata": {
    "collapsed": false
   },
   "outputs": [
    {
     "data": {
      "text/plain": [
       "<matplotlib.legend.Legend at 0x7f5a2fc638d0>"
      ]
     },
     "execution_count": 188,
     "metadata": {},
     "output_type": "execute_result"
    },
    {
     "data": {
      "image/png": "[encoded data removed]",
      "text/plain": [
       "<matplotlib.figure.Figure at 0x7f5a36865290>"
      ]
     },
     "metadata": {},
     "output_type": "display_data"
    }
   ],
   "source": [
    "x=r_num*np.cos(u_num)\n",
    "y=r_num*np.sin(u_num)\n",
    "\n",
    "#True Orbit\n",
    "ee=0.0167\n",
    "phi=np.linspace(0.,2.*np.pi,len(x))\n",
    "rr=(1.-ee**2)/(1.+ee*np.cos(phi))\n",
    "xx=rr*np.cos(phi)\n",
    "yy=rr*np.sin(phi)\n",
    "\n",
    "fig=plt.figure(figsize=(16,12))\n",
    "gs=gridspec.GridSpec(3,4)\n",
    "ax1=plt.subplot(gs[0:2,0:2])\n",
    "ax1.plot(x,y,label='Earth Orbit (numerical)')\n",
    "ax1.plot([0],[0],'o',label='Sun Position')\n",
    "ax1.axis(xmin=-1.3,xmax=1.3,ymin=-1.3,ymax=1.3)\n",
    "ax1.set_ylabel('Y Position (au)')\n",
    "ax1.set_xlabel('X Position (au)')\n",
    "ax1.plot(xx,yy,label='Earth Orbit (true)')\n",
    "ax1.legend(loc='best')\n",
    "ax2=plt.subplot(gs[2,:])\n",
    "#ax2.plot(T,vx,label='X Velocity')\n",
    "#ax2.plot(T,vy,label='Y Velocity')\n",
    "ax2.plot(T,np.abs(r_num-rr),label='Error')\n",
    "ax2.set_ylabel('Difference (au)')\n",
    "ax2.set_xlabel('Time (days)')\n",
    "ax2.legend(loc='best')"
   ]
  },
  {
   "cell_type": "code",
   "execution_count": 189,
   "metadata": {
    "collapsed": false
   },
   "outputs": [
    {
     "data": {
      "text/plain": [
       "[<matplotlib.lines.Line2D at 0x7f5a3634f9d0>]"
      ]
     },
     "execution_count": 189,
     "metadata": {},
     "output_type": "execute_result"
    },
    {
     "data": {
      "image/png": "[encoded data removed]",
      "text/plain": [
       "<matplotlib.figure.Figure at 0x7f5a3099cb10>"
      ]
     },
     "metadata": {},
     "output_type": "display_data"
    }
   ],
   "source": [
    "plt.loglog(dts,error)"
   ]
  },
  {
   "cell_type": "code",
   "execution_count": 140,
   "metadata": {
    "collapsed": false
   },
   "outputs": [
    {
     "name": "stderr",
     "output_type": "stream",
     "text": [
      "/usr/local/lib/python2.7/dist-packages/ipykernel/__main__.py:25: VisibleDeprecationWarning: boolean index did not match indexed array along dimension 0; dimension is 4 but corresponding boolean dimension is 3\n"
     ]
    },
    {
     "ename": "IndexError",
     "evalue": "index -1 is out of bounds for axis 0 with size 0",
     "output_type": "error",
     "traceback": [
      "\u001b[1;31m---------------------------------------------------------------------------\u001b[0m",
      "\u001b[1;31mIndexError\u001b[0m                                Traceback (most recent call last)",
      "\u001b[1;32m<ipython-input-140-eb73158a31d3>\u001b[0m in \u001b[0;36m<module>\u001b[1;34m()\u001b[0m\n\u001b[0;32m     23\u001b[0m     \u001b[0mind\u001b[0m\u001b[1;33m=\u001b[0m\u001b[0mind\u001b[0m\u001b[1;33m.\u001b[0m\u001b[0mastype\u001b[0m\u001b[1;33m(\u001b[0m\u001b[1;34m'bool'\u001b[0m\u001b[1;33m)\u001b[0m\u001b[1;33m\u001b[0m\u001b[0m\n\u001b[0;32m     24\u001b[0m     \u001b[0mr_num\u001b[0m\u001b[1;33m=\u001b[0m\u001b[0mr_num\u001b[0m\u001b[1;33m[\u001b[0m\u001b[1;36m0\u001b[0m\u001b[1;33m:\u001b[0m\u001b[1;33m]\u001b[0m\u001b[1;33m\u001b[0m\u001b[0m\n\u001b[1;32m---> 25\u001b[1;33m     \u001b[0merror\u001b[0m\u001b[1;33m.\u001b[0m\u001b[0mappend\u001b[0m\u001b[1;33m(\u001b[0m\u001b[0mnp\u001b[0m\u001b[1;33m.\u001b[0m\u001b[0mabs\u001b[0m\u001b[1;33m(\u001b[0m\u001b[0mr_num\u001b[0m\u001b[1;33m[\u001b[0m\u001b[0mind\u001b[0m\u001b[1;33m]\u001b[0m\u001b[1;33m-\u001b[0m\u001b[0mr_num\u001b[0m\u001b[1;33m[\u001b[0m\u001b[1;36m0\u001b[0m\u001b[1;33m]\u001b[0m\u001b[1;33m)\u001b[0m\u001b[1;33m[\u001b[0m\u001b[1;33m-\u001b[0m\u001b[1;36m1\u001b[0m\u001b[1;33m]\u001b[0m\u001b[1;33m)\u001b[0m\u001b[1;33m\u001b[0m\u001b[0m\n\u001b[0m\u001b[0;32m     26\u001b[0m     \u001b[1;31m#print j,dt,error[j]\u001b[0m\u001b[1;33m\u001b[0m\u001b[1;33m\u001b[0m\u001b[0m\n",
      "\u001b[1;31mIndexError\u001b[0m: index -1 is out of bounds for axis 0 with size 0"
     ]
    }
   ],
   "source": [
    "dts=np.arange(5.5,30,0.5)\n",
    "error=[]\n",
    "for j,dt in enumerate(dts):\n",
    "    T=np.arange(0.,3.*2.*np.pi,dt)\n",
    "    r_num=np.zeros(T.shape)\n",
    "    u_num=np.zeros(T.shape)\n",
    "    pr_num=np.zeros(T.shape)\n",
    "    pu_num=np.zeros(T.shape)\n",
    "    pr_num[0]=pr0\n",
    "    pu_num[0]=pu0.subs(sub1)\n",
    "    r_num[0]=r0.subs(sub1)\n",
    "    u_num[0]=u0\n",
    "    for i,t in enumerate(T[1:]):\n",
    "        subs={pr:pr_num[i],r:r_num[i],u:u_num[i],pu:pu_num[i],G*Ms:C,a:1.0,e:0.0167}\n",
    "\n",
    "        r_num[i+1]=r_num[i]+dt*dotr.subs(subs)\n",
    "        u_num[i+1]=u_num[i]+dt*dotu.subs(subs)\n",
    "        pr_num[i+1]=pr_num[i]+dt*dotpr.subs(subs)\n",
    "        pu_num[i+1]=pu_num[i]+dt*dotpu.subs(subs)\n",
    "        \n",
    "    pis=u_num/(2.*np.pi)\n",
    "    ind=np.diff(pis.astype('int'))\n",
    "    ind=ind.astype('bool')\n",
    "    r_num=r_num[0:]\n",
    "    error.append(np.abs(r_num[ind]-r_num[0])[-1])\n",
    "    #print j,dt,error[j]"
   ]
  },
  {
   "cell_type": "code",
   "execution_count": 141,
   "metadata": {
    "collapsed": false
   },
   "outputs": [
    {
     "data": {
      "text/plain": [
       "array([  0. ,   5.5,  11. ,  16.5])"
      ]
     },
     "execution_count": 141,
     "metadata": {},
     "output_type": "execute_result"
    }
   ],
   "source": [
    "T"
   ]
  },
  {
   "cell_type": "code",
   "execution_count": 171,
   "metadata": {
    "collapsed": false
   },
   "outputs": [
    {
     "data": {
      "text/plain": [
       "array([  0.9833    ,   1.14609896,   0.29276545,  57.84498614])"
      ]
     },
     "execution_count": 171,
     "metadata": {},
     "output_type": "execute_result"
    }
   ],
   "source": [
    "r_num[np.insert(ind,0,'False')]"
   ]
  }
 ],
 "metadata": {
  "kernelspec": {
   "display_name": "Python 2",
   "language": "python",
   "name": "python2"
  },
  "language_info": {
   "codemirror_mode": {
    "name": "ipython",
    "version": 2
   },
   "file_extension": ".py",
   "mimetype": "text/x-python",
   "name": "python",
   "nbconvert_exporter": "python",
   "pygments_lexer": "ipython2",
   "version": "2.7.10"
  }
 },
 "nbformat": 4,
 "nbformat_minor": 0
}
