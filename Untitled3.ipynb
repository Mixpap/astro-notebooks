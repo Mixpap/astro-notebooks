{
 "cells": [
  {
   "cell_type": "code",
   "execution_count": 18,
   "metadata": {
    "collapsed": false
   },
   "outputs": [],
   "source": []
  },
  {
   "cell_type": "code",
   "execution_count": 23,
   "metadata": {
    "collapsed": false
   },
   "outputs": [
    {
     "name": "stdout",
     "output_type": "stream",
     "text": [
      "1.30583099367 1.74902047221 0.212089736669 -0.66294603466 0.0640419631343 0.447059771055\n",
      "escaped\n",
      "0.0736250996476 0.385693177836 0.158324218961 0.20482317483 0.375110870924 0.69183859902\n",
      "0.385693177836 0.286836900574 0.20482317483 0.052404077465 0.69183859902 0.592964546608\n",
      "0.286836900574 -0.390955348767 0.052404077465 0.575275397612 0.592964546608 -0.265085766044\n",
      "-0.390955348767 1.20975985679 0.575275397612 -1.3959423194 -0.265085766044 -1.01699626577\n",
      "escaped\n",
      "0.0194443145088 -0.985056311364 -0.216756461516 0.0473722801032 0.572880474862 -0.372291160432\n",
      "escaped\n",
      "-0.458045958521 -0.349984183178 -0.0406146451414 -0.397284983023 -0.930405591005 -0.815839787341\n",
      "-0.349984183178 -0.359999561183 -0.397284983023 -0.314928816146 -0.815839787341 -0.847502705668\n",
      "-0.359999561183 -0.295798266851 -0.314928816146 -0.96045965617 -0.847502705668 -1.08713612328\n",
      "escaped\n"
     ]
    },
    {
     "data": {
      "text/plain": [
       "(array([ 2.,  0.,  0.,  0.,  0.,  1.,  0.,  2.,  0.,  1.]),\n",
       " array([ 0. ,  0.7,  1.4,  2.1,  2.8,  3.5,  4.2,  4.9,  5.6,  6.3,  7. ]),\n",
       " <a list of 10 Patch objects>)"
      ]
     },
     "execution_count": 23,
     "metadata": {},
     "output_type": "execute_result"
    },
    {
     "data": {
      "image/png": "[encoded data removed]",
      "text/plain": [
       "<matplotlib.figure.Figure at 0x7fa34ec75510>"
      ]
     },
     "metadata": {},
     "output_type": "display_data"
    }
   ],
   "source": [
    "import matplotlib.pyplot as plt\n",
    "import math\n",
    "import numpy as np\n",
    "import scipy\n",
    "import collections\n",
    "import random\n",
    "from scipy import interpolate\n",
    "from scipy.interpolate import spline\n",
    "from scipy.integrate import quad\n",
    "from scipy.optimize import curve_fit\n",
    "from matplotlib import rc\n",
    "from pylab import *\n",
    "plt.rcParams.update({'font.size':16})\n",
    "%matplotlib inline\n",
    "#αριθμός φωτονίων\n",
    "N=5\n",
    "#οπτικό βάθος\n",
    "t=0.8\n",
    "#αρχική θέση φωτονίου\n",
    "x0=0\n",
    "y0=0\n",
    "z0=0\n",
    "ns=0\n",
    "n_s=[]\n",
    "\n",
    "for n in range(1,N):\n",
    "    #πιθανότητα να φύγει το φωτόνιο υπό γωνία θ μέχρι θ+dθ \n",
    "    a=np.random.random()\n",
    "    costheta=1. - 2. * a\n",
    "    theta=np.arccos(costheta)\n",
    "    \n",
    "    #πιθανότητα να φύγει το φωτόνιο υπό γωνία φ μέχρι φ+dφ\n",
    "    b=np.random.random()\n",
    "    f=2*np.pi*b\n",
    "    \n",
    "    #συνημίτονα κατεύθυνσης-βρίσκουμε τη θέση του φωτονίου μέσα στη σφαίρα ακτίνας R=1\n",
    "    #θεωρώ u,v,w τις συντεταγμένες του φωτονίου που ξεκινάει από το κέντρο της σφαίρας 0(0,0,0)\n",
    "    R=1\n",
    "    u=R*np.sin(theta)*np.cos(f)\n",
    "    v=R*np.sin(theta)*np.sin(f)\n",
    "    w=R*np.cos(theta)\n",
    "    \n",
    "    #θέση φωτονίου\n",
    "    u1=x0+u\n",
    "    v1=y0+v\n",
    "    w1=z0+w\n",
    "    \n",
    "    #ελεύθερη διαδρομή φωτονίου\n",
    "    #πιθανότητα να κάνει μία ελεύθερη διαδρομή l το φωτόνιο\n",
    "    c=np.random.random()\n",
    "    l=-(1/t)*np.log(c)\n",
    "    \n",
    "    #συντεταγμένες μετά από διαδρομή l\n",
    "    x1=x0+u*l\n",
    "    y1=y0+v*l\n",
    "    z1=z0+w*l\n",
    "    \n",
    "    if x1**2 + y1**2 + z1**2 >= 1:\n",
    "        ns=ns\n",
    "        n_s.append(ns)\n",
    "    else: \n",
    "        ns=ns+1\n",
    "    \n",
    "    while True:\n",
    "        #διεύθυνση του φωτονίου μετά το σκεδασμό\n",
    "        d=np.random.random()\n",
    "        F=2*np.pi*d\n",
    "        \n",
    "        e=np.random.random()\n",
    "        cosTheta=1. - 2. * e\n",
    "        Theta=np.arccos(cosTheta)\n",
    "       \n",
    "        if 1. - w < 1.e-7:                     \n",
    "            u2 = np.sin(Theta)*np.cos(F)\n",
    "            v2 = np.sin(Theta)*np.sin(F)\n",
    "            w2 = np.cos(Theta)\n",
    "        elif 1. + w < 1.e-7:\n",
    "            u2 = -np.sin(Theta)*np.cos(F)\n",
    "            v2 = np.sin(Theta)*np.sin(F)\n",
    "            w2 = -np.cos(Theta)\n",
    "        else:\n",
    "            u2 = (u*w*np.sin(Theta)*np.cos(F))/(np.sqrt(1.-w**2.))-(v*np.sin(Theta)*np.sin(F))/(np.sqrt(1.-w**2.))+u*np.cos(Theta)\n",
    "            v2 = (v*w*np.sin(Theta)*np.cos(F))/(np.sqrt(1.-w**2.))+(u*np.sin(Theta)*np.sin(F))/(np.sqrt(1.-w**2.))+v*np.cos(Theta)\n",
    "            w2 =  w*np.cos(Theta)-np.sqrt(1.-w**2.)*np.sin(Theta)*np.cos(F)\n",
    "    \n",
    "        f=np.random.random()\n",
    "        l1=-(1/t)*np.log(f)\n",
    "        \n",
    "        #νέα θέση του φωτονίου\n",
    "        x2 = x1 + u2 * l1\n",
    "        y2 = y1 + v2 * l1\n",
    "        z2 = z1 + w2 * l1\n",
    "        print x1,x2,y1,y2,z1,z2\n",
    "        if x2**2. + y2**2. + z2**2. >= 1.:#Συνθήκη για να δραπετεύσει το φωτόνιο  \n",
    "            print 'escaped'\n",
    "            ns = ns\n",
    "            n_s.append(ns)\n",
    "            break\n",
    "        else: #συνθήκη για να δραπετεύσει το φωτόνιο \n",
    "            ns = ns + 1\n",
    "            u = u1\n",
    "            v = v1\n",
    "            w = w1\n",
    "            x1 = x2\n",
    "            y1 = y2\n",
    "            z1 = z2\n",
    "            \n",
    "plt.hist(n_s)"
   ]
  },
  {
   "cell_type": "code",
   "execution_count": 19,
   "metadata": {
    "collapsed": false
   },
   "outputs": [
    {
     "data": {
      "text/plain": [
       "(array([ 159.,  156.,  141.,  143.,  138.,  177.,  108.,  146.,  134.,  142.]),\n",
       " array([    0.,   110.,   220.,   330.,   440.,   550.,   660.,   770.,\n",
       "          880.,   990.,  1100.]),\n",
       " <a list of 10 Patch objects>)"
      ]
     },
     "execution_count": 19,
     "metadata": {},
     "output_type": "execute_result"
    },
    {
     "data": {
      "image/png": "[encoded data removed]",
      "text/plain": [
       "<matplotlib.figure.Figure at 0x7fa34ee2f9d0>"
      ]
     },
     "metadata": {},
     "output_type": "display_data"
    }
   ],
   "source": [
    "plt.hist(n_s)"
   ]
  },
  {
   "cell_type": "code",
   "execution_count": 11,
   "metadata": {
    "collapsed": false
   },
   "outputs": [
    {
     "data": {
      "text/plain": [
       "(500, 15)"
      ]
     },
     "execution_count": 11,
     "metadata": {},
     "output_type": "execute_result"
    }
   ],
   "source": [
    "vs_smooth.shape"
   ]
  }
 ],
 "metadata": {
  "kernelspec": {
   "display_name": "Python 2",
   "language": "python",
   "name": "python2"
  },
  "language_info": {
   "codemirror_mode": {
    "name": "ipython",
    "version": 2
   },
   "file_extension": ".py",
   "mimetype": "text/x-python",
   "name": "python",
   "nbconvert_exporter": "python",
   "pygments_lexer": "ipython2",
   "version": "2.7.12"
  }
 },
 "nbformat": 4,
 "nbformat_minor": 0
}
