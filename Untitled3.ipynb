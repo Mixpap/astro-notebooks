{
 "cells": [
  {
   "cell_type": "code",
   "execution_count": 3,
   "metadata": {
    "collapsed": true
   },
   "outputs": [],
   "source": [
    "%matplotlib inline\n",
    "import numpy as np\n",
    "import matplotlib.pyplot as plt\n",
    "import mpl_toolkits.mplot3d.axes3d as axes3d\n",
    "import seaborn\n",
    "import sympy as sm\n",
    "import sympy.physics.vector as vc\n",
    "sm.init_printing()"
   ]
  },
  {
   "cell_type": "markdown",
   "metadata": {},
   "source": [
    "Ο καταπέλτης απονήωσης είναι ένας μηχανισμός ο οποίος δίνει ταχύτητα στα αεροπλάνα πάνω\n",
    "στα αεροπλανοφόρα κι έτσι μπορούν να απονηώνονται χωρίς να χρειάζονται μεγάλο μήκος διαδρό-\n",
    "μου. Θέλουμε να μελετήσουμε την ευθύγραμμη οριζόντια κίνηση του αεροπλάνου πριν απονηωθεί.\n",
    "Το αεροπλάνο αρχικά βρίσκεται ακίνητο στην αρχή του άξονα κίνησης $x$. Εκτός του βάρους του\n",
    "$mg$, δέχεται την δύναμη από τον καταπέλτη $F_0(1 − x/\\beta)\\hat{x}$, δύναμη από τους κινητήρες $F_e\\hat{x}$, δύναμη αντίστασης αέρα $\\frac{1}{2} C_D\\rho S_D v^2 \\hat{x}$ και δύναμη ανύψωσης $\\frac{1}{2} C_L\\rho S_L v^2 \\hat{y}$ \n",
    "\n",
    "Στα παραπάνω $F_0$ και $F_e$ είναι θετικές σταθερές, $\\beta$ είναι το μήκος του διαδρόμου, $C_D$ και $C_L$ οι\n",
    "συντελεστές αντίστασης και ανύψωσης, $\\rho$ η πυκνότητα του αέρα, $S_D$ η επιφάνεια του αεροπλάνου\n",
    "κάθετα στην κίνηση, $S_L$ η επιφάνεια των φτερών και $v$ η ταχύτητα (το μέτρο της).\n",
    "\n",
    "(α) Ποια η επιτάχυνση σαν συνάρτηση θέσης και ταχύτητας; Ποια η μέγιστη τιμής της;"
   ]
  },
  {
   "cell_type": "code",
   "execution_count": 4,
   "metadata": {
    "collapsed": true
   },
   "outputs": [],
   "source": [
    "CD,CL,SD,SL,p,Fe,F0,b,m,g,t=sm.symbols('C_D,C_L,S_D,S_L,p,F_e,F_0,b,m,g,t', real=True, positive=True)\n",
    "x=sm.Function('x',real=True, positive=True)(t)\n",
    "y=sm.Function('y',real=True, positive=True)(t)"
   ]
  },
  {
   "cell_type": "code",
   "execution_count": 5,
   "metadata": {
    "collapsed": false
   },
   "outputs": [
    {
     "data": {
      "image/png": "[encoded data removed]",
      "text/latex": [
       "$$\\left[\\begin{matrix}x{\\left (t \\right )}\\\\y{\\left (t \\right )}\\end{matrix}\\right]$$"
      ],
      "text/plain": [
       "⎡x(t)⎤\n",
       "⎢    ⎥\n",
       "⎣y(t)⎦"
      ]
     },
     "execution_count": 5,
     "metadata": {},
     "output_type": "execute_result"
    }
   ],
   "source": [
    "r=sm.Matrix([[x],[y]])\n",
    "r"
   ]
  },
  {
   "cell_type": "code",
   "execution_count": 6,
   "metadata": {
    "collapsed": false
   },
   "outputs": [
    {
     "data": {
      "image/png": "[encoded data removed]",
      "text/latex": [
       "$$\\left[\\begin{matrix}\\frac{d}{d t} x{\\left (t \\right )}\\\\\\frac{d}{d t} y{\\left (t \\right )}\\end{matrix}\\right]$$"
      ],
      "text/plain": [
       "⎡d       ⎤\n",
       "⎢──(x(t))⎥\n",
       "⎢dt      ⎥\n",
       "⎢        ⎥\n",
       "⎢d       ⎥\n",
       "⎢──(y(t))⎥\n",
       "⎣dt      ⎦"
      ]
     },
     "execution_count": 6,
     "metadata": {},
     "output_type": "execute_result"
    }
   ],
   "source": [
    "v=sm.Matrix([[sm.diff(r[0],t)],[sm.diff(r[1],t)],])\n",
    "v"
   ]
  },
  {
   "cell_type": "code",
   "execution_count": 7,
   "metadata": {
    "collapsed": false
   },
   "outputs": [],
   "source": [
    "V=v.norm()\n",
    "V=v[0]"
   ]
  },
  {
   "cell_type": "code",
   "execution_count": 8,
   "metadata": {
    "collapsed": false
   },
   "outputs": [
    {
     "data": {
      "image/png": "[encoded data removed]",
      "text/latex": [
       "$$\\left[\\begin{matrix}\\frac{1}{m} \\left(- 0.5 C_{D} S_{D} p \\frac{d}{d t} x{\\left (t \\right )}^{2} + 1.0 F_{0} \\left(1.0 - \\frac{1}{b} x{\\left (t \\right )}\\right) + 1.0 F_{e}\\right)\\\\0\\end{matrix}\\right]$$"
      ],
      "text/plain": [
       "⎡    ⎛                          2                       ⎞⎤\n",
       "⎢    ⎜                ⎛d       ⎞       ⎛      x(t)⎞     ⎟⎥\n",
       "⎢1.0⋅⎜- 0.5⋅C_D⋅S_D⋅p⋅⎜──(x(t))⎟  + F₀⋅⎜1.0 - ────⎟ + Fₑ⎟⎥\n",
       "⎢    ⎝                ⎝dt      ⎠       ⎝       b  ⎠     ⎠⎥\n",
       "⎢────────────────────────────────────────────────────────⎥\n",
       "⎢                           m                            ⎥\n",
       "⎢                                                        ⎥\n",
       "⎣                           0                            ⎦"
      ]
     },
     "execution_count": 8,
     "metadata": {},
     "output_type": "execute_result"
    }
   ],
   "source": [
    "a=sm.Matrix([[sm.Float(1)/m *(-sm.Float(0.5)*CD*p*SD*V**2 +Fe+F0*(sm.Float(1)-x/b))],[0]])\n",
    "#             [sm.Float(1)/m *(sm.Float(0.5)*CL*p*SL*V**2-m*g)]])\n",
    "a"
   ]
  },
  {
   "cell_type": "code",
   "execution_count": 9,
   "metadata": {
    "collapsed": false
   },
   "outputs": [
    {
     "data": {
      "image/png": "[encoded data removed]",
      "text/latex": [
       "$$\\frac{1}{m} \\left(- 1.0 C_{D} S_{D} p \\frac{d}{d t} x{\\left (t \\right )} \\frac{d^{2}}{d t^{2}}  x{\\left (t \\right )} - \\frac{1.0 F_{0}}{b} \\frac{d}{d t} x{\\left (t \\right )}\\right) = 0$$"
      ],
      "text/plain": [
       "    ⎛                                        d       ⎞    \n",
       "    ⎜                           2         F₀⋅──(x(t))⎟    \n",
       "    ⎜                d         d             dt      ⎟    \n",
       "1.0⋅⎜- 1.0⋅C_D⋅S_D⋅p⋅──(x(t))⋅───(x(t)) - ───────────⎟    \n",
       "    ⎜                dt         2              b     ⎟    \n",
       "    ⎝                         dt                     ⎠    \n",
       "────────────────────────────────────────────────────── = 0\n",
       "                          m                               "
      ]
     },
     "execution_count": 9,
     "metadata": {},
     "output_type": "execute_result"
    }
   ],
   "source": [
    "eq1=sm.Eq(sm.diff(a[0],t))\n",
    "eq1"
   ]
  },
  {
   "cell_type": "code",
   "execution_count": 10,
   "metadata": {
    "collapsed": false
   },
   "outputs": [
    {
     "data": {
      "image/png": "[encoded data removed]",
      "text/latex": [
       "$$\\frac{1.0}{b m} \\left(C_{D} S_{D} b p \\frac{d^{2}}{d t^{2}}  x{\\left (t \\right )} + F_{0}\\right) \\frac{d}{d t} x{\\left (t \\right )} = 0$$"
      ],
      "text/plain": [
       "    ⎛              2           ⎞             \n",
       "    ⎜             d            ⎟ d           \n",
       "1.0⋅⎜C_D⋅S_D⋅b⋅p⋅───(x(t)) + F₀⎟⋅──(x(t))    \n",
       "    ⎜              2           ⎟ dt          \n",
       "    ⎝            dt            ⎠             \n",
       "───────────────────────────────────────── = 0\n",
       "                   b⋅m                       "
      ]
     },
     "execution_count": 10,
     "metadata": {},
     "output_type": "execute_result"
    }
   ],
   "source": [
    "sm.simplify(eq1)"
   ]
  },
  {
   "cell_type": "code",
   "execution_count": 11,
   "metadata": {
    "collapsed": false
   },
   "outputs": [
    {
     "data": {
      "image/png": "[encoded data removed]",
      "text/latex": [
       "$$C_{D} S_{D} b p \\frac{d^{2}}{d t^{2}}  x{\\left (t \\right )} + F_{0} = 0$$"
      ],
      "text/plain": [
       "              2               \n",
       "             d                \n",
       "C_D⋅S_D⋅b⋅p⋅───(x(t)) + F₀ = 0\n",
       "              2               \n",
       "            dt                "
      ]
     },
     "execution_count": 11,
     "metadata": {},
     "output_type": "execute_result"
    }
   ],
   "source": [
    "eq2=sm.Eq(CD*SD*b*p*sm.diff(x,t,2)+F0)\n",
    "eq2"
   ]
  },
  {
   "cell_type": "code",
   "execution_count": 12,
   "metadata": {
    "collapsed": false
   },
   "outputs": [],
   "source": [
    "xm=sm.dsolve(eq2).rhs"
   ]
  },
  {
   "cell_type": "code",
   "execution_count": 13,
   "metadata": {
    "collapsed": false
   },
   "outputs": [
    {
     "data": {
      "image/png": "[encoded data removed]",
      "text/latex": [
       "$$C_{1} + C_{2} t - \\frac{F_{0} t^{2}}{2 C_{D} S_{D} b p}$$"
      ],
      "text/plain": [
       "                    2    \n",
       "                F₀⋅t     \n",
       "C₁ + C₂⋅t - ─────────────\n",
       "            2⋅C_D⋅S_D⋅b⋅p"
      ]
     },
     "execution_count": 13,
     "metadata": {},
     "output_type": "execute_result"
    }
   ],
   "source": [
    "xm"
   ]
  },
  {
   "cell_type": "code",
   "execution_count": 14,
   "metadata": {
    "collapsed": false
   },
   "outputs": [
    {
     "data": {
      "image/png": "[encoded data removed]",
      "text/latex": [
       "$$C_{2} - \\frac{F_{0} t}{C_{D} S_{D} b p}$$"
      ],
      "text/plain": [
       "         F₀⋅t   \n",
       "C₂ - ───────────\n",
       "     C_D⋅S_D⋅b⋅p"
      ]
     },
     "execution_count": 14,
     "metadata": {},
     "output_type": "execute_result"
    }
   ],
   "source": [
    "Vm=sm.diff(xm,t)\n",
    "Vm"
   ]
  },
  {
   "cell_type": "code",
   "execution_count": 126,
   "metadata": {
    "collapsed": false
   },
   "outputs": [
    {
     "data": {
      "image/png": "[encoded data removed]",
      "text/latex": [
       "$$- \\frac{F_{0}}{C_{D} S_{D} b p}$$"
      ],
      "text/plain": [
       "    -F₀    \n",
       "───────────\n",
       "C_D⋅S_D⋅b⋅p"
      ]
     },
     "execution_count": 126,
     "metadata": {},
     "output_type": "execute_result"
    }
   ],
   "source": [
    "am=sm.diff(Vm,t)\n",
    "am"
   ]
  },
  {
   "cell_type": "code",
   "execution_count": 128,
   "metadata": {
    "collapsed": false
   },
   "outputs": [
    {
     "data": {
      "image/png": "[encoded data removed]",
      "text/latex": [
       "$$-1666.66666666667$$"
      ],
      "text/plain": [
       "-1666.66666666667"
      ]
     },
     "execution_count": 128,
     "metadata": {},
     "output_type": "execute_result"
    }
   ],
   "source": [
    "am.subs({F0:1e6,CD:0.05,SD:10.,b:100.,p:1.2})/10."
   ]
  }
 ],
 "metadata": {
  "kernelspec": {
   "display_name": "Python 2",
   "language": "python",
   "name": "python2"
  },
  "language_info": {
   "codemirror_mode": {
    "name": "ipython",
    "version": 2
   },
   "file_extension": ".py",
   "mimetype": "text/x-python",
   "name": "python",
   "nbconvert_exporter": "python",
   "pygments_lexer": "ipython2",
   "version": "2.7.12"
  }
 },
 "nbformat": 4,
 "nbformat_minor": 0
}
