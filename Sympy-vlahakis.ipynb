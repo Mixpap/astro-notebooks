{
 "cells": [
  {
   "cell_type": "code",
   "execution_count": 1,
   "metadata": {
    "collapsed": false
   },
   "outputs": [
    {
     "name": "stderr",
     "output_type": "stream",
     "text": [
      "/usr/local/lib/python2.7/dist-packages/matplotlib/__init__.py:872: UserWarning: axes.color_cycle is deprecated and replaced with axes.prop_cycle; please use the latter.\n",
      "  warnings.warn(self.msg_depr % (key, alt_key))\n"
     ]
    }
   ],
   "source": [
    "%matplotlib inline\n",
    "import numpy as np\n",
    "import numpy.random as rnd\n",
    "import matplotlib.pyplot as plt\n",
    "import seaborn"
   ]
  },
  {
   "cell_type": "code",
   "execution_count": 2,
   "metadata": {
    "collapsed": true
   },
   "outputs": [],
   "source": [
    "import sympy as sm\n",
    "import sympy.physics.vector as vc\n",
    "sm.init_printing()"
   ]
  },
  {
   "cell_type": "code",
   "execution_count": 3,
   "metadata": {
    "collapsed": false
   },
   "outputs": [],
   "source": [
    "q,w,r,c,R,h,t = sm.symbols('q,w,r,c,R,h,t',real=True)\n",
    "A=sm.symbols('A',nonnegative=True)"
   ]
  },
  {
   "cell_type": "code",
   "execution_count": 4,
   "metadata": {
    "collapsed": false
   },
   "outputs": [
    {
     "data": {
      "image/png": "[encoded data removed]",
      "text/latex": [
       "$$\\left ( \\left[\\begin{matrix}\\sin{\\left (h \\right )}\\\\0\\\\\\cos{\\left (h \\right )}\\end{matrix}\\right], \\quad \\left[\\begin{matrix}w^{2} \\cos{\\left (t w \\right )}\\\\w^{2} \\sin{\\left (t w \\right )}\\\\0\\end{matrix}\\right]\\right )$$"
      ],
      "text/plain": [
       "⎛          ⎡ 2         ⎤⎞\n",
       "⎜⎡sin(h)⎤, ⎢w ⋅cos(t⋅w)⎥⎟\n",
       "⎜⎢      ⎥  ⎢           ⎥⎟\n",
       "⎜⎢  0   ⎥  ⎢ 2         ⎥⎟\n",
       "⎜⎢      ⎥  ⎢w ⋅sin(t⋅w)⎥⎟\n",
       "⎜⎣cos(h)⎦  ⎢           ⎥⎟\n",
       "⎝          ⎣     0     ⎦⎠"
      ]
     },
     "execution_count": 4,
     "metadata": {},
     "output_type": "execute_result"
    }
   ],
   "source": [
    "n=sm.Matrix([[sm.sin(h)],[0],[sm.cos(h)]])\n",
    "a=sm.Matrix([[w**2 *sm.cos(w*t)],[w**2 *sm.sin(w*t)],[0]])\n",
    "n,a"
   ]
  },
  {
   "cell_type": "code",
   "execution_count": 5,
   "metadata": {
    "collapsed": false
   },
   "outputs": [
    {
     "data": {
      "image/png": "[encoded data removed]",
      "text/latex": [
       "$$\\left ( \\left[\\begin{matrix}- A \\cos^{2}{\\left (h \\right )} \\cos{\\left (t w \\right )}\\\\- A \\sin{\\left (t w \\right )}\\\\\\frac{A}{4} \\left(\\sin{\\left (2 h - t w \\right )} + \\sin{\\left (2 h + t w \\right )}\\right)\\end{matrix}\\right], \\quad \\frac{A}{4} \\sqrt{\\left(\\sin{\\left (2 h - t w \\right )} + \\sin{\\left (2 h + t w \\right )}\\right)^{2} + 16 \\sin^{2}{\\left (t w \\right )} + 16 \\cos^{4}{\\left (h \\right )} \\cos^{2}{\\left (t w \\right )}}\\right )$$"
      ],
      "text/plain": [
       "⎛                                            _________________________________\n",
       "⎜                                           ╱                                 \n",
       "⎜⎡              2                    ⎤  A⋅╲╱  (sin(2⋅h - t⋅w) + sin(2⋅h + t⋅w)\n",
       "⎜⎢        -A⋅cos (h)⋅cos(t⋅w)        ⎥, ──────────────────────────────────────\n",
       "⎜⎢                                   ⎥                                        \n",
       "⎜⎢            -A⋅sin(t⋅w)            ⎥                                        \n",
       "⎜⎢                                   ⎥                                        \n",
       "⎜⎢A⋅(sin(2⋅h - t⋅w) + sin(2⋅h + t⋅w))⎥                                        \n",
       "⎜⎢───────────────────────────────────⎥                                        \n",
       "⎝⎣                 4                 ⎦                                        \n",
       "\n",
       "_________________________________________⎞\n",
       " 2         2              4       2      ⎟\n",
       ")  + 16⋅sin (t⋅w) + 16⋅cos (h)⋅cos (t⋅w) ⎟\n",
       "─────────────────────────────────────────⎟\n",
       " 4                                       ⎟\n",
       "                                         ⎟\n",
       "                                         ⎟\n",
       "                                         ⎟\n",
       "                                         ⎟\n",
       "                                         ⎠"
      ]
     },
     "execution_count": 5,
     "metadata": {},
     "output_type": "execute_result"
    }
   ],
   "source": [
    "E=(q/(c**2 *R))*n.cross(n.cross(a))\n",
    "E.simplify()\n",
    "E=E.subs(q*w**2/(c**2 *R),A)\n",
    "E,E.norm().simplify()"
   ]
  },
  {
   "cell_type": "code",
   "execution_count": 6,
   "metadata": {
    "collapsed": false
   },
   "outputs": [
    {
     "data": {
      "image/png": "[encoded data removed]",
      "text/latex": [
       "$$\\left ( \\left[\\begin{matrix}A \\sin{\\left (t w \\right )} \\cos{\\left (h \\right )}\\\\- A \\cos{\\left (h \\right )} \\cos{\\left (t w \\right )}\\\\- A \\sin{\\left (h \\right )} \\sin{\\left (t w \\right )}\\end{matrix}\\right], \\quad A \\sqrt{\\sin^{2}{\\left (h \\right )} \\sin^{2}{\\left (t w \\right )} - \\sin^{2}{\\left (h \\right )} + 1}\\right )$$"
      ],
      "text/plain": [
       "⎛                           _________________________________⎞\n",
       "⎜                          ╱    2       2           2        ⎟\n",
       "⎜⎡A⋅sin(t⋅w)⋅cos(h) ⎤, A⋅╲╱  sin (h)⋅sin (t⋅w) - sin (h) + 1 ⎟\n",
       "⎜⎢                  ⎥                                        ⎟\n",
       "⎜⎢-A⋅cos(h)⋅cos(t⋅w)⎥                                        ⎟\n",
       "⎜⎢                  ⎥                                        ⎟\n",
       "⎝⎣-A⋅sin(h)⋅sin(t⋅w)⎦                                        ⎠"
      ]
     },
     "execution_count": 6,
     "metadata": {},
     "output_type": "execute_result"
    }
   ],
   "source": [
    "B=n.cross(E)\n",
    "B.simplify()\n",
    "B,B.norm().trigsimp()"
   ]
  },
  {
   "cell_type": "code",
   "execution_count": 7,
   "metadata": {
    "collapsed": false
   },
   "outputs": [
    {
     "data": {
      "image/png": "[encoded data removed]",
      "text/latex": [
       "$$\\left ( \\left[\\begin{matrix}\\frac{\\left(A \\sin^{2}{\\left (h \\right )} \\sin{\\left (t w \\right )} + A \\sin{\\left (t w \\right )} \\cos^{2}{\\left (h \\right )}\\right) \\cos{\\left (h \\right )}}{\\sqrt{A^{2} \\sin^{2}{\\left (h \\right )} \\sin^{2}{\\left (t w \\right )} + A^{2} \\sin^{2}{\\left (t w \\right )} \\cos^{2}{\\left (h \\right )} + A^{2} \\cos^{2}{\\left (h \\right )} \\cos^{2}{\\left (t w \\right )}}}\\\\\\frac{- A \\sin^{2}{\\left (h \\right )} \\cos{\\left (h \\right )} \\cos{\\left (t w \\right )} - A \\cos^{3}{\\left (h \\right )} \\cos{\\left (t w \\right )}}{\\sqrt{A^{2} \\sin^{2}{\\left (h \\right )} \\sin^{2}{\\left (t w \\right )} + A^{2} \\sin^{2}{\\left (t w \\right )} \\cos^{2}{\\left (h \\right )} + A^{2} \\cos^{2}{\\left (h \\right )} \\cos^{2}{\\left (t w \\right )}}}\\\\- \\frac{\\left(A \\sin^{2}{\\left (h \\right )} \\sin{\\left (t w \\right )} + A \\sin{\\left (t w \\right )} \\cos^{2}{\\left (h \\right )}\\right) \\sin{\\left (h \\right )}}{\\sqrt{A^{2} \\sin^{2}{\\left (h \\right )} \\sin^{2}{\\left (t w \\right )} + A^{2} \\sin^{2}{\\left (t w \\right )} \\cos^{2}{\\left (h \\right )} + A^{2} \\cos^{2}{\\left (h \\right )} \\cos^{2}{\\left (t w \\right )}}}\\end{matrix}\\right], \\quad \\left[\\begin{matrix}- \\frac{A \\cos^{2}{\\left (h \\right )} \\cos{\\left (t w \\right )}}{\\sqrt{A^{2} \\sin^{2}{\\left (h \\right )} \\sin^{2}{\\left (t w \\right )} + A^{2} \\sin^{2}{\\left (t w \\right )} \\cos^{2}{\\left (h \\right )} + A^{2} \\cos^{2}{\\left (h \\right )} \\cos^{2}{\\left (t w \\right )}}}\\\\\\frac{- A \\sin^{2}{\\left (h \\right )} \\sin{\\left (t w \\right )} - A \\sin{\\left (t w \\right )} \\cos^{2}{\\left (h \\right )}}{\\sqrt{A^{2} \\sin^{2}{\\left (h \\right )} \\sin^{2}{\\left (t w \\right )} + A^{2} \\sin^{2}{\\left (t w \\right )} \\cos^{2}{\\left (h \\right )} + A^{2} \\cos^{2}{\\left (h \\right )} \\cos^{2}{\\left (t w \\right )}}}\\\\\\frac{A \\sin{\\left (h \\right )} \\cos{\\left (h \\right )} \\cos{\\left (t w \\right )}}{\\sqrt{A^{2} \\sin^{2}{\\left (h \\right )} \\sin^{2}{\\left (t w \\right )} + A^{2} \\sin^{2}{\\left (t w \\right )} \\cos^{2}{\\left (h \\right )} + A^{2} \\cos^{2}{\\left (h \\right )} \\cos^{2}{\\left (t w \\right )}}}\\end{matrix}\\right]\\right )$$"
      ],
      "text/plain": [
       "⎛⎡            ⎛     2                             2   ⎞                  ⎤  ⎡ \n",
       "⎜⎢            ⎝A⋅sin (h)⋅sin(t⋅w) + A⋅sin(t⋅w)⋅cos (h)⎠⋅cos(h)           ⎥  ⎢ \n",
       "⎜⎢───────────────────────────────────────────────────────────────────────⎥, ⎢─\n",
       "⎜⎢   ____________________________________________________________________⎥  ⎢ \n",
       "⎜⎢  ╱  2    2       2         2    2         2       2    2       2      ⎥  ⎢ \n",
       "⎜⎢╲╱  A ⋅sin (h)⋅sin (t⋅w) + A ⋅sin (t⋅w)⋅cos (h) + A ⋅cos (h)⋅cos (t⋅w) ⎥  ⎢╲\n",
       "⎜⎢                                                                       ⎥  ⎢ \n",
       "⎜⎢                   2                           3                       ⎥  ⎢ \n",
       "⎜⎢            - A⋅sin (h)⋅cos(h)⋅cos(t⋅w) - A⋅cos (h)⋅cos(t⋅w)           ⎥  ⎢ \n",
       "⎜⎢───────────────────────────────────────────────────────────────────────⎥  ⎢─\n",
       "⎜⎢   ____________________________________________________________________⎥  ⎢ \n",
       "⎜⎢  ╱  2    2       2         2    2         2       2    2       2      ⎥  ⎢ \n",
       "⎜⎢╲╱  A ⋅sin (h)⋅sin (t⋅w) + A ⋅sin (t⋅w)⋅cos (h) + A ⋅cos (h)⋅cos (t⋅w) ⎥  ⎢╲\n",
       "⎜⎢                                                                       ⎥  ⎢ \n",
       "⎜⎢            ⎛     2                             2   ⎞                  ⎥  ⎢ \n",
       "⎜⎢           -⎝A⋅sin (h)⋅sin(t⋅w) + A⋅sin(t⋅w)⋅cos (h)⎠⋅sin(h)           ⎥  ⎢─\n",
       "⎜⎢───────────────────────────────────────────────────────────────────────⎥  ⎢ \n",
       "⎜⎢   ____________________________________________________________________⎥  ⎢ \n",
       "⎜⎢  ╱  2    2       2         2    2         2       2    2       2      ⎥  ⎣╲\n",
       "⎝⎣╲╱  A ⋅sin (h)⋅sin (t⋅w) + A ⋅sin (t⋅w)⋅cos (h) + A ⋅cos (h)⋅cos (t⋅w) ⎦    \n",
       "\n",
       "                               2                                      ⎤⎞\n",
       "                         -A⋅cos (h)⋅cos(t⋅w)                          ⎥⎟\n",
       "──────────────────────────────────────────────────────────────────────⎥⎟\n",
       "  ____________________________________________________________________⎥⎟\n",
       " ╱  2    2       2         2    2         2       2    2       2      ⎥⎟\n",
       "╱  A ⋅sin (h)⋅sin (t⋅w) + A ⋅sin (t⋅w)⋅cos (h) + A ⋅cos (h)⋅cos (t⋅w) ⎥⎟\n",
       "                                                                      ⎥⎟\n",
       "                     2                             2                  ⎥⎟\n",
       "              - A⋅sin (h)⋅sin(t⋅w) - A⋅sin(t⋅w)⋅cos (h)               ⎥⎟\n",
       "──────────────────────────────────────────────────────────────────────⎥⎟\n",
       "  ____________________________________________________________________⎥⎟\n",
       " ╱  2    2       2         2    2         2       2    2       2      ⎥⎟\n",
       "╱  A ⋅sin (h)⋅sin (t⋅w) + A ⋅sin (t⋅w)⋅cos (h) + A ⋅cos (h)⋅cos (t⋅w) ⎥⎟\n",
       "                                                                      ⎥⎟\n",
       "                       A⋅sin(h)⋅cos(h)⋅cos(t⋅w)                       ⎥⎟\n",
       "──────────────────────────────────────────────────────────────────────⎥⎟\n",
       "  ____________________________________________________________________⎥⎟\n",
       " ╱  2    2       2         2    2         2       2    2       2      ⎥⎟\n",
       "╱  A ⋅sin (h)⋅sin (t⋅w) + A ⋅sin (t⋅w)⋅cos (h) + A ⋅cos (h)⋅cos (t⋅w) ⎦⎟\n",
       "                                                                       ⎠"
      ]
     },
     "execution_count": 7,
     "metadata": {},
     "output_type": "execute_result"
    }
   ],
   "source": [
    "e1 = n.cross(B).cross(n)/B.norm()\n",
    "e2 = B.cross(n)/B.norm()\n",
    "e1,e2"
   ]
  },
  {
   "cell_type": "code",
   "execution_count": 8,
   "metadata": {
    "collapsed": false
   },
   "outputs": [
    {
     "data": {
      "image/png": "[encoded data removed]",
      "text/latex": [
       "$$\\left[\\begin{matrix}\\frac{\\sin{\\left (t w \\right )} \\cos{\\left (h \\right )}}{\\sqrt{\\sin^{2}{\\left (h \\right )} \\sin^{2}{\\left (t w \\right )} - \\sin^{2}{\\left (h \\right )} + 1}}\\\\- \\frac{\\cos{\\left (h \\right )} \\cos{\\left (t w \\right )}}{\\sqrt{\\sin^{2}{\\left (h \\right )} \\sin^{2}{\\left (t w \\right )} - \\sin^{2}{\\left (h \\right )} + 1}}\\\\- \\frac{\\sin{\\left (h \\right )} \\sin{\\left (t w \\right )}}{\\sqrt{\\sin^{2}{\\left (h \\right )} \\sin^{2}{\\left (t w \\right )} - \\sin^{2}{\\left (h \\right )} + 1}}\\end{matrix}\\right]$$"
      ],
      "text/plain": [
       "⎡          sin(t⋅w)⋅cos(h)           ⎤\n",
       "⎢────────────────────────────────────⎥\n",
       "⎢   _________________________________⎥\n",
       "⎢  ╱    2       2           2        ⎥\n",
       "⎢╲╱  sin (h)⋅sin (t⋅w) - sin (h) + 1 ⎥\n",
       "⎢                                    ⎥\n",
       "⎢         -cos(h)⋅cos(t⋅w)           ⎥\n",
       "⎢────────────────────────────────────⎥\n",
       "⎢   _________________________________⎥\n",
       "⎢  ╱    2       2           2        ⎥\n",
       "⎢╲╱  sin (h)⋅sin (t⋅w) - sin (h) + 1 ⎥\n",
       "⎢                                    ⎥\n",
       "⎢         -sin(h)⋅sin(t⋅w)           ⎥\n",
       "⎢────────────────────────────────────⎥\n",
       "⎢   _________________________________⎥\n",
       "⎢  ╱    2       2           2        ⎥\n",
       "⎣╲╱  sin (h)⋅sin (t⋅w) - sin (h) + 1 ⎦"
      ]
     },
     "execution_count": 8,
     "metadata": {},
     "output_type": "execute_result"
    }
   ],
   "source": [
    "e1.simplify()\n",
    "e1"
   ]
  },
  {
   "cell_type": "code",
   "execution_count": 9,
   "metadata": {
    "collapsed": false
   },
   "outputs": [
    {
     "data": {
      "image/png": "[encoded data removed]",
      "text/latex": [
       "$$\\left[\\begin{matrix}\\frac{\\sqrt{A^{2} \\sin^{2}{\\left (h \\right )} \\sin^{2}{\\left (t w \\right )} + A^{2} \\sin^{2}{\\left (t w \\right )} \\cos^{2}{\\left (h \\right )} + A^{2} \\cos^{2}{\\left (h \\right )} \\cos^{2}{\\left (t w \\right )}}}{\\sqrt{\\sin^{2}{\\left (h \\right )} \\sin^{2}{\\left (t w \\right )} - \\sin^{2}{\\left (h \\right )} + 1}} \\sin{\\left (t w \\right )} \\cos{\\left (h \\right )}\\\\- \\frac{\\sqrt{A^{2} \\sin^{2}{\\left (h \\right )} \\sin^{2}{\\left (t w \\right )} + A^{2} \\sin^{2}{\\left (t w \\right )} \\cos^{2}{\\left (h \\right )} + A^{2} \\cos^{2}{\\left (h \\right )} \\cos^{2}{\\left (t w \\right )}}}{\\sqrt{\\sin^{2}{\\left (h \\right )} \\sin^{2}{\\left (t w \\right )} - \\sin^{2}{\\left (h \\right )} + 1}} \\cos{\\left (h \\right )} \\cos{\\left (t w \\right )}\\\\- \\frac{\\sqrt{A^{2} \\sin^{2}{\\left (h \\right )} \\sin^{2}{\\left (t w \\right )} + A^{2} \\sin^{2}{\\left (t w \\right )} \\cos^{2}{\\left (h \\right )} + A^{2} \\cos^{2}{\\left (h \\right )} \\cos^{2}{\\left (t w \\right )}}}{\\sqrt{\\sin^{2}{\\left (h \\right )} \\sin^{2}{\\left (t w \\right )} - \\sin^{2}{\\left (h \\right )} + 1}} \\sin{\\left (h \\right )} \\sin{\\left (t w \\right )}\\end{matrix}\\right]$$"
      ],
      "text/plain": [
       "⎡    ____________________________________________________________________     \n",
       "⎢   ╱  2    2       2         2    2         2       2    2       2           \n",
       "⎢ ╲╱  A ⋅sin (h)⋅sin (t⋅w) + A ⋅sin (t⋅w)⋅cos (h) + A ⋅cos (h)⋅cos (t⋅w) ⋅sin(\n",
       "⎢ ────────────────────────────────────────────────────────────────────────────\n",
       "⎢                              _________________________________              \n",
       "⎢                             ╱    2       2           2                      \n",
       "⎢                           ╲╱  sin (h)⋅sin (t⋅w) - sin (h) + 1               \n",
       "⎢                                                                             \n",
       "⎢    ____________________________________________________________________     \n",
       "⎢   ╱  2    2       2         2    2         2       2    2       2           \n",
       "⎢-╲╱  A ⋅sin (h)⋅sin (t⋅w) + A ⋅sin (t⋅w)⋅cos (h) + A ⋅cos (h)⋅cos (t⋅w) ⋅cos(\n",
       "⎢─────────────────────────────────────────────────────────────────────────────\n",
       "⎢                              _________________________________              \n",
       "⎢                             ╱    2       2           2                      \n",
       "⎢                           ╲╱  sin (h)⋅sin (t⋅w) - sin (h) + 1               \n",
       "⎢                                                                             \n",
       "⎢    ____________________________________________________________________     \n",
       "⎢   ╱  2    2       2         2    2         2       2    2       2           \n",
       "⎢-╲╱  A ⋅sin (h)⋅sin (t⋅w) + A ⋅sin (t⋅w)⋅cos (h) + A ⋅cos (h)⋅cos (t⋅w) ⋅sin(\n",
       "⎢─────────────────────────────────────────────────────────────────────────────\n",
       "⎢                              _________________________________              \n",
       "⎢                             ╱    2       2           2                      \n",
       "⎣                           ╲╱  sin (h)⋅sin (t⋅w) - sin (h) + 1               \n",
       "\n",
       "            ⎤\n",
       "            ⎥\n",
       "t⋅w)⋅cos(h) ⎥\n",
       "─────────── ⎥\n",
       "            ⎥\n",
       "            ⎥\n",
       "            ⎥\n",
       "            ⎥\n",
       "            ⎥\n",
       "            ⎥\n",
       "h)⋅cos(t⋅w) ⎥\n",
       "────────────⎥\n",
       "            ⎥\n",
       "            ⎥\n",
       "            ⎥\n",
       "            ⎥\n",
       "            ⎥\n",
       "            ⎥\n",
       "h)⋅sin(t⋅w) ⎥\n",
       "────────────⎥\n",
       "            ⎥\n",
       "            ⎥\n",
       "            ⎦"
      ]
     },
     "execution_count": 9,
     "metadata": {},
     "output_type": "execute_result"
    }
   ],
   "source": [
    "e1*B.norm()"
   ]
  },
  {
   "cell_type": "code",
   "execution_count": 10,
   "metadata": {
    "collapsed": false
   },
   "outputs": [
    {
     "data": {
      "image/png": "[encoded data removed]",
      "text/latex": [
       "$$\\left ( 0, \\quad A \\sqrt{\\sin^{2}{\\left (h \\right )} \\sin^{2}{\\left (t w \\right )} - \\sin^{2}{\\left (h \\right )} + 1}\\right )$$"
      ],
      "text/plain": [
       "⎛        _________________________________⎞\n",
       "⎜       ╱    2       2           2        ⎟\n",
       "⎝0, A⋅╲╱  sin (h)⋅sin (t⋅w) - sin (h) + 1 ⎠"
      ]
     },
     "execution_count": 10,
     "metadata": {},
     "output_type": "execute_result"
    }
   ],
   "source": [
    "E1=E.dot(e1)\n",
    "E2=E.dot(e2)\n",
    "E1.simplify(),E2.simplify()"
   ]
  },
  {
   "cell_type": "code",
   "execution_count": 11,
   "metadata": {
    "collapsed": false
   },
   "outputs": [],
   "source": [
    "ed = (e1-e2)/sm.sqrt(2)\n",
    "eu = (e1+e2)/sm.sqrt(2)"
   ]
  },
  {
   "cell_type": "code",
   "execution_count": 12,
   "metadata": {
    "collapsed": true
   },
   "outputs": [],
   "source": [
    "Ed=E.dot(ed)\n",
    "Eu=E.dot(eu)"
   ]
  },
  {
   "cell_type": "code",
   "execution_count": 13,
   "metadata": {
    "collapsed": false
   },
   "outputs": [
    {
     "data": {
      "image/png": "[encoded data removed]",
      "text/latex": [
       "$$0$$"
      ],
      "text/plain": [
       "0"
      ]
     },
     "execution_count": 13,
     "metadata": {},
     "output_type": "execute_result"
    }
   ],
   "source": [
    "(Ed**2-Eu**2).simplify()"
   ]
  },
  {
   "cell_type": "code",
   "execution_count": 15,
   "metadata": {
    "collapsed": true
   },
   "outputs": [],
   "source": [
    "ecl=(e1-sm.I*e2)/sm.sqrt(2)\n",
    "ecr=(e1+sm.I*e2)/sm.sqrt(2)"
   ]
  },
  {
   "cell_type": "code",
   "execution_count": 16,
   "metadata": {
    "collapsed": true
   },
   "outputs": [],
   "source": [
    "Ecl=E.dot(ecl)\n",
    "Ecr=E.dot(ecr)"
   ]
  },
  {
   "cell_type": "code",
   "execution_count": 17,
   "metadata": {
    "collapsed": false
   },
   "outputs": [
    {
     "data": {
      "image/png": "[encoded data removed]",
      "text/latex": [
       "$$- \\frac{i A}{2} \\sqrt{2} \\sqrt{\\sin^{2}{\\left (h \\right )} \\sin^{2}{\\left (t w \\right )} - \\sin^{2}{\\left (h \\right )} + 1}$$"
      ],
      "text/plain": [
       "              _________________________________ \n",
       "   ___       ╱    2       2           2         \n",
       "-╲╱ 2 ⋅ⅈ⋅A⋅╲╱  sin (h)⋅sin (t⋅w) - sin (h) + 1  \n",
       "────────────────────────────────────────────────\n",
       "                       2                        "
      ]
     },
     "execution_count": 17,
     "metadata": {},
     "output_type": "execute_result"
    }
   ],
   "source": [
    "Ecl.simplify()"
   ]
  },
  {
   "cell_type": "code",
   "execution_count": 18,
   "metadata": {
    "collapsed": false
   },
   "outputs": [
    {
     "data": {
      "image/png": "[encoded data removed]",
      "text/latex": [
       "$$0$$"
      ],
      "text/plain": [
       "0"
      ]
     },
     "execution_count": 18,
     "metadata": {},
     "output_type": "execute_result"
    }
   ],
   "source": [
    "(Ecl**2-Ecr**2).simplify()"
   ]
  },
  {
   "cell_type": "code",
   "execution_count": 20,
   "metadata": {
    "collapsed": false
   },
   "outputs": [],
   "source": [
    "N = vc.ReferenceFrame('N')"
   ]
  },
  {
   "cell_type": "code",
   "execution_count": 21,
   "metadata": {
    "collapsed": false
   },
   "outputs": [
    {
     "data": {
      "text/plain": [
       "N"
      ]
     },
     "execution_count": 21,
     "metadata": {},
     "output_type": "execute_result"
    }
   ],
   "source": [
    "N"
   ]
  }
 ],
 "metadata": {
  "kernelspec": {
   "display_name": "Python 2",
   "language": "python",
   "name": "python2"
  },
  "language_info": {
   "codemirror_mode": {
    "name": "ipython",
    "version": 2
   },
   "file_extension": ".py",
   "mimetype": "text/x-python",
   "name": "python",
   "nbconvert_exporter": "python",
   "pygments_lexer": "ipython2",
   "version": "2.7.12"
  }
 },
 "nbformat": 4,
 "nbformat_minor": 0
}
