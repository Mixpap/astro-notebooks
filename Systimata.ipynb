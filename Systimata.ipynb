{
 "cells": [
  {
   "cell_type": "code",
   "execution_count": 69,
   "metadata": {
    "collapsed": true
   },
   "outputs": [],
   "source": [
    "%matplotlib inline\n",
    "import numpy as np\n",
    "import numpy.random as rnd\n",
    "import matplotlib.pyplot as plt\n",
    "from mpl_toolkits.mplot3d import Axes3D\n",
    "from matplotlib import rcParams\n",
    "import seaborn\n",
    "from tqdm import tqdm,tqdm_gui\n",
    "from scipy.optimize import curve_fit\n",
    "import sympy as sm\n",
    "rcParams['figure.figsize'] = (12.0, 7.0)\n",
    "import prettytable as pt"
   ]
  },
  {
   "cell_type": "code",
   "execution_count": 136,
   "metadata": {
    "collapsed": true
   },
   "outputs": [],
   "source": [
    "A = np.array([[10., -1., 2., 0.],\n",
    "              [-1., 11., -1., 3.],\n",
    "              [2., -1., 10., -1.],\n",
    "              [0.0, 3., -1., 8.]])\n",
    "b = np.array([6., 25., -11., 15.])\n",
    "#Αρχικές τιμές X\n",
    "x = np.zeros_like(b)\n",
    "e=1e-3"
   ]
  },
  {
   "cell_type": "code",
   "execution_count": 114,
   "metadata": {
    "collapsed": false
   },
   "outputs": [],
   "source": [
    "def GEPP(A, b):\n",
    "    '''\n",
    "    Gaussian elimination with partial pivoting.\n",
    "    % input: A is an n x n nonsingular matrix\n",
    "    %        b is an n x 1 vector\n",
    "    % output: x is the solution of Ax=b.\n",
    "    % post-condition: A and b have been modified. \n",
    "    '''\n",
    "    n =  len(A)\n",
    "    if b.size != n:\n",
    "        raise ValueError(\"Invalid argument: incompatible sizes between A & b.\", b.size, n)\n",
    "    # k represents the current pivot row. Since GE traverses the matrix in the upper \n",
    "    # right triangle, we also use k for indicating the k-th diagonal column index.\n",
    "    for k in xrange(n-1):\n",
    "        #Choose largest pivot element below (and including) k\n",
    "        maxindex = np.abs(A[k:,k]).argmax() + k\n",
    "        if A[maxindex, k] == 0:\n",
    "            raise ValueError(\"Matrix is singular.\")\n",
    "        #Swap rows\n",
    "        if maxindex != k:\n",
    "            A[[k,maxindex]] = A[[maxindex, k]]\n",
    "            b[[k,maxindex]] = b[[maxindex, k]]\n",
    "        for row in xrange(k+1, n):\n",
    "            multiplier = A[row][k]/A[k][k]\n",
    "            #the only one in this column since the rest are zero\n",
    "            A[row][k] = multiplier\n",
    "            for col in xrange(k + 1, n):\n",
    "                A[row][col] = A[row][col] - multiplier*A[k][col]\n",
    "            #Equation solution column\n",
    "            b[row] = b[row] - multiplier*b[k]\n",
    "    print A\n",
    "    print b\n",
    "    x = np.zeros(n)\n",
    "    k = n-1\n",
    "    x[k] = b[k]/A[k,k]\n",
    "    while k >= 0:\n",
    "        x[k] = (b[k] - np.dot(A[k,k+1:],x[k+1:]))/A[k,k]\n",
    "        k = k-1\n",
    "    return x"
   ]
  },
  {
   "cell_type": "code",
   "execution_count": 135,
   "metadata": {
    "collapsed": false
   },
   "outputs": [
    {
     "name": "stdout",
     "output_type": "stream",
     "text": [
      "[[  1.00000000e+01  -1.00000000e+00   2.00000000e+00   0.00000000e+00]\n",
      " [ -1.00000000e-19   1.08888889e+01  -7.77777778e-01   3.00000000e+00]\n",
      " [  2.00000000e-19   1.60571472e-19   9.49280465e+00  -7.64294003e-01]\n",
      " [  0.00000000e+00   5.94211875e-20   1.49831274e-19   7.02168421e+00]]\n",
      "[  6.          25.66666667 -10.32166341   6.32358481]\n"
     ]
    },
    {
     "data": {
      "text/plain": [
       "array([ 1.006615  ,  2.03653787, -1.01480608,  0.90057949])"
      ]
     },
     "execution_count": 135,
     "metadata": {},
     "output_type": "execute_result"
    }
   ],
   "source": [
    "GEPP(A,b)"
   ]
  },
  {
   "cell_type": "code",
   "execution_count": 96,
   "metadata": {
    "collapsed": false
   },
   "outputs": [
    {
     "name": "stdout",
     "output_type": "stream",
     "text": [
      "[ 1.00000836  2.00000117 -1.00000275  0.99999922]\n",
      "[ 1.00000067  2.00000002 -1.00000021  0.99999996]\n",
      "[ 1.00000004  1.99999999 -1.00000001  1.        ]\n",
      "[ 1.  2. -1.  1.]\n",
      "[ 1.  2. -1.  1.]\n",
      "[ 1.  2. -1.  1.]\n",
      "[ 1.  2. -1.  1.]\n",
      "[ 1.  2. -1.  1.]\n",
      "[ 1.  2. -1.  1.]\n",
      "[ 1.  2. -1.  1.]\n"
     ]
    }
   ],
   "source": [
    "for n in range(10):\n",
    "    temp=np.copy(x)\n",
    "    for i in range(A.shape[0]):\n",
    "        s=0.\n",
    "        for j in range(A.shape[1]):\n",
    "            if i<>j:\n",
    "                s=s+A[i,j]*x[j]            \n",
    "        x[i]=(b[i]-s)/A[i,i]\n",
    "    #if np.all(np.abs(temp-x)<e):\n",
    "    #    break\n",
    "    print x"
   ]
  },
  {
   "cell_type": "code",
   "execution_count": 30,
   "metadata": {
    "collapsed": true
   },
   "outputs": [],
   "source": [
    "def f(x): return x**2 *np.exp(x**3)-np.sin(x)"
   ]
  },
  {
   "cell_type": "code",
   "execution_count": 88,
   "metadata": {
    "collapsed": true
   },
   "outputs": [],
   "source": [
    "def df2(f,x,h): return (f(x+h)-f(x))/h\n",
    "def df3(f,x,h): return (-f(x-h)+f(x+h))/(2.*h)\n",
    "def df5(f,x,h): return (f(x-2.*h)-8.*f(x-h)+8.*f(x+h)-f(x+2.*h))/(12.*h)\n",
    "def ddf2(f,x,h): return (f(x+2.*h)-2.*f(x+h)+f(x))/h**2\n",
    "def ddf3(f,x,h): return (f(x-h)-2.*f(x)+f(x+h))/h**2\n",
    "def ddf5(f,x,h): return (-f(x+2.*h)+16.*f(x+h)-30.*f(x)+16.*f(x-h)-f(x-2.*h))"
   ]
  },
  {
   "cell_type": "code",
   "execution_count": 89,
   "metadata": {
    "collapsed": false
   },
   "outputs": [
    {
     "name": "stdout",
     "output_type": "stream",
     "text": [
      "+------+-------------------------+-------------------------+--------------------------+\n",
      "|  h   |    dx 2Point (error)    |    dx 3Point (error)    |    dx 5Point (error)     |\n",
      "+------+-------------------------+-------------------------+--------------------------+\n",
      "| 1.0  | 1.275100E+15 (4.77E+08) | 6.375499E+14 (2.38E+08) | -1.294120E+32 (4.84E+25) |\n",
      "| 0.1  | 6.864329E+06 (1.57E+00) | 4.104637E+06 (5.35E-01) | 1.439846E+06 (4.62E-01)  |\n",
      "| 0.01 | 2.902786E+06 (8.54E-02) | 2.686523E+06 (4.55E-03) | 2.674268E+06 (3.05E-05)  |\n",
      "+------+-------------------------+-------------------------+--------------------------+\n",
      "+------+-------------------------+-------------------------+--------------------------+\n",
      "|  h   |    ddx 2Point (error)   |    ddx 3Point (error)   |    ddx 5Point (error)    |\n",
      "+------+-------------------------+-------------------------+--------------------------+\n",
      "| 1.0  | 1.552944E+33 (3.60E+25) | 1.275100E+15 (2.96E+07) | -1.552944E+33 (3.60E+25) |\n",
      "| 0.1  | 3.302438E+08 (6.65E+00) | 5.519384E+07 (2.79E-01) | 4.320011E+06 (9.00E-01)  |\n",
      "| 0.01 | 5.125189E+07 (1.88E-01) | 4.325258E+07 (2.49E-03) | 5.177377E+04 (9.99E-01)  |\n",
      "+------+-------------------------+-------------------------+--------------------------+\n"
     ]
    }
   ],
   "source": [
    "x0=2.19\n",
    "d1=2.67435e6\n",
    "d2=4.3145e7\n",
    "tt1=pt.PrettyTable(['h','dx 2Point (error)','dx 3Point (error)','dx 5Point (error)'])\n",
    "tt2=pt.PrettyTable(['h','ddx 2Point (error)','ddx 3Point (error)','ddx 5Point (error)'])\n",
    "for h in [1.,0.1,0.01]:\n",
    "    tt1.add_row(['{}'.format(h),\n",
    "               '{:5E} ({:.2E})'.format(df2(f,x0,h),np.abs(df2(f,x0,h)-d1)/d1),\n",
    "               '{:5E} ({:.2E})'.format(df3(f,x0,h),np.abs(df3(f,x0,h)-d1)/d1),\n",
    "               '{:5E} ({:.2E})'.format(df5(f,x0,h),np.abs(df5(f,x0,h)-d1)/d1)\n",
    "              ])\n",
    "    tt2.add_row(['{}'.format(h),\n",
    "               '{:5E} ({:.2E})'.format(ddf2(f,x0,h),np.abs(ddf2(f,x0,h)-d2)/d2),\n",
    "               '{:5E} ({:.2E})'.format(ddf3(f,x0,h),np.abs(ddf3(f,x0,h)-d2)/d2),\n",
    "               '{:5E} ({:.2E})'.format(ddf5(f,x0,h),np.abs(ddf5(f,x0,h)-d2)/d2)\n",
    "              ])\n",
    "    #print '{} First Derivative 3Point {:5E} ({:.4f}),5Point {:5E} ({:.4f})'.format(h,df3(f,x0,h),np.abs(df3(f,x0,h)-d1)/d1,df5(f,x0,h),np.abs(df5(f,x0,h)-d1)/d1)\n",
    "    #print '{} Second Derivative 3Point {:5E} ({:.4f}),5Point {:5E} ({:.4f})'.format(h,ddf3(f,x0,h),np.abs(ddf3(f,x0,h)-d2)/d2,ddf5(f,x0,h),np.abs(ddf3(f,x0,h)-d2)/d2)\n",
    "print tt1\n",
    "print tt2"
   ]
  },
  {
   "cell_type": "code",
   "execution_count": null,
   "metadata": {
    "collapsed": true
   },
   "outputs": [],
   "source": []
  }
 ],
 "metadata": {
  "kernelspec": {
   "display_name": "Python 2",
   "language": "python",
   "name": "python2"
  },
  "language_info": {
   "codemirror_mode": {
    "name": "ipython",
    "version": 2
   },
   "file_extension": ".py",
   "mimetype": "text/x-python",
   "name": "python",
   "nbconvert_exporter": "python",
   "pygments_lexer": "ipython2",
   "version": "2.7.12+"
  }
 },
 "nbformat": 4,
 "nbformat_minor": 0
}
